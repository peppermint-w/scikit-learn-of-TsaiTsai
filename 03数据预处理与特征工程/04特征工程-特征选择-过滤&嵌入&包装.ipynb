{
 "cells": [
  {
   "cell_type": "markdown",
   "metadata": {},
   "source": [
    "## 特征工程"
   ]
  },
  {
   "cell_type": "markdown",
   "metadata": {},
   "source": [
    "特征工程第一步：理解业务"
   ]
  },
  {
   "cell_type": "markdown",
   "metadata": {},
   "source": [
    "### （一）特征提取"
   ]
  },
  {
   "cell_type": "markdown",
   "metadata": {},
   "source": [
    "从文字、图像、声音等其他非结构化数据中提取新信息作为特征。比如，从淘宝宝贝的名称中提取出产品类别，产品颜色，是否是网红产品等。"
   ]
  },
  {
   "cell_type": "markdown",
   "metadata": {},
   "source": [
    "### （二）特征创造（降维算法：见下章）"
   ]
  },
  {
   "cell_type": "markdown",
   "metadata": {},
   "source": [
    "把现有特征进行组合或相互计算，得到新的特征。比如，一列特征是速度，一列特征是距离，让两列相除获得通过距离所花的时间。"
   ]
  },
  {
   "cell_type": "markdown",
   "metadata": {},
   "source": [
    "### （三）特征选择（本章重点）"
   ]
  },
  {
   "cell_type": "markdown",
   "metadata": {},
   "source": [
    "从所有特征中，选择出有意义、对模型有帮助的特征，以避免必须将所有特征都导入模型去训练的情况。"
   ]
  },
  {
   "cell_type": "code",
   "execution_count": 1,
   "metadata": {},
   "outputs": [
    {
     "data": {
      "text/html": [
       "<div>\n",
       "<style scoped>\n",
       "    .dataframe tbody tr th:only-of-type {\n",
       "        vertical-align: middle;\n",
       "    }\n",
       "\n",
       "    .dataframe tbody tr th {\n",
       "        vertical-align: top;\n",
       "    }\n",
       "\n",
       "    .dataframe thead th {\n",
       "        text-align: right;\n",
       "    }\n",
       "</style>\n",
       "<table border=\"1\" class=\"dataframe\">\n",
       "  <thead>\n",
       "    <tr style=\"text-align: right;\">\n",
       "      <th></th>\n",
       "      <th>label</th>\n",
       "      <th>pixel0</th>\n",
       "      <th>pixel1</th>\n",
       "      <th>pixel2</th>\n",
       "      <th>pixel3</th>\n",
       "      <th>pixel4</th>\n",
       "      <th>pixel5</th>\n",
       "      <th>pixel6</th>\n",
       "      <th>pixel7</th>\n",
       "      <th>pixel8</th>\n",
       "      <th>...</th>\n",
       "      <th>pixel774</th>\n",
       "      <th>pixel775</th>\n",
       "      <th>pixel776</th>\n",
       "      <th>pixel777</th>\n",
       "      <th>pixel778</th>\n",
       "      <th>pixel779</th>\n",
       "      <th>pixel780</th>\n",
       "      <th>pixel781</th>\n",
       "      <th>pixel782</th>\n",
       "      <th>pixel783</th>\n",
       "    </tr>\n",
       "  </thead>\n",
       "  <tbody>\n",
       "    <tr>\n",
       "      <th>0</th>\n",
       "      <td>1</td>\n",
       "      <td>0</td>\n",
       "      <td>0</td>\n",
       "      <td>0</td>\n",
       "      <td>0</td>\n",
       "      <td>0</td>\n",
       "      <td>0</td>\n",
       "      <td>0</td>\n",
       "      <td>0</td>\n",
       "      <td>0</td>\n",
       "      <td>...</td>\n",
       "      <td>0</td>\n",
       "      <td>0</td>\n",
       "      <td>0</td>\n",
       "      <td>0</td>\n",
       "      <td>0</td>\n",
       "      <td>0</td>\n",
       "      <td>0</td>\n",
       "      <td>0</td>\n",
       "      <td>0</td>\n",
       "      <td>0</td>\n",
       "    </tr>\n",
       "    <tr>\n",
       "      <th>1</th>\n",
       "      <td>0</td>\n",
       "      <td>0</td>\n",
       "      <td>0</td>\n",
       "      <td>0</td>\n",
       "      <td>0</td>\n",
       "      <td>0</td>\n",
       "      <td>0</td>\n",
       "      <td>0</td>\n",
       "      <td>0</td>\n",
       "      <td>0</td>\n",
       "      <td>...</td>\n",
       "      <td>0</td>\n",
       "      <td>0</td>\n",
       "      <td>0</td>\n",
       "      <td>0</td>\n",
       "      <td>0</td>\n",
       "      <td>0</td>\n",
       "      <td>0</td>\n",
       "      <td>0</td>\n",
       "      <td>0</td>\n",
       "      <td>0</td>\n",
       "    </tr>\n",
       "    <tr>\n",
       "      <th>2</th>\n",
       "      <td>1</td>\n",
       "      <td>0</td>\n",
       "      <td>0</td>\n",
       "      <td>0</td>\n",
       "      <td>0</td>\n",
       "      <td>0</td>\n",
       "      <td>0</td>\n",
       "      <td>0</td>\n",
       "      <td>0</td>\n",
       "      <td>0</td>\n",
       "      <td>...</td>\n",
       "      <td>0</td>\n",
       "      <td>0</td>\n",
       "      <td>0</td>\n",
       "      <td>0</td>\n",
       "      <td>0</td>\n",
       "      <td>0</td>\n",
       "      <td>0</td>\n",
       "      <td>0</td>\n",
       "      <td>0</td>\n",
       "      <td>0</td>\n",
       "    </tr>\n",
       "    <tr>\n",
       "      <th>3</th>\n",
       "      <td>4</td>\n",
       "      <td>0</td>\n",
       "      <td>0</td>\n",
       "      <td>0</td>\n",
       "      <td>0</td>\n",
       "      <td>0</td>\n",
       "      <td>0</td>\n",
       "      <td>0</td>\n",
       "      <td>0</td>\n",
       "      <td>0</td>\n",
       "      <td>...</td>\n",
       "      <td>0</td>\n",
       "      <td>0</td>\n",
       "      <td>0</td>\n",
       "      <td>0</td>\n",
       "      <td>0</td>\n",
       "      <td>0</td>\n",
       "      <td>0</td>\n",
       "      <td>0</td>\n",
       "      <td>0</td>\n",
       "      <td>0</td>\n",
       "    </tr>\n",
       "    <tr>\n",
       "      <th>4</th>\n",
       "      <td>0</td>\n",
       "      <td>0</td>\n",
       "      <td>0</td>\n",
       "      <td>0</td>\n",
       "      <td>0</td>\n",
       "      <td>0</td>\n",
       "      <td>0</td>\n",
       "      <td>0</td>\n",
       "      <td>0</td>\n",
       "      <td>0</td>\n",
       "      <td>...</td>\n",
       "      <td>0</td>\n",
       "      <td>0</td>\n",
       "      <td>0</td>\n",
       "      <td>0</td>\n",
       "      <td>0</td>\n",
       "      <td>0</td>\n",
       "      <td>0</td>\n",
       "      <td>0</td>\n",
       "      <td>0</td>\n",
       "      <td>0</td>\n",
       "    </tr>\n",
       "  </tbody>\n",
       "</table>\n",
       "<p>5 rows × 785 columns</p>\n",
       "</div>"
      ],
      "text/plain": [
       "   label  pixel0  pixel1  pixel2  pixel3  pixel4  pixel5  pixel6  pixel7  \\\n",
       "0      1       0       0       0       0       0       0       0       0   \n",
       "1      0       0       0       0       0       0       0       0       0   \n",
       "2      1       0       0       0       0       0       0       0       0   \n",
       "3      4       0       0       0       0       0       0       0       0   \n",
       "4      0       0       0       0       0       0       0       0       0   \n",
       "\n",
       "   pixel8  ...  pixel774  pixel775  pixel776  pixel777  pixel778  pixel779  \\\n",
       "0       0  ...         0         0         0         0         0         0   \n",
       "1       0  ...         0         0         0         0         0         0   \n",
       "2       0  ...         0         0         0         0         0         0   \n",
       "3       0  ...         0         0         0         0         0         0   \n",
       "4       0  ...         0         0         0         0         0         0   \n",
       "\n",
       "   pixel780  pixel781  pixel782  pixel783  \n",
       "0         0         0         0         0  \n",
       "1         0         0         0         0  \n",
       "2         0         0         0         0  \n",
       "3         0         0         0         0  \n",
       "4         0         0         0         0  \n",
       "\n",
       "[5 rows x 785 columns]"
      ]
     },
     "execution_count": 1,
     "metadata": {},
     "output_type": "execute_result"
    }
   ],
   "source": [
    "#导入数据\n",
    "import pandas as pd\n",
    "data = pd.read_csv('04digit recognizor.csv')\n",
    "data.head()"
   ]
  },
  {
   "cell_type": "code",
   "execution_count": 2,
   "metadata": {},
   "outputs": [],
   "source": [
    "X = data.iloc[:,1:]\n",
    "y =data.iloc[:,0]"
   ]
  },
  {
   "cell_type": "code",
   "execution_count": 3,
   "metadata": {},
   "outputs": [
    {
     "data": {
      "text/plain": [
       "(42000, 784)"
      ]
     },
     "execution_count": 3,
     "metadata": {},
     "output_type": "execute_result"
    }
   ],
   "source": [
    "X.shape"
   ]
  },
  {
   "cell_type": "markdown",
   "metadata": {},
   "source": [
    "## 一、Filter过滤法"
   ]
  },
  {
   "cell_type": "markdown",
   "metadata": {},
   "source": [
    "过滤方法通常用作预处理步骤，特征选择完全独立于任何机器学习算法。它是根据各种**统计检验中的分数**以及**相关性的各项指标**来选择特征。"
   ]
  },
  {
   "cell_type": "markdown",
   "metadata": {},
   "source": [
    "全部特征→最佳特征子集→算法→模型评估"
   ]
  },
  {
   "cell_type": "markdown",
   "metadata": {},
   "source": [
    "### （一）方差过滤：优先消除方差为0或很小的特征"
   ]
  },
  {
   "cell_type": "markdown",
   "metadata": {},
   "source": [
    "如果一个特征本身的方差很小，那这个特征对于样本区分没有什么作用。"
   ]
  },
  {
   "cell_type": "markdown",
   "metadata": {},
   "source": [
    "**1.sklearn.feature_selection.VarianceThreshold**"
   ]
  },
  {
   "cell_type": "code",
   "execution_count": 4,
   "metadata": {},
   "outputs": [],
   "source": [
    "from sklearn.feature_selection import VarianceThreshold"
   ]
  },
  {
   "cell_type": "markdown",
   "metadata": {},
   "source": [
    "（1）阈值threshold是0（默认）：删掉了784-708个特征"
   ]
  },
  {
   "cell_type": "code",
   "execution_count": 5,
   "metadata": {},
   "outputs": [
    {
     "data": {
      "text/plain": [
       "(42000, 708)"
      ]
     },
     "execution_count": 5,
     "metadata": {},
     "output_type": "execute_result"
    }
   ],
   "source": [
    "selector = VarianceThreshold() #实例化，不填参数默认方差为0\n",
    "X_var0 = selector.fit_transform(X) #获取删除不合格特征之后的新特征矩阵\n",
    "X_var0.shape"
   ]
  },
  {
   "cell_type": "code",
   "execution_count": 6,
   "metadata": {},
   "outputs": [
    {
     "data": {
      "text/html": [
       "<div>\n",
       "<style scoped>\n",
       "    .dataframe tbody tr th:only-of-type {\n",
       "        vertical-align: middle;\n",
       "    }\n",
       "\n",
       "    .dataframe tbody tr th {\n",
       "        vertical-align: top;\n",
       "    }\n",
       "\n",
       "    .dataframe thead th {\n",
       "        text-align: right;\n",
       "    }\n",
       "</style>\n",
       "<table border=\"1\" class=\"dataframe\">\n",
       "  <thead>\n",
       "    <tr style=\"text-align: right;\">\n",
       "      <th></th>\n",
       "      <th>0</th>\n",
       "      <th>1</th>\n",
       "      <th>2</th>\n",
       "      <th>3</th>\n",
       "      <th>4</th>\n",
       "      <th>5</th>\n",
       "      <th>6</th>\n",
       "      <th>7</th>\n",
       "      <th>8</th>\n",
       "      <th>9</th>\n",
       "      <th>...</th>\n",
       "      <th>698</th>\n",
       "      <th>699</th>\n",
       "      <th>700</th>\n",
       "      <th>701</th>\n",
       "      <th>702</th>\n",
       "      <th>703</th>\n",
       "      <th>704</th>\n",
       "      <th>705</th>\n",
       "      <th>706</th>\n",
       "      <th>707</th>\n",
       "    </tr>\n",
       "  </thead>\n",
       "  <tbody>\n",
       "    <tr>\n",
       "      <th>0</th>\n",
       "      <td>0</td>\n",
       "      <td>0</td>\n",
       "      <td>0</td>\n",
       "      <td>0</td>\n",
       "      <td>0</td>\n",
       "      <td>0</td>\n",
       "      <td>0</td>\n",
       "      <td>0</td>\n",
       "      <td>0</td>\n",
       "      <td>0</td>\n",
       "      <td>...</td>\n",
       "      <td>0</td>\n",
       "      <td>0</td>\n",
       "      <td>0</td>\n",
       "      <td>0</td>\n",
       "      <td>0</td>\n",
       "      <td>0</td>\n",
       "      <td>0</td>\n",
       "      <td>0</td>\n",
       "      <td>0</td>\n",
       "      <td>0</td>\n",
       "    </tr>\n",
       "    <tr>\n",
       "      <th>1</th>\n",
       "      <td>0</td>\n",
       "      <td>0</td>\n",
       "      <td>0</td>\n",
       "      <td>0</td>\n",
       "      <td>0</td>\n",
       "      <td>0</td>\n",
       "      <td>0</td>\n",
       "      <td>0</td>\n",
       "      <td>0</td>\n",
       "      <td>0</td>\n",
       "      <td>...</td>\n",
       "      <td>0</td>\n",
       "      <td>0</td>\n",
       "      <td>0</td>\n",
       "      <td>0</td>\n",
       "      <td>0</td>\n",
       "      <td>0</td>\n",
       "      <td>0</td>\n",
       "      <td>0</td>\n",
       "      <td>0</td>\n",
       "      <td>0</td>\n",
       "    </tr>\n",
       "    <tr>\n",
       "      <th>2</th>\n",
       "      <td>0</td>\n",
       "      <td>0</td>\n",
       "      <td>0</td>\n",
       "      <td>0</td>\n",
       "      <td>0</td>\n",
       "      <td>0</td>\n",
       "      <td>0</td>\n",
       "      <td>0</td>\n",
       "      <td>0</td>\n",
       "      <td>0</td>\n",
       "      <td>...</td>\n",
       "      <td>0</td>\n",
       "      <td>0</td>\n",
       "      <td>0</td>\n",
       "      <td>0</td>\n",
       "      <td>0</td>\n",
       "      <td>0</td>\n",
       "      <td>0</td>\n",
       "      <td>0</td>\n",
       "      <td>0</td>\n",
       "      <td>0</td>\n",
       "    </tr>\n",
       "    <tr>\n",
       "      <th>3</th>\n",
       "      <td>0</td>\n",
       "      <td>0</td>\n",
       "      <td>0</td>\n",
       "      <td>0</td>\n",
       "      <td>0</td>\n",
       "      <td>0</td>\n",
       "      <td>0</td>\n",
       "      <td>0</td>\n",
       "      <td>0</td>\n",
       "      <td>0</td>\n",
       "      <td>...</td>\n",
       "      <td>0</td>\n",
       "      <td>0</td>\n",
       "      <td>0</td>\n",
       "      <td>0</td>\n",
       "      <td>0</td>\n",
       "      <td>0</td>\n",
       "      <td>0</td>\n",
       "      <td>0</td>\n",
       "      <td>0</td>\n",
       "      <td>0</td>\n",
       "    </tr>\n",
       "    <tr>\n",
       "      <th>4</th>\n",
       "      <td>0</td>\n",
       "      <td>0</td>\n",
       "      <td>0</td>\n",
       "      <td>0</td>\n",
       "      <td>0</td>\n",
       "      <td>0</td>\n",
       "      <td>0</td>\n",
       "      <td>0</td>\n",
       "      <td>0</td>\n",
       "      <td>0</td>\n",
       "      <td>...</td>\n",
       "      <td>0</td>\n",
       "      <td>0</td>\n",
       "      <td>0</td>\n",
       "      <td>0</td>\n",
       "      <td>0</td>\n",
       "      <td>0</td>\n",
       "      <td>0</td>\n",
       "      <td>0</td>\n",
       "      <td>0</td>\n",
       "      <td>0</td>\n",
       "    </tr>\n",
       "  </tbody>\n",
       "</table>\n",
       "<p>5 rows × 708 columns</p>\n",
       "</div>"
      ],
      "text/plain": [
       "   0    1    2    3    4    5    6    7    8    9    ...  698  699  700  701  \\\n",
       "0    0    0    0    0    0    0    0    0    0    0  ...    0    0    0    0   \n",
       "1    0    0    0    0    0    0    0    0    0    0  ...    0    0    0    0   \n",
       "2    0    0    0    0    0    0    0    0    0    0  ...    0    0    0    0   \n",
       "3    0    0    0    0    0    0    0    0    0    0  ...    0    0    0    0   \n",
       "4    0    0    0    0    0    0    0    0    0    0  ...    0    0    0    0   \n",
       "\n",
       "   702  703  704  705  706  707  \n",
       "0    0    0    0    0    0    0  \n",
       "1    0    0    0    0    0    0  \n",
       "2    0    0    0    0    0    0  \n",
       "3    0    0    0    0    0    0  \n",
       "4    0    0    0    0    0    0  \n",
       "\n",
       "[5 rows x 708 columns]"
      ]
     },
     "execution_count": 6,
     "metadata": {},
     "output_type": "execute_result"
    }
   ],
   "source": [
    "pd.DataFrame(X_var0).head()"
   ]
  },
  {
   "cell_type": "markdown",
   "metadata": {},
   "source": [
    "（2）阈值threshold是特征方差的中位数：删掉了784-392（一半）个特征"
   ]
  },
  {
   "cell_type": "code",
   "execution_count": 7,
   "metadata": {},
   "outputs": [
    {
     "data": {
      "text/plain": [
       "1352.286703180131"
      ]
     },
     "execution_count": 7,
     "metadata": {},
     "output_type": "execute_result"
    }
   ],
   "source": [
    "#查看所有特征的方差的中位数\n",
    "import numpy as np\n",
    "np.median(X.var().values)"
   ]
  },
  {
   "cell_type": "code",
   "execution_count": 8,
   "metadata": {},
   "outputs": [],
   "source": [
    "#删除方差小于中位数的特征\n",
    "X_fsvar = VarianceThreshold(np.median(X.var().values)).fit_transform(X)"
   ]
  },
  {
   "cell_type": "code",
   "execution_count": 9,
   "metadata": {},
   "outputs": [
    {
     "data": {
      "text/plain": [
       "(42000, 392)"
      ]
     },
     "execution_count": 9,
     "metadata": {},
     "output_type": "execute_result"
    }
   ],
   "source": [
    "X_fsvar.shape"
   ]
  },
  {
   "cell_type": "markdown",
   "metadata": {},
   "source": [
    "（3）阈值threshold是二分类特征中某种分类占到80%以上的方差：删掉了784-685个特征"
   ]
  },
  {
   "cell_type": "markdown",
   "metadata": {},
   "source": [
    "当特征是二分类时，特征的取值就是伯努利随机变量，这些变量的方差可以计算为：p(1-p)。"
   ]
  },
  {
   "cell_type": "code",
   "execution_count": 10,
   "metadata": {},
   "outputs": [],
   "source": [
    "#若特征是伯努利随机变量，假设p=0.8，即二分类特征中某种分类占到80%以上的时候删除特征\n",
    "X_bvar = VarianceThreshold(0.8*(1-0.8)).fit_transform(X)"
   ]
  },
  {
   "cell_type": "code",
   "execution_count": 11,
   "metadata": {},
   "outputs": [
    {
     "data": {
      "text/plain": [
       "(42000, 685)"
      ]
     },
     "execution_count": 11,
     "metadata": {},
     "output_type": "execute_result"
    }
   ],
   "source": [
    "X_bvar.shape"
   ]
  },
  {
   "cell_type": "markdown",
   "metadata": {},
   "source": [
    "**2.方差过滤对模型的影响**（阈值为特征方差的中位数）"
   ]
  },
  {
   "cell_type": "markdown",
   "metadata": {},
   "source": [
    "（1）导入模块并准备数据"
   ]
  },
  {
   "cell_type": "code",
   "execution_count": 12,
   "metadata": {},
   "outputs": [],
   "source": [
    "from sklearn.ensemble import RandomForestClassifier as RFC\n",
    "from sklearn.neighbors import KNeighborsClassifier as KNN\n",
    "from sklearn.model_selection import cross_val_score\n",
    "import numpy as np"
   ]
  },
  {
   "cell_type": "code",
   "execution_count": 13,
   "metadata": {},
   "outputs": [],
   "source": [
    "X = data.iloc[:,1:]\n",
    "y = data.iloc[:,0]\n",
    "x_fsvar = X_fsvar = VarianceThreshold(np.median(X.var().values)).fit_transform(X)"
   ]
  },
  {
   "cell_type": "markdown",
   "metadata": {},
   "source": [
    "（2）KNN"
   ]
  },
  {
   "cell_type": "markdown",
   "metadata": {},
   "source": [
    "①KNN方差过滤前"
   ]
  },
  {
   "cell_type": "raw",
   "metadata": {},
   "source": [
    "cross_val_score(KNN(),X,y,cv=5).mean()"
   ]
  },
  {
   "cell_type": "raw",
   "metadata": {},
   "source": [
    "%%timeit\n",
    "cross_val_score(KNN(),X,y,cv=5).mean()"
   ]
  },
  {
   "cell_type": "markdown",
   "metadata": {},
   "source": [
    "②KNN方差过滤后"
   ]
  },
  {
   "cell_type": "raw",
   "metadata": {},
   "source": [
    "cross_val_score(KNN(),X_fsvar,y,cv=5).mean()"
   ]
  },
  {
   "cell_type": "raw",
   "metadata": {},
   "source": [
    "%%timeit\n",
    "cross_val_score(KNN(),X_fsvar,y,cv=5).mean()"
   ]
  },
  {
   "cell_type": "markdown",
   "metadata": {},
   "source": [
    "（3）随机森林"
   ]
  },
  {
   "cell_type": "markdown",
   "metadata": {},
   "source": [
    "①随机森林方差过滤前"
   ]
  },
  {
   "cell_type": "code",
   "execution_count": 14,
   "metadata": {},
   "outputs": [
    {
     "data": {
      "text/plain": [
       "0.9373571428571429"
      ]
     },
     "execution_count": 14,
     "metadata": {},
     "output_type": "execute_result"
    }
   ],
   "source": [
    "cross_val_score(RFC(n_estimators=10,random_state=0),X,y,cv=5).mean()"
   ]
  },
  {
   "cell_type": "code",
   "execution_count": 15,
   "metadata": {},
   "outputs": [
    {
     "name": "stdout",
     "output_type": "stream",
     "text": [
      "32.9 s ± 2.93 s per loop (mean ± std. dev. of 7 runs, 1 loop each)\n"
     ]
    }
   ],
   "source": [
    "%%timeit\n",
    "cross_val_score(RFC(n_estimators=10,random_state=0),X,y,cv=5).mean()"
   ]
  },
  {
   "cell_type": "markdown",
   "metadata": {},
   "source": [
    "②随机森林方差过滤后"
   ]
  },
  {
   "cell_type": "code",
   "execution_count": 16,
   "metadata": {},
   "outputs": [
    {
     "data": {
      "text/plain": [
       "0.9390476190476191"
      ]
     },
     "execution_count": 16,
     "metadata": {},
     "output_type": "execute_result"
    }
   ],
   "source": [
    "cross_val_score(RFC(n_estimators=10,random_state=0),X_fsvar,y,cv=5).mean()"
   ]
  },
  {
   "cell_type": "code",
   "execution_count": 17,
   "metadata": {},
   "outputs": [
    {
     "name": "stdout",
     "output_type": "stream",
     "text": [
      "22.5 s ± 5.34 s per loop (mean ± std. dev. of 7 runs, 1 loop each)\n"
     ]
    }
   ],
   "source": [
    "%%timeit\n",
    "cross_val_score(RFC(n_estimators=10,random_state=0),X_fsvar,y,cv=5).mean()"
   ]
  },
  {
   "cell_type": "markdown",
   "metadata": {},
   "source": [
    "方差过滤后：<br>\n",
    "（1）KNN：准确率增加0.014%，运行时间减少14分钟；<br>\n",
    "（2）随机森林：准确率增加0.17%，运行时间减少10.1s。<br>\n",
    "因此，过滤法的主要对象是需要**遍历特征**或**升维**的算法，如最近邻KNN、单棵决策树、支持向量机SVM、神经网络、回归。<br>\n",
    "从算法原理上来说，传统决策树需要**遍历所有特征**，计算不纯度后进行分支，而随机森林却是**随机选择特征**进行计算和分枝，因此随机森林的运算更快，因此过滤法对随机森林无用，对决策树有用。"
   ]
  },
  {
   "cell_type": "markdown",
   "metadata": {},
   "source": [
    "### （二）相关性过滤"
   ]
  },
  {
   "cell_type": "markdown",
   "metadata": {},
   "source": [
    "**1.卡方过滤**：针对离散型标签，即分类问题。"
   ]
  },
  {
   "cell_type": "markdown",
   "metadata": {},
   "source": [
    "卡方检验类`feature_selection.chi2`计算每个**非负特征和标签**之间的卡方统计量，并依照卡方统计量**由高到低**为特征排名。再结合`feature_selection.SelectKBest`类，它可以输入“评分标准”选出前K个分数最高的特征。"
   ]
  },
  {
   "cell_type": "code",
   "execution_count": 18,
   "metadata": {},
   "outputs": [],
   "source": [
    "from sklearn.ensemble import RandomForestClassifier as RFC #以随机森林为例做特征选择\n",
    "from sklearn.model_selection import cross_val_score #交叉验证\n",
    "from sklearn.feature_selection import SelectKBest #选择前K个分数最高的特征\n",
    "from sklearn.feature_selection import chi2 #卡方检验"
   ]
  },
  {
   "cell_type": "code",
   "execution_count": 19,
   "metadata": {},
   "outputs": [
    {
     "data": {
      "text/plain": [
       "(42000, 300)"
      ]
     },
     "execution_count": 19,
     "metadata": {},
     "output_type": "execute_result"
    }
   ],
   "source": [
    "#假设需要300个特征\n",
    "X_fschi = SelectKBest(chi2, k=300).fit_transform(X_fsvar,y) #第一个参数：模型依赖的统计量；第二个参数：选前k个卡方值最高的特征\n",
    "X_fschi.shape"
   ]
  },
  {
   "cell_type": "code",
   "execution_count": 20,
   "metadata": {},
   "outputs": [
    {
     "data": {
      "text/plain": [
       "0.9344761904761905"
      ]
     },
     "execution_count": 20,
     "metadata": {},
     "output_type": "execute_result"
    }
   ],
   "source": [
    "#验证模型效果\n",
    "cross_val_score(RFC(n_estimators=10,random_state=0),X_fschi,y,cv=5).mean()"
   ]
  },
  {
   "cell_type": "markdown",
   "metadata": {},
   "source": [
    "效果降低了，说明设定k=300时删除了与模型有关且有效的特征。"
   ]
  },
  {
   "cell_type": "markdown",
   "metadata": {},
   "source": [
    "**选取超参数k**"
   ]
  },
  {
   "cell_type": "markdown",
   "metadata": {},
   "source": [
    "（1）学习曲线"
   ]
  },
  {
   "cell_type": "code",
   "execution_count": 21,
   "metadata": {},
   "outputs": [],
   "source": [
    "import matplotlib.pyplot as plt"
   ]
  },
  {
   "cell_type": "code",
   "execution_count": 22,
   "metadata": {},
   "outputs": [
    {
     "data": {
      "text/plain": [
       "[<matplotlib.lines.Line2D at 0x293a00297f0>]"
      ]
     },
     "execution_count": 22,
     "metadata": {},
     "output_type": "execute_result"
    },
    {
     "data": {
      "image/png": "[encoded data removed]",
      "text/plain": [
       "<Figure size 432x288 with 1 Axes>"
      ]
     },
     "metadata": {
      "needs_background": "light"
     },
     "output_type": "display_data"
    }
   ],
   "source": [
    "score = []\n",
    "for i in range(390,200,-10):\n",
    "    x_fschi = SelectKBest(chi2, k=i).fit_transform(X_fsvar,y)\n",
    "    once = cross_val_score(RFC(n_estimators=10, random_state=0),x_fschi,y,cv=5).mean()\n",
    "    score.append(once)\n",
    "plt.plot(range(390,200,-10),score)"
   ]
  },
  {
   "cell_type": "markdown",
   "metadata": {},
   "source": [
    "随着K值不断增加，模型的表现不断上升，这说明，K值越大越好，数据中所有的特征都是与标签相关的。"
   ]
  },
  {
   "cell_type": "markdown",
   "metadata": {},
   "source": [
    "（2）根据卡方统计量的p值选择k：选取p值小于0.05的特征"
   ]
  },
  {
   "cell_type": "code",
   "execution_count": 23,
   "metadata": {},
   "outputs": [],
   "source": [
    "chivalue, pvalues_chi = chi2(X_fsvar,y) #参数：特征矩阵、标签"
   ]
  },
  {
   "cell_type": "code",
   "execution_count": 24,
   "metadata": {},
   "outputs": [
    {
     "data": {
      "text/plain": [
       "array([ 945664.84392643, 1244766.05139164, 1554872.30384525,\n",
       "       1834161.78305343, 1903618.94085294, 1845226.62427198,\n",
       "       1602117.23307537,  708535.17489837,  974050.20513718,\n",
       "       1188092.19961931, 1319151.43467036, 1397847.8836796 ,\n",
       "       1433554.26798015, 1429043.15373433, 1332663.17213405,\n",
       "       1101423.25372261,  809989.56940485,  519266.71772284,\n",
       "        285681.88297156,  191589.23696468,  902883.1255264 ,\n",
       "       1237265.16042373, 1503477.73699155, 1625807.41495542,\n",
       "       1630206.90922916, 1630597.02883804, 1633456.72909664,\n",
       "       1610816.75571229, 1483382.49543886, 1256290.1574794 ,\n",
       "        951236.1617682 ,  693192.66191748,  532386.96220361,\n",
       "        504617.38933715,  575090.36046243,  501025.03733245,\n",
       "        802341.10683194, 1078344.8724406 , 1226540.98318702,\n",
       "       1269945.07968831, 1221758.57688808, 1146535.17810241,\n",
       "       1080657.20185303, 1079065.30979135, 1092222.70610032,\n",
       "       1064908.45385716, 1023327.00231067,  974163.15420165,\n",
       "        918857.12860617,  861439.52030749,  828439.23565047,\n",
       "        916454.89464771,  989713.58229958,  543695.5016699 ,\n",
       "        674691.76755044,  708113.57226969,  657819.3908855 ,\n",
       "        599159.21961671,  576483.60795847,  559848.1818137 ,\n",
       "        536985.56062372,  561457.57734769,  594428.19185935,\n",
       "        592414.89830452,  587801.84097643,  672232.60135169,\n",
       "        790511.70530618,  866573.70991777,  891422.58050934,\n",
       "        905163.15191882, 1006322.94034634,  585209.83598254,\n",
       "        699596.88963547,  705326.82387203,  641105.0929774 ,\n",
       "        632098.97938142,  725189.43548604,  853879.48154986,\n",
       "        863895.50862873,  709440.99808713,  615099.361498  ,\n",
       "        660082.35138802,  662040.13166049,  647432.43321103,\n",
       "        718070.06251003,  868119.93550552,  995128.78948214,\n",
       "        981295.46383871,  888906.74357254,  803951.63399892,\n",
       "        775220.92445238,  802661.20360682,  806753.10120013,\n",
       "        827660.8911231 , 1008184.76195542, 1212658.65697336,\n",
       "       1279652.35847441, 1071947.51866571,  712579.55021262,\n",
       "        708178.91784269,  931871.22430817,  836155.03350401,\n",
       "        781584.17446604,  883252.58134165, 1015304.18853993,\n",
       "       1153480.28062008, 1235182.10720641, 1110286.29490637,\n",
       "        762412.0228271 ,  651475.7374445 ,  659784.45490334,\n",
       "        761439.40964843,  980458.35707785, 1285689.5977369 ,\n",
       "       1412800.83270279, 1269424.03486304,  844394.53343881,\n",
       "        453037.70035635,  906205.5333485 , 1314337.38985735,\n",
       "        875502.64893107,  848574.25317153, 1088364.70535319,\n",
       "       1143964.61799576, 1231934.57606489, 1525266.11466634,\n",
       "       1624923.27849511, 1120921.66905394,  381196.04594987,\n",
       "        517011.13080559,  840830.08443577, 1249668.53527256,\n",
       "       1487299.06201808, 1440993.69232521, 1234157.54433962,\n",
       "        891091.32709079,  767327.74644144, 1767505.95851489,\n",
       "       1794612.36340341,  843649.64862696,  974860.15688277,\n",
       "       1282142.9789604 , 1121437.99502364, 1158258.4373389 ,\n",
       "       1803319.16430163, 2247538.01212782, 1715860.1009172 ,\n",
       "        308268.96279553,  670765.24199637, 1175840.18589306,\n",
       "       1569563.41213805, 1615071.70298461, 1453812.39367812,\n",
       "       1429193.59276003, 1469624.15320088, 1610038.8334007 ,\n",
       "       2381990.83018419, 1684641.44646863,  781514.82471784,\n",
       "       1136274.26981954, 1258505.95202954,  900621.20914746,\n",
       "       1033026.39393914, 2032592.30559197, 2688297.40292302,\n",
       "       2126052.31008566,  477854.94097719, 1061876.2951535 ,\n",
       "       1617721.02614334, 1859303.87013649, 1706658.49975169,\n",
       "       1442798.15960511, 1497467.99791583, 1635633.52918659,\n",
       "       1789954.0440811 , 2042036.97897042, 1243975.13567915,\n",
       "        847897.40531407, 1334491.44036763, 1146547.23628072,\n",
       "        721408.29456933, 1099901.34212844, 2234797.26301007,\n",
       "       2788060.61506624, 2097404.45292914,  770825.17396301,\n",
       "       1509971.18325275, 2008828.59327289, 2076128.28182046,\n",
       "       1775258.41727455, 1374882.05100453, 1223860.78474695,\n",
       "       1190499.55493678, 1469994.89713294, 1556218.16894472,\n",
       "        936604.6211571 , 1052799.96220046, 1487484.96092392,\n",
       "       1096221.91497984,  754081.7574313 , 1308952.47883141,\n",
       "       2269151.28497174, 2519422.4441161 , 1816912.55593098,\n",
       "       1090497.85622876, 1822356.78804369, 2192372.5304657 ,\n",
       "       2133745.04961112, 1807649.67676254, 1420349.92183107,\n",
       "       1222343.35267926, 1165504.99607627, 1500572.78318498,\n",
       "       1432663.59271325,  890862.82928644, 1274280.76943075,\n",
       "       1432072.36165076,  956997.59590817,  888742.14373383,\n",
       "       1508163.46238821, 2117988.12236915, 2054465.38907916,\n",
       "       1423918.25987689, 1286013.85962749, 1972608.25057539,\n",
       "       2179634.12755044, 1979740.23184782, 1717723.16781811,\n",
       "       1552275.10457858, 1461315.1411536 , 1494620.94971976,\n",
       "       1739520.65681857, 1442815.46046628, 1014723.34171191,\n",
       "       1363794.15539944, 1122747.63831017,  739634.35332833,\n",
       "       1067567.31929299, 1667592.5097389 , 1864455.97854722,\n",
       "       1579099.16973703,  967688.45447601, 1416605.83453248,\n",
       "       2062165.61891584, 2170645.77302745, 1901786.79198259,\n",
       "       1733725.85760386, 1753508.37671084, 1712712.42549789,\n",
       "       1733493.582237  , 1770340.59820148, 1310901.04423274,\n",
       "       1008023.90988477, 1061378.72275934,  662457.8217003 ,\n",
       "        729648.40292041, 1370253.32454603, 1741943.51510473,\n",
       "       1593454.39731162, 1172442.70958932,  671601.50140396,\n",
       "        511587.36577997, 1454955.01309647, 2126817.74478926,\n",
       "       2263953.8025206 , 2028172.33782053, 1992515.52928071,\n",
       "       2172520.74824953, 2035403.53821729, 1758624.07224114,\n",
       "       1514817.58748747, 1002116.10560135,  669379.60246184,\n",
       "        544978.32282227,  576722.03477821, 1098371.32650041,\n",
       "       1603057.05343338, 1612844.96289426, 1293107.69776289,\n",
       "        917550.19379029,  683222.7639966 ,  608782.99701169,\n",
       "       1391473.37940334, 2082151.30610954, 2298916.31712188,\n",
       "       2140360.89085296, 2070900.53848134, 2159471.16950063,\n",
       "       1981772.43302263, 1521754.51234479, 1076334.48566226,\n",
       "        610262.09016783,  351852.98340462,  461487.7601437 ,\n",
       "        878540.35993713, 1337597.14727232, 1481891.62067955,\n",
       "       1342562.57238699, 1127940.79389167,  958491.4694589 ,\n",
       "        884951.02023249,  671520.41386273, 1232265.31295026,\n",
       "       1877169.85821324, 2239501.99047448, 2199634.11766741,\n",
       "       1930471.52367226, 1666073.70450191, 1364054.30645472,\n",
       "       1000936.25390226,  656080.48075838,  389810.08772878,\n",
       "        340150.21186292,  602275.43941511,  959623.37641551,\n",
       "       1156974.48558905, 1135816.98677808, 1044294.97185606,\n",
       "        992281.03054232,  964376.78121192,  966024.75721634,\n",
       "       1491250.50567589, 1970679.86657318, 2139321.52912066,\n",
       "       1894361.40873889, 1368494.5514217 ,  829396.07488768,\n",
       "        488455.25931088,  331978.08818759,  293365.6522867 ,\n",
       "        387474.16211622,  600489.80555106,  783767.50733716,\n",
       "        831013.99296771,  768407.80393857,  738760.56078587,\n",
       "        761413.22072658,  781528.79224194,  615612.72460389,\n",
       "        975765.83585216, 1382346.6477236 , 1684701.13053512,\n",
       "       1732335.2436048 , 1492804.58962318, 1144230.23099215,\n",
       "        852589.97157847,  719215.03719448,  675891.53891187,\n",
       "        687917.5152402 ,  708292.70911948,  673810.32849758,\n",
       "        550803.45299243,  428370.7943997 ,  384587.47807058,\n",
       "        407022.00975206,  441201.32284902,  661202.45504685,\n",
       "        904150.80474087, 1098249.34334037, 1225055.2730661 ,\n",
       "       1312843.88397644, 1325774.40817926, 1236093.76813092,\n",
       "       1036608.01098297,  829620.55626671,  654964.88596563,\n",
       "        520032.72156302,  387948.22204601,  273436.39846809,\n",
       "        203015.85080751,  255471.93956392,  389884.80778864,\n",
       "        561308.92316732,  759511.94695328,  942402.80700557,\n",
       "       1044698.95132913, 1009807.32615993,  844407.23356341,\n",
       "        695110.21243546,  637789.62877943,  600582.89899187,\n",
       "        519392.9652949 ,  399631.65341907, 1006027.89058975,\n",
       "       1352052.90333271, 1647606.90721159, 1761733.4081397 ,\n",
       "       1664096.76785043, 1396834.58681766, 1159784.3628775 ,\n",
       "       1001178.01359166,  847886.28143964])"
      ]
     },
     "execution_count": 24,
     "metadata": {},
     "output_type": "execute_result"
    }
   ],
   "source": [
    "chivalue"
   ]
  },
  {
   "cell_type": "code",
   "execution_count": 25,
   "metadata": {},
   "outputs": [
    {
     "data": {
      "text/plain": [
       "array([0., 0., 0., 0., 0., 0., 0., 0., 0., 0., 0., 0., 0., 0., 0., 0., 0.,\n",
       "       0., 0., 0., 0., 0., 0., 0., 0., 0., 0., 0., 0., 0., 0., 0., 0., 0.,\n",
       "       0., 0., 0., 0., 0., 0., 0., 0., 0., 0., 0., 0., 0., 0., 0., 0., 0.,\n",
       "       0., 0., 0., 0., 0., 0., 0., 0., 0., 0., 0., 0., 0., 0., 0., 0., 0.,\n",
       "       0., 0., 0., 0., 0., 0., 0., 0., 0., 0., 0., 0., 0., 0., 0., 0., 0.,\n",
       "       0., 0., 0., 0., 0., 0., 0., 0., 0., 0., 0., 0., 0., 0., 0., 0., 0.,\n",
       "       0., 0., 0., 0., 0., 0., 0., 0., 0., 0., 0., 0., 0., 0., 0., 0., 0.,\n",
       "       0., 0., 0., 0., 0., 0., 0., 0., 0., 0., 0., 0., 0., 0., 0., 0., 0.,\n",
       "       0., 0., 0., 0., 0., 0., 0., 0., 0., 0., 0., 0., 0., 0., 0., 0., 0.,\n",
       "       0., 0., 0., 0., 0., 0., 0., 0., 0., 0., 0., 0., 0., 0., 0., 0., 0.,\n",
       "       0., 0., 0., 0., 0., 0., 0., 0., 0., 0., 0., 0., 0., 0., 0., 0., 0.,\n",
       "       0., 0., 0., 0., 0., 0., 0., 0., 0., 0., 0., 0., 0., 0., 0., 0., 0.,\n",
       "       0., 0., 0., 0., 0., 0., 0., 0., 0., 0., 0., 0., 0., 0., 0., 0., 0.,\n",
       "       0., 0., 0., 0., 0., 0., 0., 0., 0., 0., 0., 0., 0., 0., 0., 0., 0.,\n",
       "       0., 0., 0., 0., 0., 0., 0., 0., 0., 0., 0., 0., 0., 0., 0., 0., 0.,\n",
       "       0., 0., 0., 0., 0., 0., 0., 0., 0., 0., 0., 0., 0., 0., 0., 0., 0.,\n",
       "       0., 0., 0., 0., 0., 0., 0., 0., 0., 0., 0., 0., 0., 0., 0., 0., 0.,\n",
       "       0., 0., 0., 0., 0., 0., 0., 0., 0., 0., 0., 0., 0., 0., 0., 0., 0.,\n",
       "       0., 0., 0., 0., 0., 0., 0., 0., 0., 0., 0., 0., 0., 0., 0., 0., 0.,\n",
       "       0., 0., 0., 0., 0., 0., 0., 0., 0., 0., 0., 0., 0., 0., 0., 0., 0.,\n",
       "       0., 0., 0., 0., 0., 0., 0., 0., 0., 0., 0., 0., 0., 0., 0., 0., 0.,\n",
       "       0., 0., 0., 0., 0., 0., 0., 0., 0., 0., 0., 0., 0., 0., 0., 0., 0.,\n",
       "       0., 0., 0., 0., 0., 0., 0., 0., 0., 0., 0., 0., 0., 0., 0., 0., 0.,\n",
       "       0.])"
      ]
     },
     "execution_count": 25,
     "metadata": {},
     "output_type": "execute_result"
    }
   ],
   "source": [
    "pvalues_chi #这些特征都和标签相关"
   ]
  },
  {
   "cell_type": "code",
   "execution_count": 26,
   "metadata": {},
   "outputs": [
    {
     "data": {
      "text/plain": [
       "392"
      ]
     },
     "execution_count": 26,
     "metadata": {},
     "output_type": "execute_result"
    }
   ],
   "source": [
    "k = chivalue.shape[0] - (pvalues_chi > 0.05).sum() #k=特征数量-想减去的特征的数量\n",
    "k"
   ]
  },
  {
   "cell_type": "markdown",
   "metadata": {},
   "source": [
    "根据卡方统计量的p值确定k=392。"
   ]
  },
  {
   "cell_type": "markdown",
   "metadata": {},
   "source": [
    "**2.F检验（线性）**"
   ]
  },
  {
   "cell_type": "markdown",
   "metadata": {},
   "source": [
    "F检验，即方差齐性检验，是用来捕捉每个特征与标签之间的**线性关系**的过滤方法。F检验分类`sklearn.feature_selection.f_classif`用于标签是**离散型**变量的数据，F检验回归`sklearn.feature_selection.f_regression`用于标签是**连续型**变量的数据。"
   ]
  },
  {
   "cell_type": "code",
   "execution_count": 27,
   "metadata": {},
   "outputs": [],
   "source": [
    "from sklearn.feature_selection import f_classif"
   ]
  },
  {
   "cell_type": "markdown",
   "metadata": {},
   "source": [
    "（1）学习曲线"
   ]
  },
  {
   "cell_type": "code",
   "execution_count": 28,
   "metadata": {},
   "outputs": [
    {
     "data": {
      "text/plain": [
       "[<matplotlib.lines.Line2D at 0x293a00b8280>]"
      ]
     },
     "execution_count": 28,
     "metadata": {},
     "output_type": "execute_result"
    },
    {
     "data": {
      "image/png": "[encoded data removed]",
      "text/plain": [
       "<Figure size 432x288 with 1 Axes>"
      ]
     },
     "metadata": {
      "needs_background": "light"
     },
     "output_type": "display_data"
    }
   ],
   "source": [
    "score = []\n",
    "for i in range(390,200,-10):\n",
    "    x_fsF = SelectKBest(f_classif, k=i).fit_transform(X_fsvar,y)\n",
    "    once = cross_val_score(RFC(n_estimators=10, random_state=0),x_fsF,y,cv=5).mean()\n",
    "    score.append(once)\n",
    "plt.plot(range(390,200,-10),score)"
   ]
  },
  {
   "cell_type": "markdown",
   "metadata": {},
   "source": [
    "（2）根据F统计量的p值选择k：选取p值小于0.05的特征"
   ]
  },
  {
   "cell_type": "code",
   "execution_count": 29,
   "metadata": {},
   "outputs": [],
   "source": [
    "F, pvalues_f = f_classif(X_fsvar,y)"
   ]
  },
  {
   "cell_type": "code",
   "execution_count": 30,
   "metadata": {},
   "outputs": [
    {
     "data": {
      "text/plain": [
       "array([ 618.65383492,  846.18897012, 1115.40617051, 1362.3677305 ,\n",
       "       1452.03355369, 1381.09095571, 1138.26505266,  464.29616121,\n",
       "        660.00977785,  849.66393412, 1004.7450309 , 1124.76177588,\n",
       "       1200.99190762, 1209.29489877, 1110.4944286 ,  854.66183292,\n",
       "        577.52063451,  342.09729054,  178.67397866,  118.01145533,\n",
       "        612.12261014,  899.40904291, 1196.17528948, 1424.49864852,\n",
       "       1569.26556677, 1742.49910702, 1910.98023795, 1969.20520223,\n",
       "       1731.37475948, 1295.09668012,  839.15325001,  531.97951763,\n",
       "        371.82392681,  336.00820537,  378.93378743,  317.47025479,\n",
       "        528.94881012,  766.40792176,  947.63168717, 1086.0472161 ,\n",
       "       1177.72017709, 1253.79641973, 1344.06961068, 1507.33781169,\n",
       "       1616.50454434, 1512.25864876, 1289.65180587, 1051.26276412,\n",
       "        839.48869386,  680.07426932,  600.85538567,  633.55772663,\n",
       "        683.96908509,  347.65867784,  452.76238211,  509.16387684,\n",
       "        515.7498157 ,  532.86107778,  594.62512658,  664.18740444,\n",
       "        709.37133696,  798.11767931,  876.69849088,  852.76926441,\n",
       "        785.70173347,  802.88980095,  813.2041131 ,  760.85552527,\n",
       "        687.94148028,  642.84071735,  698.11530217,  367.16414289,\n",
       "        455.90449427,  485.50500277,  476.23046034,  536.72332365,\n",
       "        740.12587382, 1041.38089649, 1168.8028973 ,  941.91083922,\n",
       "        795.72843454,  861.29818828,  868.19464432,  838.80173567,\n",
       "        886.26659655,  959.12740961,  934.56890789,  783.1988476 ,\n",
       "        631.01107034,  542.02937189,  493.83337615,  533.27899195,\n",
       "        572.34131749,  657.20547321,  981.66873526, 1465.82267956,\n",
       "       1756.05831022, 1385.28086085,  798.73125604,  761.40508874,\n",
       "       1062.6919609 ,  979.38193965,  947.82602644, 1085.00522683,\n",
       "       1152.13801689, 1118.1595422 , 1021.13086631,  812.37823266,\n",
       "        509.86857625,  411.37986706,  430.7150329 ,  545.55866945,\n",
       "        829.92259533, 1376.4852629 , 1811.62922878, 1601.33613631,\n",
       "        898.8719158 ,  417.37765921,  895.77244253, 1455.38592931,\n",
       "        956.2421521 ,  990.1748413 , 1359.47406197, 1279.27992017,\n",
       "       1166.80888121, 1291.41792351, 1263.86987819,  787.81807986,\n",
       "        237.21811742,  333.12552194,  621.47324186, 1139.04489426,\n",
       "       1713.54508435, 1823.42451065, 1436.53069242,  884.19442779,\n",
       "        717.63373994, 2026.90370414, 2219.46450157,  943.55587655,\n",
       "       1217.29127813, 1677.03878308, 1193.63540136, 1039.56842784,\n",
       "       1570.18098323, 1878.5600272 , 1284.78903715,  190.02740438,\n",
       "        444.17019739,  928.80156872, 1562.54171587, 1940.54801063,\n",
       "       1816.57346013, 1683.83193784, 1619.17496376, 1865.78706551,\n",
       "       3482.82350415, 2326.10253286,  990.67999393, 1632.46650414,\n",
       "       1652.51500198,  891.26746579,  883.96689508, 1805.57103626,\n",
       "       2389.97435433, 1630.34926872,  301.84091297,  746.3286491 ,\n",
       "       1394.82469151, 2008.19411716, 2107.3680475 , 1767.97892382,\n",
       "       1786.08753011, 1980.1986791 , 2509.14739387, 3366.13986444,\n",
       "       1959.90573326, 1299.36608875, 2218.28123025, 1470.25657381,\n",
       "        681.02610086,  937.54741741, 2037.45812231, 2518.68810085,\n",
       "       1583.0009463 ,  509.76276636, 1139.21364745, 1881.71834116,\n",
       "       2351.30851824, 2175.48525458, 1624.49647062, 1399.44534221,\n",
       "       1440.98664744, 2229.25720739, 2764.00452882, 1633.74258116,\n",
       "       1870.29253742, 2628.79930504, 1367.31440177,  707.38857243,\n",
       "       1150.06936228, 2089.08213594, 2185.00557858, 1318.14722036,\n",
       "        747.37697661, 1453.94015412, 2116.40726513, 2399.53090598,\n",
       "       2143.53519978, 1651.89817908, 1414.71662551, 1481.62100314,\n",
       "       2468.21266727, 2666.18025642, 1520.6400065 , 2223.14029953,\n",
       "       2271.07109628, 1111.06997494,  844.31183874, 1388.60413626,\n",
       "       1917.10207189, 1667.61400215,  996.09054823,  907.80926355,\n",
       "       1607.70263546, 2085.21461056, 2073.68356276, 1880.26929744,\n",
       "       1756.40165025, 1716.45478479, 1964.08537105, 2796.13761562,\n",
       "       2413.09378391, 1543.01310963, 2118.10377396, 1475.29541488,\n",
       "        783.59003763, 1040.65400476, 1582.46200024, 1617.32566033,\n",
       "       1188.24554305,  642.2665701 , 1011.30241064, 1725.70185142,\n",
       "       2067.20755476, 1893.35116837, 1795.96538455, 1922.58627318,\n",
       "       1951.69309645, 2115.44871238, 2479.27958039, 1809.12095649,\n",
       "       1330.8686207 , 1396.29767244,  741.9063402 ,  751.14036409,\n",
       "       1410.18529816, 1677.6595494 , 1308.77910167,  836.77047561,\n",
       "        430.93133677,  313.888671  , 1039.31894918, 1811.68171256,\n",
       "       2191.69964967, 2035.63638826, 2114.65218363, 2511.27142071,\n",
       "       2363.46743373, 2053.7687027 , 1865.84769096, 1202.94179711,\n",
       "        793.61414555,  633.71267282,  636.18282736, 1218.61245591,\n",
       "       1712.62901816, 1484.60290068,  996.06129466,  626.13659134,\n",
       "        441.56356583,  374.08815796,  983.21640593, 1764.93014215,\n",
       "       2264.93587233, 2262.87269162, 2323.50890468, 2611.66920897,\n",
       "       2387.45723028, 1763.5696083 , 1256.32165954,  704.77285945,\n",
       "        406.94580935,  548.06969664, 1051.50016486, 1542.11172909,\n",
       "       1494.38472469, 1130.61174365,  823.84437277,  650.69506052,\n",
       "        594.18011033,  415.73313115,  853.97575783, 1548.7167469 ,\n",
       "       2204.00694989, 2444.69535795, 2267.62871155, 2003.69161124,\n",
       "       1643.94961527, 1202.35520102,  804.18805494,  483.32932365,\n",
       "        420.99263006,  750.06949525, 1136.32227345, 1202.49476981,\n",
       "        990.75097727,  791.03016258,  692.46641159,  653.96372577,\n",
       "        647.90433225, 1149.80460733, 1826.54973661, 2361.75564926,\n",
       "       2313.09139096, 1694.26613916, 1012.97938867,  608.4174945 ,\n",
       "        432.07115684,  383.54620406,  487.70312805,  698.78061024,\n",
       "        797.0763827 ,  714.70722998,  574.2849126 ,  507.5143557 ,\n",
       "        508.77434021,  510.36884435,  404.13860698,  686.31274396,\n",
       "       1103.81003251, 1590.83695172, 1912.74984902, 1832.62220523,\n",
       "       1482.39046946, 1142.10827805,  968.65089356,  860.24853405,\n",
       "        780.75215696,  696.78170045,  567.41403081,  403.59649375,\n",
       "        284.91007929,  245.59060983,  255.97458001,  293.6787996 ,\n",
       "        460.46868009,  687.29383613,  940.06512113, 1205.58777055,\n",
       "       1485.37178744, 1623.12886955, 1488.04856361, 1119.91615126,\n",
       "        770.06544455,  530.6398126 ,  376.66549502,  258.05875548,\n",
       "        172.20323661,  123.79865884,  160.44132806,  249.15104257,\n",
       "        374.15221131,  544.73535425,  727.78945347,  853.98680046,\n",
       "        819.19801306,  656.55547718,  510.87851723,  445.09613969,\n",
       "        401.25608847,  333.48574029,  243.88699402,  645.9545719 ,\n",
       "        920.3259526 , 1196.07900013, 1308.12260763, 1218.37705687,\n",
       "        996.41501921,  792.59409228,  663.47516843,  550.14745143])"
      ]
     },
     "execution_count": 30,
     "metadata": {},
     "output_type": "execute_result"
    }
   ],
   "source": [
    "F"
   ]
  },
  {
   "cell_type": "code",
   "execution_count": 31,
   "metadata": {
    "scrolled": false
   },
   "outputs": [
    {
     "data": {
      "text/plain": [
       "array([0.00000000e+000, 0.00000000e+000, 0.00000000e+000, 0.00000000e+000,\n",
       "       0.00000000e+000, 0.00000000e+000, 0.00000000e+000, 0.00000000e+000,\n",
       "       0.00000000e+000, 0.00000000e+000, 0.00000000e+000, 0.00000000e+000,\n",
       "       0.00000000e+000, 0.00000000e+000, 0.00000000e+000, 0.00000000e+000,\n",
       "       0.00000000e+000, 0.00000000e+000, 0.00000000e+000, 4.71193533e-220,\n",
       "       0.00000000e+000, 0.00000000e+000, 0.00000000e+000, 0.00000000e+000,\n",
       "       0.00000000e+000, 0.00000000e+000, 0.00000000e+000, 0.00000000e+000,\n",
       "       0.00000000e+000, 0.00000000e+000, 0.00000000e+000, 0.00000000e+000,\n",
       "       0.00000000e+000, 0.00000000e+000, 0.00000000e+000, 0.00000000e+000,\n",
       "       0.00000000e+000, 0.00000000e+000, 0.00000000e+000, 0.00000000e+000,\n",
       "       0.00000000e+000, 0.00000000e+000, 0.00000000e+000, 0.00000000e+000,\n",
       "       0.00000000e+000, 0.00000000e+000, 0.00000000e+000, 0.00000000e+000,\n",
       "       0.00000000e+000, 0.00000000e+000, 0.00000000e+000, 0.00000000e+000,\n",
       "       0.00000000e+000, 0.00000000e+000, 0.00000000e+000, 0.00000000e+000,\n",
       "       0.00000000e+000, 0.00000000e+000, 0.00000000e+000, 0.00000000e+000,\n",
       "       0.00000000e+000, 0.00000000e+000, 0.00000000e+000, 0.00000000e+000,\n",
       "       0.00000000e+000, 0.00000000e+000, 0.00000000e+000, 0.00000000e+000,\n",
       "       0.00000000e+000, 0.00000000e+000, 0.00000000e+000, 0.00000000e+000,\n",
       "       0.00000000e+000, 0.00000000e+000, 0.00000000e+000, 0.00000000e+000,\n",
       "       0.00000000e+000, 0.00000000e+000, 0.00000000e+000, 0.00000000e+000,\n",
       "       0.00000000e+000, 0.00000000e+000, 0.00000000e+000, 0.00000000e+000,\n",
       "       0.00000000e+000, 0.00000000e+000, 0.00000000e+000, 0.00000000e+000,\n",
       "       0.00000000e+000, 0.00000000e+000, 0.00000000e+000, 0.00000000e+000,\n",
       "       0.00000000e+000, 0.00000000e+000, 0.00000000e+000, 0.00000000e+000,\n",
       "       0.00000000e+000, 0.00000000e+000, 0.00000000e+000, 0.00000000e+000,\n",
       "       0.00000000e+000, 0.00000000e+000, 0.00000000e+000, 0.00000000e+000,\n",
       "       0.00000000e+000, 0.00000000e+000, 0.00000000e+000, 0.00000000e+000,\n",
       "       0.00000000e+000, 0.00000000e+000, 0.00000000e+000, 0.00000000e+000,\n",
       "       0.00000000e+000, 0.00000000e+000, 0.00000000e+000, 0.00000000e+000,\n",
       "       0.00000000e+000, 0.00000000e+000, 0.00000000e+000, 0.00000000e+000,\n",
       "       0.00000000e+000, 0.00000000e+000, 0.00000000e+000, 0.00000000e+000,\n",
       "       0.00000000e+000, 0.00000000e+000, 0.00000000e+000, 0.00000000e+000,\n",
       "       0.00000000e+000, 0.00000000e+000, 0.00000000e+000, 0.00000000e+000,\n",
       "       0.00000000e+000, 0.00000000e+000, 0.00000000e+000, 0.00000000e+000,\n",
       "       0.00000000e+000, 0.00000000e+000, 0.00000000e+000, 0.00000000e+000,\n",
       "       0.00000000e+000, 0.00000000e+000, 0.00000000e+000, 0.00000000e+000,\n",
       "       0.00000000e+000, 0.00000000e+000, 0.00000000e+000, 0.00000000e+000,\n",
       "       0.00000000e+000, 0.00000000e+000, 0.00000000e+000, 0.00000000e+000,\n",
       "       0.00000000e+000, 0.00000000e+000, 0.00000000e+000, 0.00000000e+000,\n",
       "       0.00000000e+000, 0.00000000e+000, 0.00000000e+000, 0.00000000e+000,\n",
       "       0.00000000e+000, 0.00000000e+000, 0.00000000e+000, 0.00000000e+000,\n",
       "       0.00000000e+000, 0.00000000e+000, 0.00000000e+000, 0.00000000e+000,\n",
       "       0.00000000e+000, 0.00000000e+000, 0.00000000e+000, 0.00000000e+000,\n",
       "       0.00000000e+000, 0.00000000e+000, 0.00000000e+000, 0.00000000e+000,\n",
       "       0.00000000e+000, 0.00000000e+000, 0.00000000e+000, 0.00000000e+000,\n",
       "       0.00000000e+000, 0.00000000e+000, 0.00000000e+000, 0.00000000e+000,\n",
       "       0.00000000e+000, 0.00000000e+000, 0.00000000e+000, 0.00000000e+000,\n",
       "       0.00000000e+000, 0.00000000e+000, 0.00000000e+000, 0.00000000e+000,\n",
       "       0.00000000e+000, 0.00000000e+000, 0.00000000e+000, 0.00000000e+000,\n",
       "       0.00000000e+000, 0.00000000e+000, 0.00000000e+000, 0.00000000e+000,\n",
       "       0.00000000e+000, 0.00000000e+000, 0.00000000e+000, 0.00000000e+000,\n",
       "       0.00000000e+000, 0.00000000e+000, 0.00000000e+000, 0.00000000e+000,\n",
       "       0.00000000e+000, 0.00000000e+000, 0.00000000e+000, 0.00000000e+000,\n",
       "       0.00000000e+000, 0.00000000e+000, 0.00000000e+000, 0.00000000e+000,\n",
       "       0.00000000e+000, 0.00000000e+000, 0.00000000e+000, 0.00000000e+000,\n",
       "       0.00000000e+000, 0.00000000e+000, 0.00000000e+000, 0.00000000e+000,\n",
       "       0.00000000e+000, 0.00000000e+000, 0.00000000e+000, 0.00000000e+000,\n",
       "       0.00000000e+000, 0.00000000e+000, 0.00000000e+000, 0.00000000e+000,\n",
       "       0.00000000e+000, 0.00000000e+000, 0.00000000e+000, 0.00000000e+000,\n",
       "       0.00000000e+000, 0.00000000e+000, 0.00000000e+000, 0.00000000e+000,\n",
       "       0.00000000e+000, 0.00000000e+000, 0.00000000e+000, 0.00000000e+000,\n",
       "       0.00000000e+000, 0.00000000e+000, 0.00000000e+000, 0.00000000e+000,\n",
       "       0.00000000e+000, 0.00000000e+000, 0.00000000e+000, 0.00000000e+000,\n",
       "       0.00000000e+000, 0.00000000e+000, 0.00000000e+000, 0.00000000e+000,\n",
       "       0.00000000e+000, 0.00000000e+000, 0.00000000e+000, 0.00000000e+000,\n",
       "       0.00000000e+000, 0.00000000e+000, 0.00000000e+000, 0.00000000e+000,\n",
       "       0.00000000e+000, 0.00000000e+000, 0.00000000e+000, 0.00000000e+000,\n",
       "       0.00000000e+000, 0.00000000e+000, 0.00000000e+000, 0.00000000e+000,\n",
       "       0.00000000e+000, 0.00000000e+000, 0.00000000e+000, 0.00000000e+000,\n",
       "       0.00000000e+000, 0.00000000e+000, 0.00000000e+000, 0.00000000e+000,\n",
       "       0.00000000e+000, 0.00000000e+000, 0.00000000e+000, 0.00000000e+000,\n",
       "       0.00000000e+000, 0.00000000e+000, 0.00000000e+000, 0.00000000e+000,\n",
       "       0.00000000e+000, 0.00000000e+000, 0.00000000e+000, 0.00000000e+000,\n",
       "       0.00000000e+000, 0.00000000e+000, 0.00000000e+000, 0.00000000e+000,\n",
       "       0.00000000e+000, 0.00000000e+000, 0.00000000e+000, 0.00000000e+000,\n",
       "       0.00000000e+000, 0.00000000e+000, 0.00000000e+000, 0.00000000e+000,\n",
       "       0.00000000e+000, 0.00000000e+000, 0.00000000e+000, 0.00000000e+000,\n",
       "       0.00000000e+000, 0.00000000e+000, 0.00000000e+000, 0.00000000e+000,\n",
       "       0.00000000e+000, 0.00000000e+000, 0.00000000e+000, 0.00000000e+000,\n",
       "       0.00000000e+000, 0.00000000e+000, 0.00000000e+000, 0.00000000e+000,\n",
       "       0.00000000e+000, 0.00000000e+000, 0.00000000e+000, 0.00000000e+000,\n",
       "       0.00000000e+000, 0.00000000e+000, 0.00000000e+000, 0.00000000e+000,\n",
       "       0.00000000e+000, 0.00000000e+000, 0.00000000e+000, 0.00000000e+000,\n",
       "       0.00000000e+000, 0.00000000e+000, 0.00000000e+000, 0.00000000e+000,\n",
       "       0.00000000e+000, 0.00000000e+000, 0.00000000e+000, 0.00000000e+000,\n",
       "       0.00000000e+000, 0.00000000e+000, 0.00000000e+000, 0.00000000e+000,\n",
       "       0.00000000e+000, 0.00000000e+000, 0.00000000e+000, 0.00000000e+000,\n",
       "       0.00000000e+000, 0.00000000e+000, 0.00000000e+000, 0.00000000e+000,\n",
       "       0.00000000e+000, 0.00000000e+000, 0.00000000e+000, 0.00000000e+000,\n",
       "       0.00000000e+000, 0.00000000e+000, 0.00000000e+000, 0.00000000e+000,\n",
       "       0.00000000e+000, 0.00000000e+000, 0.00000000e+000, 0.00000000e+000,\n",
       "       0.00000000e+000, 0.00000000e+000, 0.00000000e+000, 0.00000000e+000,\n",
       "       3.26083326e-322, 5.24336441e-231, 4.04009647e-300, 0.00000000e+000,\n",
       "       0.00000000e+000, 0.00000000e+000, 0.00000000e+000, 0.00000000e+000,\n",
       "       0.00000000e+000, 0.00000000e+000, 0.00000000e+000, 0.00000000e+000,\n",
       "       0.00000000e+000, 0.00000000e+000, 0.00000000e+000, 0.00000000e+000,\n",
       "       0.00000000e+000, 0.00000000e+000, 0.00000000e+000, 0.00000000e+000,\n",
       "       0.00000000e+000, 0.00000000e+000, 0.00000000e+000, 0.00000000e+000])"
      ]
     },
     "execution_count": 31,
     "metadata": {},
     "output_type": "execute_result"
    }
   ],
   "source": [
    "pvalues_f"
   ]
  },
  {
   "cell_type": "code",
   "execution_count": 32,
   "metadata": {},
   "outputs": [
    {
     "data": {
      "text/plain": [
       "392"
      ]
     },
     "execution_count": 32,
     "metadata": {},
     "output_type": "execute_result"
    }
   ],
   "source": [
    "k = F.shape[0] - (pvalues_f > 0.05).sum()\n",
    "k"
   ]
  },
  {
   "cell_type": "markdown",
   "metadata": {},
   "source": [
    "根据F统计量的p值确定k=392。"
   ]
  },
  {
   "cell_type": "markdown",
   "metadata": {},
   "source": [
    "**3.互信息法（线性+非线性）**"
   ]
  },
  {
   "cell_type": "markdown",
   "metadata": {},
   "source": [
    "互信息法用来捕捉每个特征与标签之间的任意关系（包括**线性和非线性**关系）的过滤方法，`sklearn.feature_selection.mutual_info_classif`用于互信息**分类**，`sklearn.feature_selection.mutual_info_regression`用于互信息**回归**。互信息法不返回p值或F值类似的统计量，它返回**每个特征和目标之间的互信息量的估计**，这个估计量在[0,1]之间取值，为**0**则表示两个变量**独立**，为**1**则表示两个变量**完全相关**。"
   ]
  },
  {
   "cell_type": "code",
   "execution_count": 33,
   "metadata": {},
   "outputs": [],
   "source": [
    "from sklearn.feature_selection import mutual_info_classif as MIC"
   ]
  },
  {
   "cell_type": "markdown",
   "metadata": {},
   "source": [
    "（1）学习曲线"
   ]
  },
  {
   "cell_type": "code",
   "execution_count": 34,
   "metadata": {},
   "outputs": [
    {
     "data": {
      "text/plain": [
       "[<matplotlib.lines.Line2D at 0x293a01118b0>]"
      ]
     },
     "execution_count": 34,
     "metadata": {},
     "output_type": "execute_result"
    },
    {
     "data": {
      "image/png": "[encoded data removed]",
      "text/plain": [
       "<Figure size 432x288 with 1 Axes>"
      ]
     },
     "metadata": {
      "needs_background": "light"
     },
     "output_type": "display_data"
    }
   ],
   "source": [
    "score = []\n",
    "for i in range(390,200,-10):\n",
    "    x_fsmic = SelectKBest(MIC, k=i).fit_transform(X_fsvar,y)\n",
    "    once = cross_val_score(RFC(n_estimators=10, random_state=0),x_fsmic,y,cv=5).mean()\n",
    "    score.append(once)\n",
    "plt.plot(range(390,200,-10),score)"
   ]
  },
  {
   "cell_type": "markdown",
   "metadata": {},
   "source": [
    "（2）根据互信息量选择k：选取互信息量大于0的特征"
   ]
  },
  {
   "cell_type": "code",
   "execution_count": 35,
   "metadata": {},
   "outputs": [],
   "source": [
    "result = MIC(X_fsvar,y) #参数：特征矩阵，标签"
   ]
  },
  {
   "cell_type": "code",
   "execution_count": 36,
   "metadata": {},
   "outputs": [
    {
     "data": {
      "text/plain": [
       "array([0.0650104 , 0.08426526, 0.09742239, 0.11550521, 0.11691636,\n",
       "       0.10415005, 0.08488675, 0.05662605, 0.08176214, 0.09965716,\n",
       "       0.1167988 , 0.13748926, 0.16316366, 0.16614488, 0.15951659,\n",
       "       0.12683727, 0.09885788, 0.06357939, 0.04003084, 0.02717691,\n",
       "       0.07120253, 0.09609901, 0.1180124 , 0.15015503, 0.17551452,\n",
       "       0.20276118, 0.22639214, 0.23543282, 0.21866957, 0.18145266,\n",
       "       0.14753337, 0.10824114, 0.08103158, 0.05736206, 0.04880497,\n",
       "       0.02669239, 0.06039764, 0.07901721, 0.10372783, 0.1185905 ,\n",
       "       0.13546562, 0.14594766, 0.16305275, 0.17859042, 0.18656156,\n",
       "       0.17132796, 0.15261868, 0.12890553, 0.11399748, 0.09881192,\n",
       "       0.07807477, 0.0711158 , 0.05849101, 0.04987486, 0.05774976,\n",
       "       0.07206816, 0.09018727, 0.09266322, 0.10777826, 0.10753331,\n",
       "       0.10663969, 0.1151975 , 0.11929936, 0.12362709, 0.10682413,\n",
       "       0.10957077, 0.11368341, 0.11089696, 0.09139497, 0.08103074,\n",
       "       0.06928067, 0.03664856, 0.05340734, 0.06318892, 0.07864216,\n",
       "       0.09423881, 0.11935914, 0.14844933, 0.14689241, 0.12195945,\n",
       "       0.10802043, 0.11666911, 0.11435271, 0.12180546, 0.13172362,\n",
       "       0.1377313 , 0.1252071 , 0.1058975 , 0.09312546, 0.06975658,\n",
       "       0.04018858, 0.05579365, 0.0663758 , 0.0921364 , 0.13421352,\n",
       "       0.19276095, 0.20081409, 0.16642095, 0.10441452, 0.10091487,\n",
       "       0.1270316 , 0.12118888, 0.13048292, 0.13992137, 0.14968136,\n",
       "       0.1372064 , 0.11921575, 0.09160775, 0.06693182, 0.03767779,\n",
       "       0.0510578 , 0.07598869, 0.122186  , 0.17496888, 0.21722573,\n",
       "       0.19434378, 0.12380131, 0.07367453, 0.11431635, 0.15016595,\n",
       "       0.11642559, 0.13054032, 0.16146621, 0.15691094, 0.14598833,\n",
       "       0.13244291, 0.11061006, 0.06900477, 0.02784222, 0.0568084 ,\n",
       "       0.09526061, 0.15757542, 0.20379934, 0.22225092, 0.16883253,\n",
       "       0.11533398, 0.11395276, 0.17315302, 0.19049204, 0.11993507,\n",
       "       0.14429263, 0.18310279, 0.1532058 , 0.13458364, 0.14065898,\n",
       "       0.12363003, 0.08155258, 0.03434604, 0.07264878, 0.12538111,\n",
       "       0.18891463, 0.22450232, 0.21825835, 0.19817218, 0.16813681,\n",
       "       0.1954909 , 0.25905112, 0.22491621, 0.14246179, 0.18077373,\n",
       "       0.1830574 , 0.1332996 , 0.12529851, 0.14200458, 0.14327897,\n",
       "       0.10072949, 0.0469293 , 0.08985035, 0.15334438, 0.20889976,\n",
       "       0.22441432, 0.20867059, 0.20676135, 0.2005153 , 0.25622905,\n",
       "       0.28557883, 0.21541228, 0.17890579, 0.21529561, 0.18050684,\n",
       "       0.11917306, 0.11794279, 0.14951812, 0.14566881, 0.10251224,\n",
       "       0.05906355, 0.1151345 , 0.17353733, 0.22022914, 0.22725817,\n",
       "       0.19762537, 0.17892443, 0.181787  , 0.25138352, 0.28067435,\n",
       "       0.19501491, 0.21175097, 0.24780475, 0.185656  , 0.12140375,\n",
       "       0.13544975, 0.15698542, 0.13791841, 0.09140519, 0.06960376,\n",
       "       0.13187218, 0.19878662, 0.22707661, 0.22173074, 0.18501537,\n",
       "       0.16795527, 0.19680436, 0.2589628 , 0.27356797, 0.20104252,\n",
       "       0.23139018, 0.23232404, 0.15463294, 0.13054416, 0.14789913,\n",
       "       0.15315065, 0.13578521, 0.08629156, 0.08199469, 0.14001312,\n",
       "       0.19625369, 0.20928853, 0.20098079, 0.18910063, 0.18952354,\n",
       "       0.21765067, 0.27009281, 0.25222771, 0.18387947, 0.20798802,\n",
       "       0.17729123, 0.13626425, 0.13816064, 0.17182571, 0.15462265,\n",
       "       0.11771794, 0.07207663, 0.08391694, 0.14513029, 0.17554294,\n",
       "       0.19158149, 0.18632911, 0.19945763, 0.19282139, 0.21405789,\n",
       "       0.24243514, 0.20176377, 0.16112409, 0.1545518 , 0.12594718,\n",
       "       0.12862165, 0.16574675, 0.17252808, 0.14427478, 0.09866226,\n",
       "       0.05492476, 0.04654478, 0.09390369, 0.14568299, 0.18784944,\n",
       "       0.19216362, 0.20218335, 0.21392434, 0.21101095, 0.20448184,\n",
       "       0.19580169, 0.14520626, 0.10854065, 0.09494473, 0.10558361,\n",
       "       0.15927554, 0.19302426, 0.17876654, 0.13800073, 0.09494737,\n",
       "       0.05329327, 0.04252422, 0.10483553, 0.16871279, 0.20282721,\n",
       "       0.213949  , 0.21823686, 0.2273937 , 0.20370972, 0.17415406,\n",
       "       0.137103  , 0.09472681, 0.06781723, 0.08922113, 0.13340949,\n",
       "       0.18593999, 0.19053697, 0.15307574, 0.1137    , 0.08473647,\n",
       "       0.05038535, 0.04703941, 0.11130148, 0.16391758, 0.21592818,\n",
       "       0.24041941, 0.23275583, 0.21899534, 0.17553771, 0.13870884,\n",
       "       0.10256467, 0.07362034, 0.06832916, 0.10318629, 0.14429743,\n",
       "       0.15964329, 0.14526284, 0.11785605, 0.08699008, 0.06676118,\n",
       "       0.09257074, 0.14219924, 0.19893588, 0.22723084, 0.23005628,\n",
       "       0.19233781, 0.13947748, 0.09001664, 0.08062121, 0.06190131,\n",
       "       0.08102425, 0.10570483, 0.11738367, 0.12111389, 0.10406388,\n",
       "       0.08122006, 0.06270293, 0.04476194, 0.05902971, 0.10042275,\n",
       "       0.14113146, 0.19144067, 0.19327881, 0.19200643, 0.15687266,\n",
       "       0.13248495, 0.12076163, 0.11604282, 0.10462451, 0.09648471,\n",
       "       0.08824217, 0.07693487, 0.05704254, 0.0390692 , 0.03459121,\n",
       "       0.04896227, 0.08687862, 0.10683325, 0.13202489, 0.15794349,\n",
       "       0.17475284, 0.18494949, 0.18001317, 0.15749014, 0.1187996 ,\n",
       "       0.09682701, 0.07293217, 0.05104041, 0.03787908, 0.01669055,\n",
       "       0.02988458, 0.04035143, 0.06570763, 0.09152798, 0.1061548 ,\n",
       "       0.12690456, 0.12189703, 0.10990872, 0.09016708, 0.07755549,\n",
       "       0.06089444, 0.04329616, 0.02875897, 0.05798791, 0.08458254,\n",
       "       0.1058058 , 0.11791603, 0.11495455, 0.10161004, 0.08420879,\n",
       "       0.06834018, 0.05562401])"
      ]
     },
     "execution_count": 36,
     "metadata": {},
     "output_type": "execute_result"
    }
   ],
   "source": [
    "result #每个特征与目标之间的互信息量的估计"
   ]
  },
  {
   "cell_type": "code",
   "execution_count": 37,
   "metadata": {},
   "outputs": [
    {
     "data": {
      "text/plain": [
       "392"
      ]
     },
     "execution_count": 37,
     "metadata": {},
     "output_type": "execute_result"
    }
   ],
   "source": [
    "(result > 0).sum()"
   ]
  },
  {
   "cell_type": "code",
   "execution_count": 38,
   "metadata": {},
   "outputs": [
    {
     "data": {
      "text/plain": [
       "392"
      ]
     },
     "execution_count": 38,
     "metadata": {},
     "output_type": "execute_result"
    }
   ],
   "source": [
    "k = result.shape[0] - sum(result <= 0)\n",
    "k"
   ]
  },
  {
   "cell_type": "markdown",
   "metadata": {},
   "source": [
    "根据互信息量确定k=392。"
   ]
  },
  {
   "cell_type": "code",
   "execution_count": 39,
   "metadata": {},
   "outputs": [
    {
     "data": {
      "text/plain": [
       "0.9390476190476191"
      ]
     },
     "execution_count": 39,
     "metadata": {},
     "output_type": "execute_result"
    }
   ],
   "source": [
    "X_fsF = SelectKBest(f_classif, k=392).fit_transform(X_fsvar,y) #第一个参数：模型依赖的统计量；第二个参数：选前k个卡方值最高的特征\n",
    "cross_val_score(RFC(n_estimators=10,random_state=0),X_fsF,y,cv=5).mean()"
   ]
  },
  {
   "cell_type": "markdown",
   "metadata": {},
   "source": [
    "**过滤法总结**：先使用方差过滤，再使用相关性过滤中的互信息法捕捉相关性。"
   ]
  },
  {
   "cell_type": "markdown",
   "metadata": {},
   "source": [
    "## 二、Embedded嵌入法（运行慢）"
   ]
  },
  {
   "cell_type": "markdown",
   "metadata": {},
   "source": [
    "特征选择和算法训练同时进行。在使用嵌入法`sklearn.feature_selection.SelectFromModel`时，先使用某些机器学习的算法和模型进行训练，得到各个特征的**权值系数**（代表特征对于模型的某种贡献或某种重要性），根据权值系数从大到小选择特征。但是权值系数**很难界定**有效的临界值（p=0.05），只能说权值系数为0的特征对模型丝毫没有作用，此时模型权值系数就是超参数，需要根据**学习曲线**或**模型本身**的某些性质去判断超参数的最佳值。"
   ]
  },
  {
   "cell_type": "code",
   "execution_count": 40,
   "metadata": {},
   "outputs": [],
   "source": [
    "from sklearn.feature_selection import SelectFromModel\n",
    "from sklearn.ensemble import RandomForestClassifier as RFC"
   ]
  },
  {
   "cell_type": "code",
   "execution_count": 41,
   "metadata": {},
   "outputs": [],
   "source": [
    "RFC_ = RFC(n_estimators=10,random_state=0) #随机森林的实例化"
   ]
  },
  {
   "cell_type": "code",
   "execution_count": 42,
   "metadata": {},
   "outputs": [],
   "source": [
    "#使用原始的特征矩阵\n",
    "X_embedded = SelectFromModel(RFC_,threshold=0.005).fit_transform(X,y) #嵌入法的实例化（参数：实例化后的算法；低于该阈值的特征将被删除，阈值在0到1之间波动）"
   ]
  },
  {
   "cell_type": "code",
   "execution_count": 43,
   "metadata": {},
   "outputs": [
    {
     "data": {
      "text/plain": [
       "(42000, 47)"
      ]
     },
     "execution_count": 43,
     "metadata": {},
     "output_type": "execute_result"
    }
   ],
   "source": [
    "X_embedded.shape #删掉了784-47=733个特征"
   ]
  },
  {
   "cell_type": "markdown",
   "metadata": {},
   "source": [
    "**画一个简单的学习曲线确定最佳阈值**"
   ]
  },
  {
   "cell_type": "code",
   "execution_count": 44,
   "metadata": {},
   "outputs": [],
   "source": [
    "import numpy as np\n",
    "import matplotlib.pyplot as plt"
   ]
  },
  {
   "cell_type": "code",
   "execution_count": 45,
   "metadata": {},
   "outputs": [
    {
     "data": {
      "text/plain": [
       "array([0.00000000e+00, 0.00000000e+00, 0.00000000e+00, 0.00000000e+00,\n",
       "       0.00000000e+00, 0.00000000e+00, 0.00000000e+00, 0.00000000e+00,\n",
       "       0.00000000e+00, 0.00000000e+00, 0.00000000e+00, 0.00000000e+00,\n",
       "       0.00000000e+00, 0.00000000e+00, 0.00000000e+00, 0.00000000e+00,\n",
       "       0.00000000e+00, 0.00000000e+00, 0.00000000e+00, 0.00000000e+00,\n",
       "       0.00000000e+00, 0.00000000e+00, 0.00000000e+00, 0.00000000e+00,\n",
       "       0.00000000e+00, 0.00000000e+00, 0.00000000e+00, 0.00000000e+00,\n",
       "       0.00000000e+00, 0.00000000e+00, 0.00000000e+00, 0.00000000e+00,\n",
       "       0.00000000e+00, 0.00000000e+00, 4.96726660e-06, 0.00000000e+00,\n",
       "       0.00000000e+00, 0.00000000e+00, 0.00000000e+00, 4.39623410e-06,\n",
       "       7.35101726e-06, 0.00000000e+00, 0.00000000e+00, 0.00000000e+00,\n",
       "       4.70425050e-06, 0.00000000e+00, 0.00000000e+00, 0.00000000e+00,\n",
       "       0.00000000e+00, 0.00000000e+00, 5.09114204e-06, 0.00000000e+00,\n",
       "       0.00000000e+00, 0.00000000e+00, 0.00000000e+00, 0.00000000e+00,\n",
       "       0.00000000e+00, 0.00000000e+00, 0.00000000e+00, 0.00000000e+00,\n",
       "       0.00000000e+00, 0.00000000e+00, 0.00000000e+00, 1.04375545e-05,\n",
       "       0.00000000e+00, 0.00000000e+00, 5.29478959e-05, 3.21066639e-04,\n",
       "       3.72896708e-05, 7.84734515e-05, 3.81080672e-05, 4.28007718e-05,\n",
       "       7.70708109e-06, 4.96573475e-05, 1.07617170e-04, 1.68715849e-05,\n",
       "       1.17836211e-05, 2.55943987e-05, 0.00000000e+00, 0.00000000e+00,\n",
       "       0.00000000e+00, 0.00000000e+00, 0.00000000e+00, 0.00000000e+00,\n",
       "       0.00000000e+00, 0.00000000e+00, 0.00000000e+00, 0.00000000e+00,\n",
       "       0.00000000e+00, 4.98169346e-06, 4.94027841e-06, 2.83311486e-05,\n",
       "       4.09543756e-05, 1.72821858e-04, 9.57100915e-05, 2.45907321e-04,\n",
       "       1.83422252e-04, 1.67021648e-03, 1.33678817e-03, 4.97681606e-04,\n",
       "       9.81528697e-04, 2.57107282e-03, 1.29146589e-03, 1.65060000e-03,\n",
       "       1.86071384e-04, 9.53324105e-05, 2.15756468e-05, 1.93742313e-05,\n",
       "       1.76038786e-05, 1.04294263e-05, 0.00000000e+00, 0.00000000e+00,\n",
       "       0.00000000e+00, 0.00000000e+00, 0.00000000e+00, 0.00000000e+00,\n",
       "       0.00000000e+00, 2.67461542e-05, 6.87034035e-06, 7.72427467e-05,\n",
       "       1.32367326e-04, 1.90286903e-04, 5.95754392e-04, 1.20094659e-03,\n",
       "       8.38179934e-04, 1.55287193e-03, 1.25015678e-03, 3.10076865e-03,\n",
       "       3.53710687e-03, 6.09457703e-04, 4.40384898e-04, 6.77374025e-04,\n",
       "       5.30201989e-04, 1.79987666e-04, 1.82267211e-04, 5.92697964e-05,\n",
       "       1.80767363e-05, 5.24921596e-06, 0.00000000e+00, 0.00000000e+00,\n",
       "       0.00000000e+00, 0.00000000e+00, 0.00000000e+00, 0.00000000e+00,\n",
       "       3.63793673e-05, 6.43483201e-05, 8.13740620e-05, 1.76906929e-04,\n",
       "       3.00785753e-04, 2.00237912e-03, 2.17988175e-03, 8.02080061e-04,\n",
       "       5.59932650e-03, 5.32674802e-03, 9.82923375e-03, 4.75128066e-03,\n",
       "       7.25896751e-03, 2.57320673e-03, 6.13199153e-03, 2.79002672e-03,\n",
       "       8.60740254e-04, 1.68934107e-03, 6.62626894e-04, 3.72068454e-04,\n",
       "       1.11864559e-04, 5.01402939e-06, 2.59729852e-06, 0.00000000e+00,\n",
       "       0.00000000e+00, 0.00000000e+00, 0.00000000e+00, 5.24370634e-06,\n",
       "       5.39166565e-05, 3.11018823e-05, 2.34878167e-04, 3.89033229e-04,\n",
       "       2.30902923e-03, 2.57256846e-03, 1.38900529e-03, 2.65304800e-03,\n",
       "       4.67867505e-03, 3.49571544e-03, 1.74013763e-03, 4.74732141e-03,\n",
       "       2.19504075e-03, 2.01126998e-03, 2.39322271e-03, 1.94485134e-03,\n",
       "       1.91736734e-03, 1.26111979e-03, 7.17005718e-04, 1.41834376e-03,\n",
       "       2.47847664e-04, 4.23798505e-05, 0.00000000e+00, 0.00000000e+00,\n",
       "       0.00000000e+00, 0.00000000e+00, 2.64644966e-06, 1.02232772e-05,\n",
       "       4.19366739e-05, 1.51187645e-04, 3.84353726e-04, 5.75432437e-04,\n",
       "       1.20251320e-03, 1.11728097e-03, 1.43117176e-03, 1.85993731e-03,\n",
       "       3.18900495e-03, 4.24721472e-03, 7.15525695e-03, 4.59547276e-03,\n",
       "       7.86762226e-03, 4.41108734e-03, 1.54578735e-03, 1.06705126e-03,\n",
       "       1.49258829e-03, 1.28480766e-03, 9.93716659e-04, 1.33748351e-03,\n",
       "       1.04061523e-03, 1.40851781e-04, 2.46917895e-05, 0.00000000e+00,\n",
       "       0.00000000e+00, 0.00000000e+00, 1.23372533e-05, 1.91675705e-05,\n",
       "       2.16315147e-04, 2.36117271e-04, 8.51271969e-04, 7.04486223e-04,\n",
       "       1.07859246e-03, 1.64029329e-03, 2.90544958e-03, 3.15084018e-03,\n",
       "       4.87802961e-03, 2.34634670e-03, 3.93852105e-03, 5.43460799e-03,\n",
       "       5.86237142e-03, 3.15346289e-03, 6.82349562e-03, 4.34223264e-03,\n",
       "       3.86949586e-03, 2.03220256e-03, 7.00743969e-04, 1.01816134e-03,\n",
       "       6.52755553e-04, 1.05428274e-04, 4.64072405e-06, 8.60096309e-06,\n",
       "       0.00000000e+00, 9.18662879e-06, 7.05716770e-06, 2.57599316e-05,\n",
       "       6.82385198e-05, 2.48904426e-04, 1.27880958e-03, 1.34106798e-03,\n",
       "       9.88188421e-04, 2.10154796e-03, 3.36772807e-03, 6.04369789e-03,\n",
       "       3.07695369e-03, 3.00021995e-03, 3.37748090e-03, 4.86394760e-03,\n",
       "       3.54139826e-03, 5.97819039e-03, 1.71616932e-03, 4.15596755e-03,\n",
       "       2.47392287e-03, 2.36136390e-03, 1.63397286e-03, 4.48393070e-04,\n",
       "       5.54092223e-04, 4.14227893e-05, 0.00000000e+00, 0.00000000e+00,\n",
       "       0.00000000e+00, 0.00000000e+00, 5.26899634e-06, 1.56088268e-04,\n",
       "       1.13966961e-04, 1.74915348e-04, 6.44627258e-04, 5.68303338e-04,\n",
       "       1.63319806e-03, 4.62162655e-03, 5.83028006e-03, 5.84100388e-03,\n",
       "       2.83270210e-03, 2.14239040e-03, 3.35948722e-03, 2.60839810e-03,\n",
       "       2.50701816e-03, 4.82670205e-03, 5.89666662e-03, 3.04992055e-03,\n",
       "       3.41911464e-03, 1.12637810e-03, 7.01707700e-04, 2.10535503e-04,\n",
       "       2.04943891e-04, 6.40794860e-05, 2.64614091e-06, 0.00000000e+00,\n",
       "       0.00000000e+00, 0.00000000e+00, 3.52876307e-06, 1.73010344e-05,\n",
       "       3.23154454e-04, 1.18730749e-04, 5.01029809e-04, 1.50202308e-03,\n",
       "       1.53700272e-03, 6.11456403e-03, 4.34902573e-03, 3.35546394e-03,\n",
       "       5.87789239e-03, 2.51293898e-03, 3.17370607e-03, 3.45751913e-03,\n",
       "       2.29793132e-03, 4.17392058e-03, 5.82675966e-03, 2.83060606e-03,\n",
       "       3.79048860e-03, 1.04936114e-03, 7.03677686e-04, 6.28439770e-04,\n",
       "       1.15259208e-04, 7.44590415e-05, 1.04994603e-05, 0.00000000e+00,\n",
       "       0.00000000e+00, 0.00000000e+00, 1.58480368e-05, 8.38015968e-06,\n",
       "       7.29727487e-05, 4.58356454e-04, 5.41496181e-04, 1.05167245e-03,\n",
       "       1.64596693e-03, 3.00082596e-03, 5.53132168e-03, 4.04488155e-03,\n",
       "       2.62974709e-03, 5.05500552e-03, 6.96693959e-03, 3.39745427e-03,\n",
       "       3.32871913e-03, 3.41607543e-03, 2.74289623e-03, 1.34605792e-03,\n",
       "       1.28266397e-03, 2.86907034e-03, 4.37592501e-03, 5.70010069e-04,\n",
       "       6.28420535e-05, 8.66985846e-06, 1.88614134e-05, 0.00000000e+00,\n",
       "       0.00000000e+00, 5.07941099e-06, 0.00000000e+00, 3.30247867e-05,\n",
       "       4.07335970e-05, 2.06942431e-04, 1.13712177e-03, 9.31937042e-04,\n",
       "       4.14319758e-03, 5.55092635e-03, 3.00151203e-03, 3.90947224e-03,\n",
       "       3.56773974e-03, 6.51955884e-03, 9.53149654e-03, 1.04694058e-02,\n",
       "       2.78585321e-03, 3.32633681e-03, 4.92832778e-03, 1.47824275e-03,\n",
       "       9.11054702e-04, 7.61598938e-04, 2.70451017e-03, 5.35404177e-04,\n",
       "       9.96457782e-05, 3.14222399e-05, 0.00000000e+00, 0.00000000e+00,\n",
       "       0.00000000e+00, 0.00000000e+00, 3.96978697e-06, 5.21588243e-06,\n",
       "       4.83166769e-05, 2.73878244e-04, 7.87729782e-04, 1.50109957e-03,\n",
       "       4.68533446e-03, 3.87612563e-03, 5.67003476e-03, 2.36023388e-03,\n",
       "       5.93148815e-03, 4.71373442e-03, 5.52560277e-03, 1.02884076e-02,\n",
       "       4.29557610e-03, 1.12774927e-02, 2.77441947e-03, 2.72491516e-03,\n",
       "       1.44030628e-03, 4.10553375e-03, 2.64943685e-04, 5.11833536e-04,\n",
       "       1.40472270e-04, 1.79084679e-05, 1.77952716e-05, 5.14181932e-06,\n",
       "       0.00000000e+00, 0.00000000e+00, 0.00000000e+00, 1.05843388e-05,\n",
       "       1.27523758e-04, 6.43468836e-04, 8.31565905e-04, 1.70449912e-03,\n",
       "       1.97585662e-03, 1.03326213e-02, 6.51715463e-03, 2.51474500e-03,\n",
       "       4.45321356e-03, 9.25048608e-03, 5.64462078e-03, 4.37348237e-03,\n",
       "       2.48720699e-03, 6.86810239e-03, 1.74833765e-03, 1.26700872e-03,\n",
       "       9.76402337e-04, 1.14948866e-03, 1.12740475e-03, 3.55493697e-04,\n",
       "       1.65851188e-04, 5.68633276e-05, 0.00000000e+00, 0.00000000e+00,\n",
       "       0.00000000e+00, 0.00000000e+00, 1.66021879e-05, 5.45348998e-05,\n",
       "       4.59211388e-05, 2.34098914e-04, 5.06234432e-03, 4.27063479e-03,\n",
       "       2.39257951e-03, 4.61990114e-03, 3.30496636e-03, 3.33854229e-03,\n",
       "       3.32969638e-03, 6.80014826e-03, 2.53704828e-03, 1.90375781e-03,\n",
       "       2.48951700e-03, 3.25158138e-03, 2.31606267e-03, 1.80236457e-03,\n",
       "       1.17266716e-03, 8.52676338e-04, 4.79005366e-04, 3.50563863e-04,\n",
       "       1.56906559e-04, 2.49268946e-05, 1.03169010e-05, 8.82122072e-06,\n",
       "       0.00000000e+00, 0.00000000e+00, 0.00000000e+00, 5.90546235e-05,\n",
       "       7.88704875e-05, 8.93634610e-04, 6.94020542e-04, 1.20345523e-03,\n",
       "       2.54044035e-03, 2.83230622e-03, 4.09933983e-03, 3.29395754e-03,\n",
       "       7.25903583e-03, 9.87880420e-03, 1.00977121e-02, 3.13706882e-03,\n",
       "       1.45463444e-03, 2.30625167e-03, 4.36681075e-03, 1.40686900e-03,\n",
       "       7.71080832e-04, 4.72573500e-04, 6.92470927e-04, 2.10882278e-04,\n",
       "       1.59887529e-04, 4.25095501e-05, 9.34580618e-06, 5.17727569e-06,\n",
       "       0.00000000e+00, 0.00000000e+00, 8.49057021e-06, 8.09379015e-05,\n",
       "       1.52667865e-04, 2.94682754e-04, 1.35550050e-03, 4.49735800e-03,\n",
       "       1.28105089e-03, 2.31970006e-03, 2.34781587e-03, 1.27636021e-02,\n",
       "       2.19523640e-03, 2.41654975e-03, 2.10844302e-03, 1.71325263e-03,\n",
       "       8.69359356e-04, 3.91492035e-03, 6.91924396e-03, 1.10238422e-03,\n",
       "       1.33621731e-03, 1.34601819e-03, 9.33978020e-04, 2.82706898e-04,\n",
       "       1.17855133e-04, 7.23606373e-05, 0.00000000e+00, 0.00000000e+00,\n",
       "       0.00000000e+00, 0.00000000e+00, 7.93842272e-06, 2.30929786e-04,\n",
       "       1.09578044e-04, 9.39787779e-04, 2.50398713e-03, 1.77156509e-03,\n",
       "       2.03739208e-03, 9.54215286e-03, 2.52326238e-03, 2.97043796e-03,\n",
       "       4.37234458e-03, 1.99656347e-03, 3.08114892e-03, 1.65516988e-03,\n",
       "       1.07792201e-03, 2.44342936e-03, 1.22032946e-03, 5.26252267e-03,\n",
       "       8.27756677e-04, 8.44727742e-04, 3.68115383e-04, 1.73202448e-04,\n",
       "       1.26854745e-04, 1.52414678e-05, 1.04038762e-05, 0.00000000e+00,\n",
       "       0.00000000e+00, 0.00000000e+00, 0.00000000e+00, 3.76744549e-05,\n",
       "       1.83409930e-04, 1.45882648e-03, 1.00645114e-03, 3.27870252e-03,\n",
       "       2.13913782e-03, 6.13495296e-03, 3.50175122e-03, 3.52761230e-03,\n",
       "       2.75623799e-03, 3.97448421e-03, 1.44302862e-03, 1.75858337e-03,\n",
       "       1.51206834e-03, 1.46700318e-03, 9.08321557e-04, 2.22925996e-03,\n",
       "       1.48254286e-03, 8.57378425e-04, 3.99971776e-04, 5.11110295e-04,\n",
       "       4.36565498e-05, 2.71405310e-05, 0.00000000e+00, 0.00000000e+00,\n",
       "       0.00000000e+00, 0.00000000e+00, 4.68939741e-06, 6.85322336e-05,\n",
       "       7.32909456e-04, 3.69494001e-04, 9.37742251e-04, 3.11084738e-03,\n",
       "       2.51401499e-03, 4.48363496e-03, 2.22316180e-03, 1.09418645e-03,\n",
       "       1.98315806e-03, 1.07395133e-03, 1.21395404e-03, 1.90010236e-03,\n",
       "       1.07770399e-03, 9.46524339e-04, 7.22390654e-04, 8.23678460e-04,\n",
       "       4.86429638e-04, 1.69959091e-03, 2.30072266e-04, 1.58290498e-04,\n",
       "       7.08265381e-05, 1.03258860e-05, 0.00000000e+00, 0.00000000e+00,\n",
       "       0.00000000e+00, 0.00000000e+00, 0.00000000e+00, 2.37481499e-05,\n",
       "       1.24712280e-04, 1.34419610e-04, 7.17713513e-04, 9.41939756e-04,\n",
       "       4.60329650e-03, 4.77462409e-03, 2.66748761e-03, 2.03891226e-03,\n",
       "       1.56470228e-03, 1.41617812e-03, 1.28207400e-03, 1.42887646e-03,\n",
       "       8.46671326e-04, 1.77447428e-03, 1.51782753e-03, 6.33095101e-04,\n",
       "       6.30765641e-04, 2.88161403e-04, 3.05029795e-04, 1.12466566e-04,\n",
       "       2.75681464e-05, 4.55441849e-06, 5.16468244e-06, 0.00000000e+00,\n",
       "       0.00000000e+00, 0.00000000e+00, 5.08305424e-06, 4.89332518e-06,\n",
       "       2.46008387e-05, 8.31376723e-05, 4.79932393e-04, 3.30739912e-04,\n",
       "       1.10543090e-03, 3.08453861e-03, 4.17801871e-03, 2.49670681e-03,\n",
       "       4.16378285e-03, 5.66440415e-03, 7.09175694e-03, 2.36066429e-03,\n",
       "       1.03455291e-03, 5.95763775e-04, 8.25377463e-04, 3.50173207e-04,\n",
       "       4.44834129e-04, 2.05457739e-04, 5.33080607e-05, 4.73933260e-05,\n",
       "       3.56526224e-05, 0.00000000e+00, 0.00000000e+00, 0.00000000e+00,\n",
       "       0.00000000e+00, 0.00000000e+00, 0.00000000e+00, 4.46238647e-06,\n",
       "       2.83095572e-05, 5.78206819e-05, 4.26331449e-04, 2.66286043e-04,\n",
       "       4.55553332e-04, 1.15799246e-03, 1.06486385e-03, 2.11733743e-03,\n",
       "       1.66150100e-03, 8.66222042e-04, 6.60990575e-04, 2.55402546e-03,\n",
       "       8.20486729e-04, 4.02940501e-04, 3.85855702e-04, 2.47553529e-04,\n",
       "       1.37233373e-04, 1.16468104e-04, 4.81919631e-05, 3.69201614e-05,\n",
       "       9.72640279e-06, 0.00000000e+00, 0.00000000e+00, 0.00000000e+00,\n",
       "       0.00000000e+00, 0.00000000e+00, 0.00000000e+00, 0.00000000e+00,\n",
       "       0.00000000e+00, 4.09401975e-05, 2.97450544e-05, 1.83375003e-04,\n",
       "       3.00031936e-04, 9.79359848e-04, 4.42908891e-04, 3.62099959e-04,\n",
       "       6.54463181e-04, 8.79186101e-04, 4.47248554e-04, 6.65237461e-04,\n",
       "       6.91068725e-04, 3.22617137e-04, 4.43746743e-04, 2.16706421e-04,\n",
       "       3.38144020e-04, 7.56933474e-05, 1.79747927e-05, 0.00000000e+00,\n",
       "       0.00000000e+00, 0.00000000e+00, 0.00000000e+00, 0.00000000e+00,\n",
       "       0.00000000e+00, 0.00000000e+00, 0.00000000e+00, 0.00000000e+00,\n",
       "       7.44476502e-06, 1.16079201e-05, 0.00000000e+00, 1.46280748e-05,\n",
       "       5.17941553e-06, 5.09921173e-05, 7.41857827e-05, 3.93379316e-04,\n",
       "       2.47452360e-04, 3.13251304e-04, 3.66999099e-04, 1.30812201e-04,\n",
       "       1.49054545e-04, 8.38358796e-05, 1.24210033e-04, 4.89363342e-05,\n",
       "       1.42399445e-05, 4.85723858e-06, 0.00000000e+00, 1.54516611e-05,\n",
       "       0.00000000e+00, 0.00000000e+00, 0.00000000e+00, 0.00000000e+00,\n",
       "       0.00000000e+00, 0.00000000e+00, 0.00000000e+00, 0.00000000e+00,\n",
       "       0.00000000e+00, 0.00000000e+00, 0.00000000e+00, 0.00000000e+00,\n",
       "       0.00000000e+00, 0.00000000e+00, 9.68555485e-06, 0.00000000e+00,\n",
       "       4.37879533e-06, 0.00000000e+00, 0.00000000e+00, 1.01252722e-05,\n",
       "       0.00000000e+00, 0.00000000e+00, 0.00000000e+00, 0.00000000e+00,\n",
       "       7.93909865e-06, 0.00000000e+00, 0.00000000e+00, 0.00000000e+00,\n",
       "       0.00000000e+00, 0.00000000e+00, 0.00000000e+00, 0.00000000e+00])"
      ]
     },
     "execution_count": 45,
     "metadata": {},
     "output_type": "execute_result"
    }
   ],
   "source": [
    "RFC_.fit(X,y).feature_importances_"
   ]
  },
  {
   "cell_type": "code",
   "execution_count": 46,
   "metadata": {},
   "outputs": [
    {
     "data": {
      "text/plain": [
       "0.01276360214820271"
      ]
     },
     "execution_count": 46,
     "metadata": {},
     "output_type": "execute_result"
    }
   ],
   "source": [
    "(RFC_.fit(X,y).feature_importances_).max() #学习曲线x轴的最大值"
   ]
  },
  {
   "cell_type": "code",
   "execution_count": 47,
   "metadata": {},
   "outputs": [
    {
     "data": {
      "text/plain": [
       "array([0.        , 0.00067177, 0.00134354, 0.00201531, 0.00268707,\n",
       "       0.00335884, 0.00403061, 0.00470238, 0.00537415, 0.00604592,\n",
       "       0.00671769, 0.00738945, 0.00806122, 0.00873299, 0.00940476,\n",
       "       0.01007653, 0.0107483 , 0.01142007, 0.01209183, 0.0127636 ])"
      ]
     },
     "execution_count": 47,
     "metadata": {},
     "output_type": "execute_result"
    }
   ],
   "source": [
    "threshold = np.linspace(0,(RFC_.fit(X,y).feature_importances_).max(),20)\n",
    "threshold #学习曲线x轴刻度"
   ]
  },
  {
   "cell_type": "code",
   "execution_count": 48,
   "metadata": {
    "scrolled": true
   },
   "outputs": [
    {
     "data": {
      "text/plain": [
       "[<matplotlib.lines.Line2D at 0x293a017a7c0>]"
      ]
     },
     "execution_count": 48,
     "metadata": {},
     "output_type": "execute_result"
    },
    {
     "data": {
      "image/png": "[encoded data removed]",
      "text/plain": [
       "<Figure size 432x288 with 1 Axes>"
      ]
     },
     "metadata": {
      "needs_background": "light"
     },
     "output_type": "display_data"
    }
   ],
   "source": [
    "score = []\n",
    "for i in threshold:\n",
    "    X_embedded = SelectFromModel(RFC_,threshold=i).fit_transform(X,y)\n",
    "    once = cross_val_score(RFC_,X_embedded,y,cv=5).mean()\n",
    "    score.append(once)\n",
    "plt.plot(threshold,score)"
   ]
  },
  {
   "cell_type": "markdown",
   "metadata": {},
   "source": [
    "从图像上来看，随着阈值越来越高，模型的效果逐渐变差，被删除的特征越来越多，信息损失也逐渐变大。但是在0.00134之前，模型的效果都可以维持在0.93以上，因此可以从中挑选一个数值（如0.00067）来验证一下模型的效果。"
   ]
  },
  {
   "cell_type": "code",
   "execution_count": 49,
   "metadata": {},
   "outputs": [
    {
     "data": {
      "text/plain": [
       "(42000, 324)"
      ]
     },
     "execution_count": 49,
     "metadata": {},
     "output_type": "execute_result"
    }
   ],
   "source": [
    "X_embedded = SelectFromModel(RFC_,threshold=0.00067).fit_transform(X,y)\n",
    "X_embedded.shape"
   ]
  },
  {
   "cell_type": "code",
   "execution_count": 50,
   "metadata": {},
   "outputs": [
    {
     "data": {
      "text/plain": [
       "0.9391190476190475"
      ]
     },
     "execution_count": 50,
     "metadata": {},
     "output_type": "execute_result"
    }
   ],
   "source": [
    "cross_val_score(RFC_,X_embedded,y,cv=5).mean()"
   ]
  },
  {
   "cell_type": "markdown",
   "metadata": {},
   "source": [
    "特征少了，分数却变高了（93.90476），这是由于嵌入法比方差过滤更具体到模型的表现的缘故，换一个算法，使用同样的阈值，效果可能就没有这么好了。"
   ]
  },
  {
   "cell_type": "markdown",
   "metadata": {},
   "source": [
    "**画一个细化的学习曲线找到最佳阈值。**"
   ]
  },
  {
   "cell_type": "code",
   "execution_count": 51,
   "metadata": {
    "scrolled": false
   },
   "outputs": [
    {
     "data": {
      "text/plain": [
       "([<matplotlib.axis.XTick at 0x293a110ae80>,\n",
       "  <matplotlib.axis.XTick at 0x293a110a850>,\n",
       "  <matplotlib.axis.XTick at 0x293a01cd9a0>,\n",
       "  <matplotlib.axis.XTick at 0x293a11218b0>,\n",
       "  <matplotlib.axis.XTick at 0x293a1121e80>,\n",
       "  <matplotlib.axis.XTick at 0x293a1123e80>,\n",
       "  <matplotlib.axis.XTick at 0x293a01d64f0>,\n",
       "  <matplotlib.axis.XTick at 0x293a01d6a00>,\n",
       "  <matplotlib.axis.XTick at 0x293a01d6f10>,\n",
       "  <matplotlib.axis.XTick at 0x293a01f4460>,\n",
       "  <matplotlib.axis.XTick at 0x293a01f4970>,\n",
       "  <matplotlib.axis.XTick at 0x293a01d61c0>,\n",
       "  <matplotlib.axis.XTick at 0x293a1121670>,\n",
       "  <matplotlib.axis.XTick at 0x293a01f4b20>,\n",
       "  <matplotlib.axis.XTick at 0x293a01fa070>,\n",
       "  <matplotlib.axis.XTick at 0x293a01fa580>,\n",
       "  <matplotlib.axis.XTick at 0x293a01faa90>,\n",
       "  <matplotlib.axis.XTick at 0x293a01fafa0>,\n",
       "  <matplotlib.axis.XTick at 0x293a02024f0>,\n",
       "  <matplotlib.axis.XTick at 0x293a0202a00>],\n",
       " <a list of 20 Text major ticklabel objects>)"
      ]
     },
     "execution_count": 51,
     "metadata": {},
     "output_type": "execute_result"
    },
    {
     "data": {
      "image/png": "[encoded data removed]",
      "text/plain": [
       "<Figure size 1440x360 with 1 Axes>"
      ]
     },
     "metadata": {
      "needs_background": "light"
     },
     "output_type": "display_data"
    }
   ],
   "source": [
    "score2 = []\n",
    "for i in np.linspace(0,0.00134,20):\n",
    "    X_embedded = SelectFromModel(RFC_,threshold=i).fit_transform(X,y)\n",
    "    once = cross_val_score(RFC_,X_embedded,y,cv=5).mean()\n",
    "    score2.append(once)\n",
    "plt.figure(figsize=[20,5])\n",
    "plt.plot(np.linspace(0,0.00134,20),score2)\n",
    "plt.xticks(np.linspace(0,0.00134,20))"
   ]
  },
  {
   "cell_type": "markdown",
   "metadata": {},
   "source": [
    "选取最佳阈值0.000071。"
   ]
  },
  {
   "cell_type": "code",
   "execution_count": 52,
   "metadata": {},
   "outputs": [
    {
     "data": {
      "text/plain": [
       "(42000, 461)"
      ]
     },
     "execution_count": 52,
     "metadata": {},
     "output_type": "execute_result"
    }
   ],
   "source": [
    "X_embedded = SelectFromModel(RFC_,threshold=0.000071).fit_transform(X,y)\n",
    "X_embedded.shape"
   ]
  },
  {
   "cell_type": "code",
   "execution_count": 53,
   "metadata": {},
   "outputs": [
    {
     "data": {
      "text/plain": [
       "0.9388809523809524"
      ]
     },
     "execution_count": 53,
     "metadata": {},
     "output_type": "execute_result"
    }
   ],
   "source": [
    "cross_val_score(RFC_,X_embedded,y,cv=5).mean()"
   ]
  },
  {
   "cell_type": "code",
   "execution_count": 54,
   "metadata": {},
   "outputs": [
    {
     "data": {
      "text/plain": [
       "0.964642857142857"
      ]
     },
     "execution_count": 54,
     "metadata": {},
     "output_type": "execute_result"
    }
   ],
   "source": [
    "#重新实例化随机森林，跑100颗树，效果更好\n",
    "cross_val_score(RFC(n_estimators=100,random_state=0),X_embedded,y,cv=5).mean()"
   ]
  },
  {
   "cell_type": "markdown",
   "metadata": {},
   "source": [
    "用n_estimators画一条学习曲线，可能效果会更好。"
   ]
  },
  {
   "cell_type": "markdown",
   "metadata": {},
   "source": [
    "**嵌入法总结**：减少计算量，提升模型表现。但在大型数据中，优先考虑过滤法。"
   ]
  },
  {
   "cell_type": "markdown",
   "metadata": {},
   "source": [
    "## 三、Wrapper包装法（运行慢）"
   ]
  },
  {
   "cell_type": "markdown",
   "metadata": {},
   "source": [
    "包装法`sklearn.feature_selection.RFE`也是一个**特征选择**和**算法训练**同时进行的方法，与嵌入法十分相似，它也是依赖于算法自身的选择。但不同的是，我们往往使用一个**目标函数**（递归特征消除法RFE）作为黑盒来帮助我们选取特征，而不是自己输入某个评估指标或统计量的阈值。"
   ]
  },
  {
   "cell_type": "code",
   "execution_count": 55,
   "metadata": {},
   "outputs": [],
   "source": [
    "from sklearn.feature_selection import RFE"
   ]
  },
  {
   "cell_type": "code",
   "execution_count": 56,
   "metadata": {},
   "outputs": [],
   "source": [
    "#随机森林实例化\n",
    "RFC_ = RFC(n_estimators=10,random_state=0)\n",
    "#包装法实例化，假设留下340个特征，每迭代一次移除50个特征\n",
    "selector = RFE(RFC_,n_features_to_select=340,step=50).fit(X,y)"
   ]
  },
  {
   "cell_type": "code",
   "execution_count": 57,
   "metadata": {},
   "outputs": [
    {
     "data": {
      "text/plain": [
       "array([False, False, False, False, False, False, False, False, False,\n",
       "       False, False, False, False, False, False, False, False, False,\n",
       "       False, False, False, False, False, False, False, False, False,\n",
       "       False, False, False, False, False, False, False, False, False,\n",
       "       False, False, False, False, False, False, False, False, False,\n",
       "       False, False, False, False, False, False, False, False, False,\n",
       "       False, False, False, False, False, False, False, False, False,\n",
       "       False, False, False, False, False, False, False, False, False,\n",
       "       False, False, False, False, False, False, False, False, False,\n",
       "       False, False, False, False, False, False, False, False, False,\n",
       "       False, False, False, False,  True, False, False, False,  True,\n",
       "        True,  True,  True,  True, False, False, False, False, False,\n",
       "       False, False, False, False, False, False, False, False, False,\n",
       "       False, False, False, False, False,  True,  True,  True,  True,\n",
       "        True,  True,  True,  True,  True,  True, False, False, False,\n",
       "       False, False, False, False, False, False, False, False, False,\n",
       "       False, False, False, False,  True,  True,  True,  True,  True,\n",
       "        True,  True,  True,  True,  True,  True,  True,  True,  True,\n",
       "       False, False, False, False, False, False, False, False, False,\n",
       "       False, False, False, False,  True,  True,  True,  True,  True,\n",
       "        True,  True,  True,  True,  True,  True,  True,  True,  True,\n",
       "        True,  True,  True, False, False, False, False, False, False,\n",
       "       False, False, False, False, False, False,  True,  True,  True,\n",
       "        True,  True,  True,  True,  True,  True,  True,  True,  True,\n",
       "        True,  True,  True,  True, False, False, False, False, False,\n",
       "       False, False, False, False, False, False,  True,  True,  True,\n",
       "        True,  True,  True,  True,  True,  True,  True,  True,  True,\n",
       "        True,  True,  True,  True,  True,  True, False, False, False,\n",
       "       False, False, False, False, False, False, False,  True,  True,\n",
       "        True,  True,  True,  True,  True,  True,  True,  True,  True,\n",
       "        True,  True,  True,  True, False,  True, False, False, False,\n",
       "       False, False, False, False, False, False, False,  True,  True,\n",
       "        True,  True,  True,  True,  True,  True,  True,  True,  True,\n",
       "        True,  True,  True,  True,  True,  True, False, False, False,\n",
       "       False, False, False, False, False, False, False, False, False,\n",
       "        True,  True,  True,  True,  True,  True,  True,  True,  True,\n",
       "        True,  True,  True,  True,  True,  True,  True, False, False,\n",
       "       False, False, False, False, False, False, False, False,  True,\n",
       "        True,  True,  True,  True,  True,  True,  True,  True,  True,\n",
       "        True,  True,  True,  True,  True,  True,  True,  True,  True,\n",
       "       False, False, False, False, False, False, False, False, False,\n",
       "        True, False,  True,  True,  True,  True,  True,  True,  True,\n",
       "        True,  True,  True,  True,  True,  True,  True,  True,  True,\n",
       "        True, False, False, False, False, False, False, False, False,\n",
       "       False, False,  True,  True,  True,  True,  True,  True,  True,\n",
       "        True,  True,  True,  True,  True,  True,  True,  True,  True,\n",
       "        True, False, False, False, False, False, False, False, False,\n",
       "       False, False, False,  True,  True,  True,  True,  True,  True,\n",
       "        True,  True,  True,  True,  True,  True,  True,  True,  True,\n",
       "        True,  True, False, False, False, False, False, False, False,\n",
       "       False, False, False,  True,  True,  True,  True,  True,  True,\n",
       "        True,  True,  True,  True,  True,  True,  True,  True,  True,\n",
       "        True,  True,  True, False, False, False, False, False, False,\n",
       "       False, False, False, False,  True,  True,  True,  True,  True,\n",
       "        True,  True,  True,  True,  True,  True,  True,  True,  True,\n",
       "        True,  True,  True,  True, False, False, False, False, False,\n",
       "       False, False, False, False, False, False,  True,  True,  True,\n",
       "        True,  True,  True,  True,  True,  True,  True,  True,  True,\n",
       "        True,  True,  True,  True, False, False, False, False, False,\n",
       "       False, False, False, False, False, False,  True,  True,  True,\n",
       "        True,  True,  True,  True,  True,  True,  True,  True,  True,\n",
       "        True,  True,  True,  True,  True,  True, False, False, False,\n",
       "       False, False, False, False, False, False, False,  True,  True,\n",
       "        True,  True,  True,  True,  True,  True,  True,  True,  True,\n",
       "        True,  True,  True,  True,  True,  True,  True, False, False,\n",
       "       False, False, False, False, False, False, False, False, False,\n",
       "        True,  True,  True,  True,  True,  True,  True,  True,  True,\n",
       "        True,  True,  True,  True,  True,  True, False, False, False,\n",
       "       False, False, False, False, False, False, False, False, False,\n",
       "       False, False,  True,  True,  True,  True,  True,  True,  True,\n",
       "        True,  True,  True,  True,  True, False, False, False, False,\n",
       "       False, False, False, False, False, False, False, False, False,\n",
       "       False, False, False,  True,  True,  True,  True,  True,  True,\n",
       "        True,  True,  True,  True,  True,  True, False, False, False,\n",
       "       False, False, False, False, False, False, False, False, False,\n",
       "       False, False, False, False, False,  True,  True,  True,  True,\n",
       "        True, False,  True,  True,  True,  True, False, False, False,\n",
       "       False, False, False, False, False, False, False, False, False,\n",
       "       False, False, False, False, False, False, False,  True,  True,\n",
       "       False, False,  True, False, False, False, False, False, False,\n",
       "       False, False, False, False, False, False, False, False, False,\n",
       "       False, False, False, False, False, False, False, False, False,\n",
       "       False, False, False, False, False, False, False, False, False,\n",
       "       False, False, False, False, False, False, False, False, False,\n",
       "       False, False, False, False, False, False, False, False, False,\n",
       "       False, False, False, False, False, False, False, False, False,\n",
       "       False, False, False, False, False, False, False, False, False,\n",
       "       False])"
      ]
     },
     "execution_count": 57,
     "metadata": {},
     "output_type": "execute_result"
    }
   ],
   "source": [
    "selector.support_ #True是留下的特征"
   ]
  },
  {
   "cell_type": "code",
   "execution_count": 58,
   "metadata": {},
   "outputs": [
    {
     "data": {
      "text/plain": [
       "340"
      ]
     },
     "execution_count": 58,
     "metadata": {},
     "output_type": "execute_result"
    }
   ],
   "source": [
    "selector.support_.sum()"
   ]
  },
  {
   "cell_type": "code",
   "execution_count": 59,
   "metadata": {},
   "outputs": [
    {
     "data": {
      "text/plain": [
       "array([10,  9,  8,  7,  6,  6,  6,  6,  6,  6,  6,  6,  6,  6,  6,  6,  6,\n",
       "        6,  6,  6,  6,  6,  6,  6,  6,  6,  6,  6,  6,  6,  7,  7,  6,  6,\n",
       "        5,  6,  5,  6,  6,  6,  6,  6,  6,  6,  6,  6,  6,  7,  6,  7,  7,\n",
       "        7,  7,  7,  7,  7,  7,  7,  7,  7,  7,  7,  7,  7,  6,  6,  5,  4,\n",
       "        4,  5,  3,  4,  4,  4,  5,  4,  5,  7,  6,  7,  7,  7,  8,  8,  8,\n",
       "        8,  8,  8,  8,  8,  6,  7,  4,  3,  1,  2,  3,  3,  1,  1,  1,  1,\n",
       "        1,  3,  3,  4,  5,  5,  5,  8,  8,  9,  9,  9,  9,  8,  9,  9,  4,\n",
       "        4,  3,  2,  1,  1,  1,  1,  1,  1,  1,  1,  1,  1,  2,  3,  3,  4,\n",
       "        5,  5,  9,  9, 10, 10, 10, 10,  7,  4,  4,  3,  1,  1,  1,  1,  1,\n",
       "        1,  1,  1,  1,  1,  1,  1,  1,  1,  2,  3,  3,  5,  8, 10, 10, 10,\n",
       "       10,  9,  4,  4,  3,  1,  1,  1,  1,  1,  1,  1,  1,  1,  1,  1,  1,\n",
       "        1,  1,  1,  1,  1,  3,  4, 10, 10, 10, 10,  9,  7,  4,  3,  2,  2,\n",
       "        1,  1,  1,  1,  1,  1,  1,  1,  1,  1,  1,  1,  1,  1,  1,  1,  2,\n",
       "        4,  4, 10,  9, 10,  6,  6,  4,  2,  3,  1,  1,  1,  1,  1,  1,  1,\n",
       "        1,  1,  1,  1,  1,  1,  1,  1,  1,  1,  1,  3,  5,  9, 10,  8,  7,\n",
       "        4,  5,  3,  2,  1,  1,  1,  1,  1,  1,  1,  1,  1,  1,  1,  1,  1,\n",
       "        1,  1,  2,  1,  2,  4, 10, 10, 10,  9,  7,  5,  3,  3,  1,  1,  1,\n",
       "        1,  1,  1,  1,  1,  1,  1,  1,  1,  1,  1,  1,  1,  1,  3,  3,  5,\n",
       "        5,  9,  9,  9,  7,  5,  5,  3,  2,  1,  1,  1,  1,  1,  1,  1,  1,\n",
       "        1,  1,  1,  1,  1,  1,  1,  1,  2,  4,  5,  9,  9,  9,  9,  9,  5,\n",
       "        4,  1,  1,  1,  1,  1,  1,  1,  1,  1,  1,  1,  1,  1,  1,  1,  1,\n",
       "        1,  1,  1,  4,  5,  7, 10, 10,  9, 10,  9,  4,  1,  2,  1,  1,  1,\n",
       "        1,  1,  1,  1,  1,  1,  1,  1,  1,  1,  1,  1,  1,  1,  3,  5, 10,\n",
       "        9, 10, 10,  9,  7,  4,  2,  1,  1,  1,  1,  1,  1,  1,  1,  1,  1,\n",
       "        1,  1,  1,  1,  1,  1,  1,  2,  2,  4,  8,  9, 10, 10, 10,  5,  4,\n",
       "        2,  1,  1,  1,  1,  1,  1,  1,  1,  1,  1,  1,  1,  1,  1,  1,  1,\n",
       "        1,  2,  3,  5, 10, 10, 10, 10,  9,  5,  4,  1,  1,  1,  1,  1,  1,\n",
       "        1,  1,  1,  1,  1,  1,  1,  1,  1,  1,  1,  1,  3,  3,  4,  5,  9,\n",
       "       10, 10, 10,  5,  3,  1,  1,  1,  1,  1,  1,  1,  1,  1,  1,  1,  1,\n",
       "        1,  1,  1,  1,  1,  1,  3,  3,  4,  8,  8, 10, 10,  9,  5,  3,  3,\n",
       "        1,  1,  1,  1,  1,  1,  1,  1,  1,  1,  1,  1,  1,  1,  1,  1,  2,\n",
       "        3,  3,  4, 10, 10, 10, 10,  8,  4,  3,  1,  1,  1,  1,  1,  1,  1,\n",
       "        1,  1,  1,  1,  1,  1,  1,  1,  1,  1,  1,  2,  4,  5,  8, 10, 10,\n",
       "       10, 10,  5,  2,  1,  1,  1,  1,  1,  1,  1,  1,  1,  1,  1,  1,  1,\n",
       "        1,  1,  1,  1,  1,  2,  4,  7, 10, 10, 10, 10,  8,  5,  3,  2,  1,\n",
       "        1,  1,  1,  1,  1,  1,  1,  1,  1,  1,  1,  1,  1,  1,  2,  3,  3,\n",
       "        5,  5,  7,  9,  9,  9,  9,  5,  5,  2,  2,  1,  1,  1,  1,  1,  1,\n",
       "        1,  1,  1,  1,  1,  1,  2,  2,  2,  3,  4,  5,  5,  8,  9,  9,  9,\n",
       "        9,  7,  4,  4,  2,  1,  1,  1,  1,  1,  1,  1,  1,  1,  1,  1,  1,\n",
       "        3,  3,  3,  5,  5,  9,  8,  9,  9,  9,  9,  9,  5,  4,  4,  2,  2,\n",
       "        1,  1,  1,  1,  1,  2,  1,  1,  1,  1,  2,  2,  3,  4,  5,  5,  9,\n",
       "        8,  8,  8,  8,  8,  8,  7,  8,  6,  4,  2,  2,  1,  1,  2,  2,  1,\n",
       "        2,  2,  3,  2,  2,  4,  4,  5,  5,  8,  8,  8,  7,  7,  7,  7,  7,\n",
       "        7,  7,  5,  5,  4,  5,  4,  3,  3,  3,  4,  3,  3,  4,  3,  4,  5,\n",
       "        5,  6,  7,  7,  7,  6,  7,  8,  8,  8,  9,  9,  9,  9,  6,  8,  8,\n",
       "        8,  7,  8,  8,  8,  7,  8,  8,  8,  8,  8,  7,  8,  8,  8,  8,  9,\n",
       "       10,  7])"
      ]
     },
     "execution_count": 59,
     "metadata": {},
     "output_type": "execute_result"
    }
   ],
   "source": [
    "selector.ranking_ #特征重要性排序"
   ]
  },
  {
   "cell_type": "code",
   "execution_count": 60,
   "metadata": {},
   "outputs": [
    {
     "data": {
      "text/plain": [
       "0.9379761904761905"
      ]
     },
     "execution_count": 60,
     "metadata": {},
     "output_type": "execute_result"
    }
   ],
   "source": [
    "X_wrapper = selector.transform(X) #使用包装法得到的特征矩阵\n",
    "cross_val_score(RFC_,X_wrapper,y,cv=5).mean()"
   ]
  },
  {
   "cell_type": "code",
   "execution_count": 61,
   "metadata": {},
   "outputs": [
    {
     "data": {
      "image/png": "[encoded data removed]",
      "text/plain": [
       "<Figure size 1440x360 with 1 Axes>"
      ]
     },
     "metadata": {
      "needs_background": "light"
     },
     "output_type": "display_data"
    }
   ],
   "source": [
    "#画n_features_to_select的学习曲线\n",
    "score = []\n",
    "for i in range(1,751,50):\n",
    "    X_wrapper = RFE(RFC_,n_features_to_select=i,step=50).fit_transform(X,y)\n",
    "    once = cross_val_score(RFC_,X_wrapper,y,cv=5).mean()\n",
    "    score.append(once)\n",
    "plt.figure(figsize=[20,5])\n",
    "plt.plot(range(1,751,50),score)\n",
    "plt.xticks(range(1,751,50))\n",
    "plt.show()"
   ]
  },
  {
   "cell_type": "markdown",
   "metadata": {},
   "source": [
    "包装法是最容易在最少特征数量下找到最佳模型表现的方法。50个特征时，模型的表现就已经达到了90%以上，比嵌入发和过滤法都高效很多。"
   ]
  },
  {
   "cell_type": "markdown",
   "metadata": {},
   "source": [
    "## 特征选择总结"
   ]
  },
  {
   "cell_type": "markdown",
   "metadata": {},
   "source": [
    "经验来说，**过滤法**更快速，但更粗糙。**包装法**和**嵌入法**更精确，比较适合具体到算法去调整，但计算量比较大，运行时间长。当**数据量很大**的时候，优先使用**方差过滤**和**互信息法**调整，再上其他特征选择方法。使用**逻辑回归**时，优先使用**嵌入法**。使用**支持向量机**时，优先使用**包装法**。迷茫的时候，从**过滤法**走起，看具体数据具体分析。其实特征选择只是特征工程中的第一步。真正的高手，往往使用**特征创造**或**特征提取**来寻找高级特征。"
   ]
  },
  {
   "cell_type": "code",
   "execution_count": null,
   "metadata": {},
   "outputs": [],
   "source": []
  }
 ],
 "metadata": {
  "kernelspec": {
   "display_name": "Python 3",
   "language": "python",
   "name": "python3"
  },
  "language_info": {
   "codemirror_mode": {
    "name": "ipython",
    "version": 3
   },
   "file_extension": ".py",
   "mimetype": "text/x-python",
   "name": "python",
   "nbconvert_exporter": "python",
   "pygments_lexer": "ipython3",
   "version": "3.8.3"
  }
 },
 "nbformat": 4,
 "nbformat_minor": 4
}
