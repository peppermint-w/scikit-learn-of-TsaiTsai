{
 "cells": [
  {
   "cell_type": "markdown",
   "metadata": {},
   "source": [
    "**1.导入需要的库**"
   ]
  },
  {
   "cell_type": "code",
   "execution_count": 1,
   "metadata": {},
   "outputs": [],
   "source": [
    "import numpy as np #生成数据\n",
    "from sklearn.tree import DecisionTreeRegressor #回归树\n",
    "import matplotlib.pyplot as plt #画图"
   ]
  },
  {
   "cell_type": "markdown",
   "metadata": {},
   "source": [
    "**2.创建一条含有噪声的正弦曲线**"
   ]
  },
  {
   "cell_type": "markdown",
   "metadata": {},
   "source": [
    "先创建一组随机的、分布在0-5上的横坐标轴的取值(x)，然后将这一组值放到sin函数中去生成纵坐标的值(y)，接着再到y上去添加噪声。"
   ]
  },
  {
   "cell_type": "code",
   "execution_count": 2,
   "metadata": {},
   "outputs": [
    {
     "data": {
      "text/plain": [
       "array([[5.71874087e-04],\n",
       "       [9.14413867e-02],\n",
       "       [9.68347894e-02],\n",
       "       [1.36937966e-01],\n",
       "       [1.95273916e-01],\n",
       "       [2.49767295e-01],\n",
       "       [2.66812726e-01],\n",
       "       [4.25221057e-01],\n",
       "       [4.61692974e-01],\n",
       "       [4.91734169e-01],\n",
       "       [5.11672144e-01],\n",
       "       [5.16130033e-01],\n",
       "       [6.50142861e-01],\n",
       "       [6.87373521e-01],\n",
       "       [6.96381736e-01],\n",
       "       [7.01934693e-01],\n",
       "       [7.33642875e-01],\n",
       "       [7.33779454e-01],\n",
       "       [8.26770986e-01],\n",
       "       [8.49152098e-01],\n",
       "       [9.31301057e-01],\n",
       "       [9.90507445e-01],\n",
       "       [1.02226125e+00],\n",
       "       [1.05814058e+00],\n",
       "       [1.32773330e+00],\n",
       "       [1.40221996e+00],\n",
       "       [1.43887669e+00],\n",
       "       [1.46807074e+00],\n",
       "       [1.51166286e+00],\n",
       "       [1.56712089e+00],\n",
       "       [1.57757816e+00],\n",
       "       [1.72780364e+00],\n",
       "       [1.73882930e+00],\n",
       "       [1.98383737e+00],\n",
       "       [1.98838418e+00],\n",
       "       [2.07027994e+00],\n",
       "       [2.07089635e+00],\n",
       "       [2.08511002e+00],\n",
       "       [2.08652401e+00],\n",
       "       [2.09597257e+00],\n",
       "       [2.10553813e+00],\n",
       "       [2.23946763e+00],\n",
       "       [2.45786580e+00],\n",
       "       [2.57444556e+00],\n",
       "       [2.66582642e+00],\n",
       "       [2.67948203e+00],\n",
       "       [2.69408367e+00],\n",
       "       [2.79344914e+00],\n",
       "       [2.87058803e+00],\n",
       "       [2.93277520e+00],\n",
       "       [2.94652768e+00],\n",
       "       [3.31897323e+00],\n",
       "       [3.35233755e+00],\n",
       "       [3.39417766e+00],\n",
       "       [3.42609750e+00],\n",
       "       [3.43250464e+00],\n",
       "       [3.45938557e+00],\n",
       "       [3.46161308e+00],\n",
       "       [3.47200079e+00],\n",
       "       [3.49879180e+00],\n",
       "       [3.60162247e+00],\n",
       "       [3.62998993e+00],\n",
       "       [3.74082827e+00],\n",
       "       [3.75072157e+00],\n",
       "       [3.75406052e+00],\n",
       "       [3.94639664e+00],\n",
       "       [4.00372284e+00],\n",
       "       [4.03695644e+00],\n",
       "       [4.17312836e+00],\n",
       "       [4.38194576e+00],\n",
       "       [4.39058718e+00],\n",
       "       [4.39071252e+00],\n",
       "       [4.47303332e+00],\n",
       "       [4.51700958e+00],\n",
       "       [4.54297752e+00],\n",
       "       [4.63754290e+00],\n",
       "       [4.72297378e+00],\n",
       "       [4.78944765e+00],\n",
       "       [4.84130788e+00],\n",
       "       [4.94430544e+00]])"
      ]
     },
     "execution_count": 2,
     "metadata": {},
     "output_type": "execute_result"
    }
   ],
   "source": [
    "#生成随机数种子，参数1无意义\n",
    "rng = np.random.RandomState(1)\n",
    "\n",
    "#生成80行1列的数组（2维，sklearn不能读取1维数据，需要增维），数组中的随机数在5*0到5*1之间\n",
    "X = 5 * rng.rand(80,1)\n",
    "\n",
    "X = np.sort(X, axis=0) #将随机数由小到大排序\n",
    "X"
   ]
  },
  {
   "cell_type": "code",
   "execution_count": 3,
   "metadata": {},
   "outputs": [
    {
     "data": {
      "text/plain": [
       "(80, 1)"
      ]
     },
     "execution_count": 3,
     "metadata": {},
     "output_type": "execute_result"
    }
   ],
   "source": [
    "#将X中的数代入正弦函数\n",
    "y = np.sin(X)\n",
    "y.shape#二维，需要降维（单标签问题）"
   ]
  },
  {
   "cell_type": "code",
   "execution_count": 4,
   "metadata": {},
   "outputs": [
    {
     "data": {
      "text/plain": [
       "(80,)"
      ]
     },
     "execution_count": 4,
     "metadata": {},
     "output_type": "execute_result"
    }
   ],
   "source": [
    "y = y.ravel() #降维\n",
    "y.shape #一维"
   ]
  },
  {
   "cell_type": "code",
   "execution_count": 5,
   "metadata": {},
   "outputs": [
    {
     "data": {
      "text/plain": [
       "<matplotlib.collections.PathCollection at 0x188e45c9ac0>"
      ]
     },
     "execution_count": 5,
     "metadata": {},
     "output_type": "execute_result"
    },
    {
     "data": {
      "image/png": "[encoded data removed]",
      "text/plain": [
       "<Figure size 432x288 with 1 Axes>"
      ]
     },
     "metadata": {
      "needs_background": "light"
     },
     "output_type": "display_data"
    }
   ],
   "source": [
    "#画图看一下\n",
    "plt.figure()\n",
    "plt.scatter(X,y)"
   ]
  },
  {
   "cell_type": "code",
   "execution_count": 6,
   "metadata": {},
   "outputs": [],
   "source": [
    "'''\n",
    "给y加噪声\n",
    "每间隔5取出一个y值，共16个，y[::5]\n",
    "生成0到1之间的16个随机数，rng.rand(16)\n",
    "用0.5减去16个随机数，保证有正有负，0.5 - rng.rand(16)\n",
    "乘以3倍，扩大随机数，(0.5 - rng.rand(16)) * 3\n",
    "'''\n",
    "\n",
    "y[::5] = y[::5] + (0.5 - rng.rand(16)) * 3"
   ]
  },
  {
   "cell_type": "code",
   "execution_count": 7,
   "metadata": {},
   "outputs": [
    {
     "data": {
      "text/plain": [
       "<matplotlib.collections.PathCollection at 0x188e4d555b0>"
      ]
     },
     "execution_count": 7,
     "metadata": {},
     "output_type": "execute_result"
    },
    {
     "data": {
      "image/png": "[encoded data removed]",
      "text/plain": [
       "<Figure size 432x288 with 1 Axes>"
      ]
     },
     "metadata": {
      "needs_background": "light"
     },
     "output_type": "display_data"
    }
   ],
   "source": [
    "#画图看一下\n",
    "plt.figure()\n",
    "plt.scatter(X,y)"
   ]
  },
  {
   "cell_type": "markdown",
   "metadata": {},
   "source": [
    "**3.实例化&训练模型**"
   ]
  },
  {
   "cell_type": "code",
   "execution_count": 8,
   "metadata": {},
   "outputs": [
    {
     "data": {
      "text/plain": [
       "DecisionTreeRegressor(max_depth=5)"
      ]
     },
     "execution_count": 8,
     "metadata": {},
     "output_type": "execute_result"
    }
   ],
   "source": [
    "#建模2个\n",
    "regr_1 = DecisionTreeRegressor(max_depth=2)\n",
    "regr_2 = DecisionTreeRegressor(max_depth=5)\n",
    "regr_1.fit(X,y)\n",
    "regr_2.fit(X,y)"
   ]
  },
  {
   "cell_type": "markdown",
   "metadata": {},
   "source": [
    "**4.测试集导入模型，预测结果**"
   ]
  },
  {
   "cell_type": "code",
   "execution_count": 9,
   "metadata": {},
   "outputs": [
    {
     "data": {
      "text/plain": [
       "(500,)"
      ]
     },
     "execution_count": 9,
     "metadata": {},
     "output_type": "execute_result"
    }
   ],
   "source": [
    "#生成测试集\n",
    "X_test = np.arange(0.0, 5.0, 0.01) #生成以0.0开始，以5.0结束，以0.01为步长取数\n",
    "X_test.shape"
   ]
  },
  {
   "cell_type": "code",
   "execution_count": 10,
   "metadata": {},
   "outputs": [
    {
     "data": {
      "text/plain": [
       "(500, 1)"
      ]
     },
     "execution_count": 10,
     "metadata": {},
     "output_type": "execute_result"
    }
   ],
   "source": [
    "X_test = X_test[:,np.newaxis] #增维\n",
    "X_test.shape #500行1列"
   ]
  },
  {
   "cell_type": "code",
   "execution_count": 11,
   "metadata": {},
   "outputs": [],
   "source": [
    "#获取预测结果\n",
    "y_1 = regr_1.predict(X_test)\n",
    "y_2 = regr_2.predict(X_test)"
   ]
  },
  {
   "cell_type": "code",
   "execution_count": 12,
   "metadata": {},
   "outputs": [
    {
     "data": {
      "text/plain": [
       "array([ 0.05236068,  0.05236068,  0.05236068,  0.05236068,  0.05236068,\n",
       "        0.05236068,  0.05236068,  0.05236068,  0.05236068,  0.05236068,\n",
       "        0.05236068,  0.05236068,  0.05236068,  0.05236068,  0.05236068,\n",
       "        0.05236068,  0.05236068,  0.05236068,  0.05236068,  0.05236068,\n",
       "        0.05236068,  0.05236068,  0.05236068,  0.05236068,  0.05236068,\n",
       "        0.05236068,  0.05236068,  0.05236068,  0.05236068,  0.05236068,\n",
       "        0.05236068,  0.05236068,  0.05236068,  0.05236068,  0.05236068,\n",
       "        0.05236068,  0.05236068,  0.05236068,  0.05236068,  0.05236068,\n",
       "        0.05236068,  0.05236068,  0.05236068,  0.05236068,  0.05236068,\n",
       "        0.05236068,  0.05236068,  0.05236068,  0.05236068,  0.05236068,\n",
       "        0.05236068,  0.05236068,  0.71382568,  0.71382568,  0.71382568,\n",
       "        0.71382568,  0.71382568,  0.71382568,  0.71382568,  0.71382568,\n",
       "        0.71382568,  0.71382568,  0.71382568,  0.71382568,  0.71382568,\n",
       "        0.71382568,  0.71382568,  0.71382568,  0.71382568,  0.71382568,\n",
       "        0.71382568,  0.71382568,  0.71382568,  0.71382568,  0.71382568,\n",
       "        0.71382568,  0.71382568,  0.71382568,  0.71382568,  0.71382568,\n",
       "        0.71382568,  0.71382568,  0.71382568,  0.71382568,  0.71382568,\n",
       "        0.71382568,  0.71382568,  0.71382568,  0.71382568,  0.71382568,\n",
       "        0.71382568,  0.71382568,  0.71382568,  0.71382568,  0.71382568,\n",
       "        0.71382568,  0.71382568,  0.71382568,  0.71382568,  0.71382568,\n",
       "        0.71382568,  0.71382568,  0.71382568,  0.71382568,  0.71382568,\n",
       "        0.71382568,  0.71382568,  0.71382568,  0.71382568,  0.71382568,\n",
       "        0.71382568,  0.71382568,  0.71382568,  0.71382568,  0.71382568,\n",
       "        0.71382568,  0.71382568,  0.71382568,  0.71382568,  0.71382568,\n",
       "        0.71382568,  0.71382568,  0.71382568,  0.71382568,  0.71382568,\n",
       "        0.71382568,  0.71382568,  0.71382568,  0.71382568,  0.71382568,\n",
       "        0.71382568,  0.71382568,  0.71382568,  0.71382568,  0.71382568,\n",
       "        0.71382568,  0.71382568,  0.71382568,  0.71382568,  0.71382568,\n",
       "        0.71382568,  0.71382568,  0.71382568,  0.71382568,  0.71382568,\n",
       "        0.71382568,  0.71382568,  0.71382568,  0.71382568,  0.71382568,\n",
       "        0.71382568,  0.71382568,  0.71382568,  0.71382568,  0.71382568,\n",
       "        0.71382568,  0.71382568,  0.71382568,  0.71382568,  0.71382568,\n",
       "        0.71382568,  0.71382568,  0.71382568,  0.71382568,  0.71382568,\n",
       "        0.71382568,  0.71382568,  0.71382568,  0.71382568,  0.71382568,\n",
       "        0.71382568,  0.71382568,  0.71382568,  0.71382568,  0.71382568,\n",
       "        0.71382568,  0.71382568,  0.71382568,  0.71382568,  0.71382568,\n",
       "        0.71382568,  0.71382568,  0.71382568,  0.71382568,  0.71382568,\n",
       "        0.71382568,  0.71382568,  0.71382568,  0.71382568,  0.71382568,\n",
       "        0.71382568,  0.71382568,  0.71382568,  0.71382568,  0.71382568,\n",
       "        0.71382568,  0.71382568,  0.71382568,  0.71382568,  0.71382568,\n",
       "        0.71382568,  0.71382568,  0.71382568,  0.71382568,  0.71382568,\n",
       "        0.71382568,  0.71382568,  0.71382568,  0.71382568,  0.71382568,\n",
       "        0.71382568,  0.71382568,  0.71382568,  0.71382568,  0.71382568,\n",
       "        0.71382568,  0.71382568,  0.71382568,  0.71382568,  0.71382568,\n",
       "        0.71382568,  0.71382568,  0.71382568,  0.71382568,  0.71382568,\n",
       "        0.71382568,  0.71382568,  0.71382568,  0.71382568,  0.71382568,\n",
       "        0.71382568,  0.71382568,  0.71382568,  0.71382568,  0.71382568,\n",
       "        0.71382568,  0.71382568,  0.71382568,  0.71382568,  0.71382568,\n",
       "        0.71382568,  0.71382568,  0.71382568,  0.71382568,  0.71382568,\n",
       "        0.71382568,  0.71382568,  0.71382568,  0.71382568,  0.71382568,\n",
       "        0.71382568,  0.71382568,  0.71382568,  0.71382568,  0.71382568,\n",
       "        0.71382568,  0.71382568,  0.71382568,  0.71382568,  0.71382568,\n",
       "        0.71382568,  0.71382568,  0.71382568,  0.71382568,  0.71382568,\n",
       "        0.71382568,  0.71382568,  0.71382568,  0.71382568,  0.71382568,\n",
       "        0.71382568,  0.71382568,  0.71382568,  0.71382568,  0.71382568,\n",
       "        0.71382568,  0.71382568,  0.71382568,  0.71382568,  0.71382568,\n",
       "        0.71382568,  0.71382568,  0.71382568,  0.71382568,  0.71382568,\n",
       "        0.71382568,  0.71382568,  0.71382568,  0.71382568,  0.71382568,\n",
       "        0.71382568,  0.71382568,  0.71382568,  0.71382568,  0.71382568,\n",
       "        0.71382568,  0.71382568,  0.71382568,  0.71382568,  0.71382568,\n",
       "        0.71382568,  0.71382568,  0.71382568,  0.71382568,  0.71382568,\n",
       "        0.71382568,  0.71382568,  0.71382568,  0.71382568,  0.71382568,\n",
       "        0.71382568,  0.71382568,  0.71382568,  0.71382568, -0.45190264,\n",
       "       -0.45190264, -0.45190264, -0.45190264, -0.45190264, -0.45190264,\n",
       "       -0.45190264, -0.45190264, -0.45190264, -0.45190264, -0.45190264,\n",
       "       -0.45190264, -0.45190264, -0.45190264, -0.45190264, -0.45190264,\n",
       "       -0.45190264, -0.45190264, -0.45190264, -0.45190264, -0.45190264,\n",
       "       -0.45190264, -0.45190264, -0.45190264, -0.45190264, -0.45190264,\n",
       "       -0.45190264, -0.45190264, -0.45190264, -0.45190264, -0.45190264,\n",
       "       -0.45190264, -0.45190264, -0.45190264, -0.45190264, -0.45190264,\n",
       "       -0.45190264, -0.45190264, -0.45190264, -0.45190264, -0.45190264,\n",
       "       -0.45190264, -0.45190264, -0.45190264, -0.45190264, -0.45190264,\n",
       "       -0.45190264, -0.45190264, -0.45190264, -0.45190264, -0.45190264,\n",
       "       -0.45190264, -0.45190264, -0.45190264, -0.45190264, -0.45190264,\n",
       "       -0.45190264, -0.45190264, -0.45190264, -0.45190264, -0.45190264,\n",
       "       -0.45190264, -0.45190264, -0.45190264, -0.45190264, -0.45190264,\n",
       "       -0.45190264, -0.45190264, -0.45190264, -0.45190264, -0.45190264,\n",
       "       -0.45190264, -0.86864256, -0.86864256, -0.86864256, -0.86864256,\n",
       "       -0.86864256, -0.86864256, -0.86864256, -0.86864256, -0.86864256,\n",
       "       -0.86864256, -0.86864256, -0.86864256, -0.86864256, -0.86864256,\n",
       "       -0.86864256, -0.86864256, -0.86864256, -0.86864256, -0.86864256,\n",
       "       -0.86864256, -0.86864256, -0.86864256, -0.86864256, -0.86864256,\n",
       "       -0.86864256, -0.86864256, -0.86864256, -0.86864256, -0.86864256,\n",
       "       -0.86864256, -0.86864256, -0.86864256, -0.86864256, -0.86864256,\n",
       "       -0.86864256, -0.86864256, -0.86864256, -0.86864256, -0.86864256,\n",
       "       -0.86864256, -0.86864256, -0.86864256, -0.86864256, -0.86864256,\n",
       "       -0.86864256, -0.86864256, -0.86864256, -0.86864256, -0.86864256,\n",
       "       -0.86864256, -0.86864256, -0.86864256, -0.86864256, -0.86864256,\n",
       "       -0.86864256, -0.86864256, -0.86864256, -0.86864256, -0.86864256,\n",
       "       -0.86864256, -0.86864256, -0.86864256, -0.86864256, -0.86864256,\n",
       "       -0.86864256, -0.86864256, -0.86864256, -0.86864256, -0.86864256,\n",
       "       -0.86864256, -0.86864256, -0.86864256, -0.86864256, -0.86864256,\n",
       "       -0.86864256, -0.86864256, -0.86864256, -0.86864256, -0.86864256,\n",
       "       -0.86864256, -0.86864256, -0.86864256, -0.86864256, -0.86864256,\n",
       "       -0.86864256, -0.86864256, -0.86864256, -0.86864256, -0.86864256,\n",
       "       -0.86864256, -0.86864256, -0.86864256, -0.86864256, -0.86864256,\n",
       "       -0.86864256, -0.86864256, -0.86864256, -0.86864256, -0.86864256,\n",
       "       -0.86864256, -0.86864256, -0.86864256, -0.86864256, -0.86864256,\n",
       "       -0.86864256, -0.86864256, -0.86864256, -0.86864256, -0.86864256,\n",
       "       -0.86864256, -0.86864256, -0.86864256, -0.86864256, -0.86864256])"
      ]
     },
     "execution_count": 12,
     "metadata": {},
     "output_type": "execute_result"
    }
   ],
   "source": [
    "y_1"
   ]
  },
  {
   "cell_type": "code",
   "execution_count": 13,
   "metadata": {},
   "outputs": [
    {
     "data": {
      "text/plain": [
       "array([-1.1493464 , -1.1493464 , -1.1493464 , -1.1493464 , -1.1493464 ,\n",
       "        0.07894101,  0.07894101,  0.07894101,  0.07894101,  0.07894101,\n",
       "        0.07894101,  0.07894101,  0.07894101,  0.07894101,  0.07894101,\n",
       "        0.07894101,  0.07894101,  0.07894101,  0.07894101,  0.07894101,\n",
       "        0.07894101,  0.07894101,  0.07894101,  0.07894101,  0.07894101,\n",
       "        0.07894101,  0.39845005,  0.39845005,  0.39845005,  0.39845005,\n",
       "        0.39845005,  0.39845005,  0.39845005,  0.39845005,  0.39845005,\n",
       "        0.39845005,  0.39845005,  0.39845005,  0.39845005,  0.39845005,\n",
       "        0.39845005,  0.39845005,  0.39845005,  0.39845005,  0.39845005,\n",
       "        0.39845005,  0.39845005,  0.39845005,  0.39845005,  0.39845005,\n",
       "        0.39845005, -0.26319138,  0.80884013,  0.80884013,  0.80884013,\n",
       "        0.80884013,  0.80884013,  0.80884013,  0.80884013,  0.80884013,\n",
       "        0.80884013,  0.80884013,  0.80884013,  0.80884013,  0.80884013,\n",
       "        0.80884013,  0.80884013,  0.80884013,  0.80884013,  0.80884013,\n",
       "        0.80884013,  0.80884013,  0.80884013,  0.80884013,  0.80884013,\n",
       "        0.80884013,  0.80884013,  0.80884013,  0.80884013,  0.80884013,\n",
       "        0.80884013,  0.80884013,  0.80884013,  0.80884013,  0.80884013,\n",
       "        0.80884013,  0.80884013,  0.80884013,  0.80884013,  0.80884013,\n",
       "        0.80884013,  0.80884013,  0.80884013,  0.80884013,  0.80884013,\n",
       "        0.80884013,  0.80884013,  0.80884013,  0.80884013,  0.80884013,\n",
       "        0.80884013,  0.80884013,  0.80884013,  0.80884013,  0.80884013,\n",
       "        0.80884013,  0.80884013,  0.80884013,  0.80884013,  0.80884013,\n",
       "        0.80884013,  0.80884013,  0.80884013,  0.80884013,  0.80884013,\n",
       "        0.80884013,  0.80884013,  0.80884013,  0.80884013,  0.80884013,\n",
       "        0.80884013,  0.80884013,  0.80884013,  0.80884013,  0.80884013,\n",
       "        0.80884013,  0.80884013,  0.80884013,  0.80884013,  0.80884013,\n",
       "        0.80884013,  0.80884013,  0.80884013,  0.80884013,  0.80884013,\n",
       "        0.80884013,  0.80884013, -0.20183403, -0.20183403, -0.20183403,\n",
       "       -0.20183403, -0.20183403, -0.20183403,  1.02480053,  1.02480053,\n",
       "        1.02480053,  1.02480053,  1.02480053,  1.02480053,  1.02480053,\n",
       "        1.02480053,  1.02480053,  1.02480053,  1.02480053,  1.02480053,\n",
       "        1.02480053,  1.02480053,  1.02480053,  1.02480053,  1.02480053,\n",
       "        1.02480053,  1.02480053,  1.02480053,  1.02480053,  1.02480053,\n",
       "        1.02480053,  1.02480053,  1.02480053,  1.02480053,  1.02480053,\n",
       "        1.02480053,  1.02480053,  1.02480053,  1.02480053,  1.02480053,\n",
       "        1.02480053,  1.02480053,  1.02480053,  1.02480053,  1.02480053,\n",
       "        1.02480053,  1.02480053,  1.02480053,  1.02480053,  1.02480053,\n",
       "        1.02480053,  1.02480053,  0.91498713,  0.91498713,  0.91498713,\n",
       "        0.91498713,  0.91498713,  0.91498713,  0.91498713,  0.91498713,\n",
       "        0.91498713,  0.91498713,  0.91498713,  0.91498713,  0.91498713,\n",
       "        0.91498713,  0.91498713,  0.91498713, -0.51669013, -0.51669013,\n",
       "       -0.51669013, -0.51669013, -0.51669013,  0.5424728 ,  0.5424728 ,\n",
       "        0.5424728 ,  0.5424728 ,  0.5424728 ,  0.5424728 ,  0.5424728 ,\n",
       "        0.5424728 ,  0.5424728 ,  0.5424728 ,  0.5424728 ,  0.5424728 ,\n",
       "        0.5424728 ,  0.5424728 ,  0.5424728 ,  0.5424728 ,  0.5424728 ,\n",
       "        0.5424728 ,  0.5424728 ,  0.5424728 ,  0.5424728 ,  0.5424728 ,\n",
       "        0.5424728 ,  0.5424728 ,  0.5424728 ,  0.5424728 ,  0.5424728 ,\n",
       "        0.5424728 ,  0.5424728 ,  0.5424728 ,  0.5424728 ,  0.5424728 ,\n",
       "        0.5424728 ,  0.5424728 ,  0.5424728 ,  0.5424728 ,  0.5424728 ,\n",
       "        0.5424728 ,  0.5424728 ,  0.5424728 ,  0.5424728 ,  0.5424728 ,\n",
       "        0.5424728 ,  0.5424728 ,  0.5424728 ,  0.5424728 ,  0.5424728 ,\n",
       "        0.5424728 ,  0.5424728 ,  0.5424728 ,  0.5424728 ,  0.5424728 ,\n",
       "        0.5424728 ,  0.5424728 ,  0.5424728 ,  0.5424728 ,  0.5424728 ,\n",
       "        0.5424728 ,  0.5424728 ,  0.5424728 ,  0.5424728 ,  0.5424728 ,\n",
       "        0.5424728 ,  0.5424728 ,  0.5424728 ,  0.5424728 ,  0.5424728 ,\n",
       "        0.5424728 ,  0.5424728 ,  0.5424728 ,  0.5424728 ,  0.5424728 ,\n",
       "        0.5424728 ,  0.5424728 ,  0.5424728 ,  0.5424728 ,  0.5424728 ,\n",
       "        0.5424728 ,  0.5424728 ,  0.5424728 ,  0.5424728 ,  0.5424728 ,\n",
       "        0.5424728 ,  0.5424728 ,  0.5424728 ,  0.5424728 ,  1.34959235,\n",
       "        1.34959235,  1.34959235,  1.34959235,  1.34959235,  1.34959235,\n",
       "        1.34959235,  1.34959235,  1.34959235,  1.34959235,  1.34959235,\n",
       "        1.34959235,  1.34959235,  1.34959235,  1.34959235,  1.34959235,\n",
       "        1.34959235,  1.34959235,  1.34959235,  1.34959235, -0.17645185,\n",
       "       -0.17645185, -0.17645185, -0.17645185, -0.17645185, -0.17645185,\n",
       "       -0.17645185, -0.17645185, -0.17645185, -0.17645185, -0.17645185,\n",
       "       -0.17645185, -0.17645185, -0.17645185, -0.17645185, -0.17645185,\n",
       "       -0.17645185, -0.17645185, -0.17645185, -0.17645185, -0.20918837,\n",
       "       -0.20918837, -0.20918837, -0.20918837, -0.24990778, -0.24990778,\n",
       "       -0.24990778, -0.24990778, -0.28068224, -1.63529379, -1.63529379,\n",
       "       -0.31896972, -0.31896972, -0.31896972, -0.31896972, -0.31896972,\n",
       "       -0.31896972, -0.31896972, -0.31896972, -0.31896972, -0.31896972,\n",
       "       -0.31896972, -0.31896972, -0.31896972, -0.31896972, -0.31896972,\n",
       "       -0.31896972, -0.31896972, -0.54506608, -0.54506608, -0.54506608,\n",
       "       -0.54506608, -0.54506608, -0.54506608, -0.54506608, -0.54506608,\n",
       "       -0.54506608, -0.54506608, -0.54506608, -0.54506608, -0.54506608,\n",
       "       -0.54506608, -0.54506608, -0.54506608, -0.54506608, -0.54506608,\n",
       "       -0.54506608, -0.54506608, -0.54506608, -0.54506608, -0.54506608,\n",
       "       -0.54506608, -0.82876593, -0.82876593, -0.82876593, -0.82876593,\n",
       "       -0.82876593, -0.82876593, -0.82876593, -0.82876593, -0.82876593,\n",
       "       -0.82876593, -0.82876593, -0.82876593, -0.82876593, -0.82876593,\n",
       "       -0.82876593, -0.82876593, -0.82876593, -0.82876593, -0.82876593,\n",
       "       -0.82876593, -0.82876593, -0.82876593, -0.82876593, -0.82876593,\n",
       "       -0.82876593, -0.82876593, -0.82876593, -0.82876593, -0.82876593,\n",
       "       -0.82876593, -0.82876593, -0.82876593, -0.82876593, -0.82876593,\n",
       "       -0.82876593, -0.82876593, -0.82876593, -0.82876593, -0.82876593,\n",
       "       -0.82876593, -0.82876593, -0.82876593, -0.82876593, -0.82876593,\n",
       "       -0.82876593, -0.82876593, -0.82876593, -0.82876593, -0.82876593,\n",
       "       -0.82876593, -0.82876593, -0.82876593, -0.82876593, -0.82876593,\n",
       "       -0.97171398, -0.97171398, -0.97171398, -0.97171398, -0.97171398,\n",
       "       -0.97171398, -0.97171398, -0.97171398, -0.97171398, -0.97171398,\n",
       "       -0.97171398, -0.97171398, -0.97171398, -0.97171398, -0.97171398,\n",
       "       -0.97171398, -0.97171398, -0.97171398, -0.97171398, -0.97171398,\n",
       "       -0.20828128, -0.20828128, -0.20828128, -0.20828128, -0.20828128,\n",
       "       -0.20828128, -0.20828128, -0.20828128, -0.20828128, -0.99848822,\n",
       "       -0.99848822, -0.99848822, -0.99848822, -0.99848822, -0.99848822,\n",
       "       -0.99848822, -0.99848822, -0.99848822, -0.99848822, -0.99848822,\n",
       "       -0.99848822, -0.99848822, -0.99170146, -0.99170146, -0.99170146,\n",
       "       -0.99170146, -0.99170146, -0.99170146, -0.99170146, -0.99170146,\n",
       "       -0.9732277 , -0.9732277 , -0.9732277 , -0.9732277 , -0.9732277 ,\n",
       "       -0.9732277 , -0.9732277 , -0.9732277 , -0.9732277 , -0.9732277 ])"
      ]
     },
     "execution_count": 13,
     "metadata": {},
     "output_type": "execute_result"
    }
   ],
   "source": [
    "y_2"
   ]
  },
  {
   "cell_type": "markdown",
   "metadata": {},
   "source": [
    "**5.绘制图像**"
   ]
  },
  {
   "cell_type": "code",
   "execution_count": 14,
   "metadata": {},
   "outputs": [
    {
     "data": {
      "image/png": "[encoded data removed]",
      "text/plain": [
       "<Figure size 432x288 with 1 Axes>"
      ]
     },
     "metadata": {
      "needs_background": "light"
     },
     "output_type": "display_data"
    }
   ],
   "source": [
    "plt.figure() #画布\n",
    "plt.scatter(X, y, s=20 #点的大小20\n",
    "           ,edgecolor=\"black\" #边框是黑色\n",
    "           ,c=\"darkorange\" #点的颜色是深橙色\n",
    "           ,label=\"data\" #纵坐标的名字\n",
    "           )\n",
    "plt.plot(X_test, y_1\n",
    "        ,color=\"cornflowerblue\" #线的颜色是玉米花蓝色\n",
    "        ,label=\"max_depth=2\" #线的名字是max_depth=2\n",
    "        ,linewidth=2 #线的宽度是2\n",
    "        )\n",
    "plt.plot(X_test, y_2\n",
    "        ,color=\"yellowgreen\" #线的颜色是黄绿色\n",
    "        ,label=\"max_depth=5\" #线的名字是max_depth=5\n",
    "        ,linewidth=2 #线的宽度是2\n",
    "        )\n",
    "plt.xlabel(\"data\")\n",
    "plt.ylabel(\"target\")\n",
    "plt.title(\"Decision Tree Regression\")\n",
    "plt.legend() #显示图例\n",
    "plt.show()"
   ]
  },
  {
   "cell_type": "markdown",
   "metadata": {},
   "source": [
    "max_depth=5过拟合，max_depth=2更接近实际。"
   ]
  },
  {
   "cell_type": "markdown",
   "metadata": {},
   "source": [
    "**附1：ravel讲解**"
   ]
  },
  {
   "cell_type": "code",
   "execution_count": 15,
   "metadata": {},
   "outputs": [
    {
     "data": {
      "text/plain": [
       "array([[0.86436868],\n",
       "       [0.67974652]])"
      ]
     },
     "execution_count": 15,
     "metadata": {},
     "output_type": "execute_result"
    }
   ],
   "source": [
    "np.random.random((2,1))"
   ]
  },
  {
   "cell_type": "code",
   "execution_count": 16,
   "metadata": {},
   "outputs": [
    {
     "data": {
      "text/plain": [
       "array([0.80378557, 0.72541237])"
      ]
     },
     "execution_count": 16,
     "metadata": {},
     "output_type": "execute_result"
    }
   ],
   "source": [
    "np.random.random((2,1)).ravel()"
   ]
  },
  {
   "cell_type": "code",
   "execution_count": 17,
   "metadata": {},
   "outputs": [
    {
     "data": {
      "text/plain": [
       "(2,)"
      ]
     },
     "execution_count": 17,
     "metadata": {},
     "output_type": "execute_result"
    }
   ],
   "source": [
    "np.random.random((2,1)).ravel().shape"
   ]
  },
  {
   "cell_type": "markdown",
   "metadata": {},
   "source": [
    "**附2：newaxis讲解**"
   ]
  },
  {
   "cell_type": "code",
   "execution_count": 18,
   "metadata": {},
   "outputs": [
    {
     "data": {
      "text/plain": [
       "array([1, 2, 3, 4])"
      ]
     },
     "execution_count": 18,
     "metadata": {},
     "output_type": "execute_result"
    }
   ],
   "source": [
    "l = np.array([1,2,3,4])\n",
    "l"
   ]
  },
  {
   "cell_type": "code",
   "execution_count": 19,
   "metadata": {},
   "outputs": [
    {
     "data": {
      "text/plain": [
       "(4,)"
      ]
     },
     "execution_count": 19,
     "metadata": {},
     "output_type": "execute_result"
    }
   ],
   "source": [
    "l.shape"
   ]
  },
  {
   "cell_type": "code",
   "execution_count": 20,
   "metadata": {},
   "outputs": [
    {
     "data": {
      "text/plain": [
       "array([[1],\n",
       "       [2],\n",
       "       [3],\n",
       "       [4]])"
      ]
     },
     "execution_count": 20,
     "metadata": {},
     "output_type": "execute_result"
    }
   ],
   "source": [
    "ll = l[:,np.newaxis]\n",
    "ll"
   ]
  },
  {
   "cell_type": "code",
   "execution_count": 21,
   "metadata": {
    "scrolled": true
   },
   "outputs": [
    {
     "data": {
      "text/plain": [
       "(4, 1)"
      ]
     },
     "execution_count": 21,
     "metadata": {},
     "output_type": "execute_result"
    }
   ],
   "source": [
    "ll.shape #4行1列"
   ]
  },
  {
   "cell_type": "code",
   "execution_count": 22,
   "metadata": {},
   "outputs": [
    {
     "data": {
      "text/plain": [
       "array([[1, 2, 3, 4]])"
      ]
     },
     "execution_count": 22,
     "metadata": {},
     "output_type": "execute_result"
    }
   ],
   "source": [
    "lll = l[np.newaxis,:]\n",
    "lll"
   ]
  },
  {
   "cell_type": "code",
   "execution_count": 23,
   "metadata": {},
   "outputs": [
    {
     "data": {
      "text/plain": [
       "(1, 4)"
      ]
     },
     "execution_count": 23,
     "metadata": {},
     "output_type": "execute_result"
    }
   ],
   "source": [
    "lll.shape #1行4列"
   ]
  }
 ],
 "metadata": {
  "kernelspec": {
   "display_name": "Python 3",
   "language": "python",
   "name": "python3"
  },
  "language_info": {
   "codemirror_mode": {
    "name": "ipython",
    "version": 3
   },
   "file_extension": ".py",
   "mimetype": "text/x-python",
   "name": "python",
   "nbconvert_exporter": "python",
   "pygments_lexer": "ipython3",
   "version": "3.8.3"
  }
 },
 "nbformat": 4,
 "nbformat_minor": 4
}
