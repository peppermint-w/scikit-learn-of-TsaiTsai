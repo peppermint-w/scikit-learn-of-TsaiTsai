{
 "cells": [
  {
   "cell_type": "markdown",
   "metadata": {},
   "source": [
    "## 一、重要参数"
   ]
  },
  {
   "cell_type": "markdown",
   "metadata": {},
   "source": [
    "### （一）找出最佳节点和最佳分支的方法：criterion"
   ]
  },
  {
   "cell_type": "markdown",
   "metadata": {},
   "source": [
    "**1.导入需要的算法库和模块**"
   ]
  },
  {
   "cell_type": "code",
   "execution_count": 1,
   "metadata": {},
   "outputs": [],
   "source": [
    "from sklearn import tree #决策树\n",
    "from sklearn.datasets import load_wine #红酒数据集\n",
    "from sklearn.model_selection import train_test_split #测试集训练集分裂"
   ]
  },
  {
   "cell_type": "markdown",
   "metadata": {},
   "source": [
    "**2.探索数据**"
   ]
  },
  {
   "cell_type": "code",
   "execution_count": 2,
   "metadata": {},
   "outputs": [],
   "source": [
    "wine = load_wine() #数据实例化"
   ]
  },
  {
   "cell_type": "code",
   "execution_count": 3,
   "metadata": {},
   "outputs": [
    {
     "data": {
      "text/plain": [
       "{'data': array([[1.423e+01, 1.710e+00, 2.430e+00, ..., 1.040e+00, 3.920e+00,\n",
       "         1.065e+03],\n",
       "        [1.320e+01, 1.780e+00, 2.140e+00, ..., 1.050e+00, 3.400e+00,\n",
       "         1.050e+03],\n",
       "        [1.316e+01, 2.360e+00, 2.670e+00, ..., 1.030e+00, 3.170e+00,\n",
       "         1.185e+03],\n",
       "        ...,\n",
       "        [1.327e+01, 4.280e+00, 2.260e+00, ..., 5.900e-01, 1.560e+00,\n",
       "         8.350e+02],\n",
       "        [1.317e+01, 2.590e+00, 2.370e+00, ..., 6.000e-01, 1.620e+00,\n",
       "         8.400e+02],\n",
       "        [1.413e+01, 4.100e+00, 2.740e+00, ..., 6.100e-01, 1.600e+00,\n",
       "         5.600e+02]]),\n",
       " 'target': array([0, 0, 0, 0, 0, 0, 0, 0, 0, 0, 0, 0, 0, 0, 0, 0, 0, 0, 0, 0, 0, 0,\n",
       "        0, 0, 0, 0, 0, 0, 0, 0, 0, 0, 0, 0, 0, 0, 0, 0, 0, 0, 0, 0, 0, 0,\n",
       "        0, 0, 0, 0, 0, 0, 0, 0, 0, 0, 0, 0, 0, 0, 0, 1, 1, 1, 1, 1, 1, 1,\n",
       "        1, 1, 1, 1, 1, 1, 1, 1, 1, 1, 1, 1, 1, 1, 1, 1, 1, 1, 1, 1, 1, 1,\n",
       "        1, 1, 1, 1, 1, 1, 1, 1, 1, 1, 1, 1, 1, 1, 1, 1, 1, 1, 1, 1, 1, 1,\n",
       "        1, 1, 1, 1, 1, 1, 1, 1, 1, 1, 1, 1, 1, 1, 1, 1, 1, 1, 1, 1, 2, 2,\n",
       "        2, 2, 2, 2, 2, 2, 2, 2, 2, 2, 2, 2, 2, 2, 2, 2, 2, 2, 2, 2, 2, 2,\n",
       "        2, 2, 2, 2, 2, 2, 2, 2, 2, 2, 2, 2, 2, 2, 2, 2, 2, 2, 2, 2, 2, 2,\n",
       "        2, 2]),\n",
       " 'frame': None,\n",
       " 'target_names': array(['class_0', 'class_1', 'class_2'], dtype='<U7'),\n",
       " 'DESCR': '.. _wine_dataset:\\n\\nWine recognition dataset\\n------------------------\\n\\n**Data Set Characteristics:**\\n\\n    :Number of Instances: 178 (50 in each of three classes)\\n    :Number of Attributes: 13 numeric, predictive attributes and the class\\n    :Attribute Information:\\n \\t\\t- Alcohol\\n \\t\\t- Malic acid\\n \\t\\t- Ash\\n\\t\\t- Alcalinity of ash  \\n \\t\\t- Magnesium\\n\\t\\t- Total phenols\\n \\t\\t- Flavanoids\\n \\t\\t- Nonflavanoid phenols\\n \\t\\t- Proanthocyanins\\n\\t\\t- Color intensity\\n \\t\\t- Hue\\n \\t\\t- OD280/OD315 of diluted wines\\n \\t\\t- Proline\\n\\n    - class:\\n            - class_0\\n            - class_1\\n            - class_2\\n\\t\\t\\n    :Summary Statistics:\\n    \\n    ============================= ==== ===== ======= =====\\n                                   Min   Max   Mean     SD\\n    ============================= ==== ===== ======= =====\\n    Alcohol:                      11.0  14.8    13.0   0.8\\n    Malic Acid:                   0.74  5.80    2.34  1.12\\n    Ash:                          1.36  3.23    2.36  0.27\\n    Alcalinity of Ash:            10.6  30.0    19.5   3.3\\n    Magnesium:                    70.0 162.0    99.7  14.3\\n    Total Phenols:                0.98  3.88    2.29  0.63\\n    Flavanoids:                   0.34  5.08    2.03  1.00\\n    Nonflavanoid Phenols:         0.13  0.66    0.36  0.12\\n    Proanthocyanins:              0.41  3.58    1.59  0.57\\n    Colour Intensity:              1.3  13.0     5.1   2.3\\n    Hue:                          0.48  1.71    0.96  0.23\\n    OD280/OD315 of diluted wines: 1.27  4.00    2.61  0.71\\n    Proline:                       278  1680     746   315\\n    ============================= ==== ===== ======= =====\\n\\n    :Missing Attribute Values: None\\n    :Class Distribution: class_0 (59), class_1 (71), class_2 (48)\\n    :Creator: R.A. Fisher\\n    :Donor: Michael Marshall (MARSHALL%PLU@io.arc.nasa.gov)\\n    :Date: July, 1988\\n\\nThis is a copy of UCI ML Wine recognition datasets.\\nhttps://archive.ics.uci.edu/ml/machine-learning-databases/wine/wine.data\\n\\nThe data is the results of a chemical analysis of wines grown in the same\\nregion in Italy by three different cultivators. There are thirteen different\\nmeasurements taken for different constituents found in the three types of\\nwine.\\n\\nOriginal Owners: \\n\\nForina, M. et al, PARVUS - \\nAn Extendible Package for Data Exploration, Classification and Correlation. \\nInstitute of Pharmaceutical and Food Analysis and Technologies,\\nVia Brigata Salerno, 16147 Genoa, Italy.\\n\\nCitation:\\n\\nLichman, M. (2013). UCI Machine Learning Repository\\n[https://archive.ics.uci.edu/ml]. Irvine, CA: University of California,\\nSchool of Information and Computer Science. \\n\\n.. topic:: References\\n\\n  (1) S. Aeberhard, D. Coomans and O. de Vel, \\n  Comparison of Classifiers in High Dimensional Settings, \\n  Tech. Rep. no. 92-02, (1992), Dept. of Computer Science and Dept. of  \\n  Mathematics and Statistics, James Cook University of North Queensland. \\n  (Also submitted to Technometrics). \\n\\n  The data was used with many others for comparing various \\n  classifiers. The classes are separable, though only RDA \\n  has achieved 100% correct classification. \\n  (RDA : 100%, QDA 99.4%, LDA 98.9%, 1NN 96.1% (z-transformed data)) \\n  (All results using the leave-one-out technique) \\n\\n  (2) S. Aeberhard, D. Coomans and O. de Vel, \\n  \"THE CLASSIFICATION PERFORMANCE OF RDA\" \\n  Tech. Rep. no. 92-01, (1992), Dept. of Computer Science and Dept. of \\n  Mathematics and Statistics, James Cook University of North Queensland. \\n  (Also submitted to Journal of Chemometrics).\\n',\n",
       " 'feature_names': ['alcohol',\n",
       "  'malic_acid',\n",
       "  'ash',\n",
       "  'alcalinity_of_ash',\n",
       "  'magnesium',\n",
       "  'total_phenols',\n",
       "  'flavanoids',\n",
       "  'nonflavanoid_phenols',\n",
       "  'proanthocyanins',\n",
       "  'color_intensity',\n",
       "  'hue',\n",
       "  'od280/od315_of_diluted_wines',\n",
       "  'proline']}"
      ]
     },
     "execution_count": 3,
     "metadata": {},
     "output_type": "execute_result"
    }
   ],
   "source": [
    "wine #字典"
   ]
  },
  {
   "cell_type": "code",
   "execution_count": 4,
   "metadata": {},
   "outputs": [
    {
     "data": {
      "text/plain": [
       "array([[1.423e+01, 1.710e+00, 2.430e+00, ..., 1.040e+00, 3.920e+00,\n",
       "        1.065e+03],\n",
       "       [1.320e+01, 1.780e+00, 2.140e+00, ..., 1.050e+00, 3.400e+00,\n",
       "        1.050e+03],\n",
       "       [1.316e+01, 2.360e+00, 2.670e+00, ..., 1.030e+00, 3.170e+00,\n",
       "        1.185e+03],\n",
       "       ...,\n",
       "       [1.327e+01, 4.280e+00, 2.260e+00, ..., 5.900e-01, 1.560e+00,\n",
       "        8.350e+02],\n",
       "       [1.317e+01, 2.590e+00, 2.370e+00, ..., 6.000e-01, 1.620e+00,\n",
       "        8.400e+02],\n",
       "       [1.413e+01, 4.100e+00, 2.740e+00, ..., 6.100e-01, 1.600e+00,\n",
       "        5.600e+02]])"
      ]
     },
     "execution_count": 4,
     "metadata": {},
     "output_type": "execute_result"
    }
   ],
   "source": [
    "wine.data #通过'.键'将数据取出"
   ]
  },
  {
   "cell_type": "code",
   "execution_count": 5,
   "metadata": {},
   "outputs": [
    {
     "data": {
      "text/plain": [
       "array([0, 0, 0, 0, 0, 0, 0, 0, 0, 0, 0, 0, 0, 0, 0, 0, 0, 0, 0, 0, 0, 0,\n",
       "       0, 0, 0, 0, 0, 0, 0, 0, 0, 0, 0, 0, 0, 0, 0, 0, 0, 0, 0, 0, 0, 0,\n",
       "       0, 0, 0, 0, 0, 0, 0, 0, 0, 0, 0, 0, 0, 0, 0, 1, 1, 1, 1, 1, 1, 1,\n",
       "       1, 1, 1, 1, 1, 1, 1, 1, 1, 1, 1, 1, 1, 1, 1, 1, 1, 1, 1, 1, 1, 1,\n",
       "       1, 1, 1, 1, 1, 1, 1, 1, 1, 1, 1, 1, 1, 1, 1, 1, 1, 1, 1, 1, 1, 1,\n",
       "       1, 1, 1, 1, 1, 1, 1, 1, 1, 1, 1, 1, 1, 1, 1, 1, 1, 1, 1, 1, 2, 2,\n",
       "       2, 2, 2, 2, 2, 2, 2, 2, 2, 2, 2, 2, 2, 2, 2, 2, 2, 2, 2, 2, 2, 2,\n",
       "       2, 2, 2, 2, 2, 2, 2, 2, 2, 2, 2, 2, 2, 2, 2, 2, 2, 2, 2, 2, 2, 2,\n",
       "       2, 2])"
      ]
     },
     "execution_count": 5,
     "metadata": {},
     "output_type": "execute_result"
    }
   ],
   "source": [
    "wine.target #标签（3类）"
   ]
  },
  {
   "cell_type": "code",
   "execution_count": 6,
   "metadata": {},
   "outputs": [
    {
     "data": {
      "text/plain": [
       "(178, 13)"
      ]
     },
     "execution_count": 6,
     "metadata": {},
     "output_type": "execute_result"
    }
   ],
   "source": [
    "wine.data.shape #178行，13个特征"
   ]
  },
  {
   "cell_type": "code",
   "execution_count": 7,
   "metadata": {},
   "outputs": [
    {
     "data": {
      "text/html": [
       "<div>\n",
       "<style scoped>\n",
       "    .dataframe tbody tr th:only-of-type {\n",
       "        vertical-align: middle;\n",
       "    }\n",
       "\n",
       "    .dataframe tbody tr th {\n",
       "        vertical-align: top;\n",
       "    }\n",
       "\n",
       "    .dataframe thead th {\n",
       "        text-align: right;\n",
       "    }\n",
       "</style>\n",
       "<table border=\"1\" class=\"dataframe\">\n",
       "  <thead>\n",
       "    <tr style=\"text-align: right;\">\n",
       "      <th></th>\n",
       "      <th>0</th>\n",
       "      <th>1</th>\n",
       "      <th>2</th>\n",
       "      <th>3</th>\n",
       "      <th>4</th>\n",
       "      <th>5</th>\n",
       "      <th>6</th>\n",
       "      <th>7</th>\n",
       "      <th>8</th>\n",
       "      <th>9</th>\n",
       "      <th>10</th>\n",
       "      <th>11</th>\n",
       "      <th>12</th>\n",
       "      <th>0</th>\n",
       "    </tr>\n",
       "  </thead>\n",
       "  <tbody>\n",
       "    <tr>\n",
       "      <th>0</th>\n",
       "      <td>14.23</td>\n",
       "      <td>1.71</td>\n",
       "      <td>2.43</td>\n",
       "      <td>15.6</td>\n",
       "      <td>127.0</td>\n",
       "      <td>2.80</td>\n",
       "      <td>3.06</td>\n",
       "      <td>0.28</td>\n",
       "      <td>2.29</td>\n",
       "      <td>5.64</td>\n",
       "      <td>1.04</td>\n",
       "      <td>3.92</td>\n",
       "      <td>1065.0</td>\n",
       "      <td>0</td>\n",
       "    </tr>\n",
       "    <tr>\n",
       "      <th>1</th>\n",
       "      <td>13.20</td>\n",
       "      <td>1.78</td>\n",
       "      <td>2.14</td>\n",
       "      <td>11.2</td>\n",
       "      <td>100.0</td>\n",
       "      <td>2.65</td>\n",
       "      <td>2.76</td>\n",
       "      <td>0.26</td>\n",
       "      <td>1.28</td>\n",
       "      <td>4.38</td>\n",
       "      <td>1.05</td>\n",
       "      <td>3.40</td>\n",
       "      <td>1050.0</td>\n",
       "      <td>0</td>\n",
       "    </tr>\n",
       "    <tr>\n",
       "      <th>2</th>\n",
       "      <td>13.16</td>\n",
       "      <td>2.36</td>\n",
       "      <td>2.67</td>\n",
       "      <td>18.6</td>\n",
       "      <td>101.0</td>\n",
       "      <td>2.80</td>\n",
       "      <td>3.24</td>\n",
       "      <td>0.30</td>\n",
       "      <td>2.81</td>\n",
       "      <td>5.68</td>\n",
       "      <td>1.03</td>\n",
       "      <td>3.17</td>\n",
       "      <td>1185.0</td>\n",
       "      <td>0</td>\n",
       "    </tr>\n",
       "    <tr>\n",
       "      <th>3</th>\n",
       "      <td>14.37</td>\n",
       "      <td>1.95</td>\n",
       "      <td>2.50</td>\n",
       "      <td>16.8</td>\n",
       "      <td>113.0</td>\n",
       "      <td>3.85</td>\n",
       "      <td>3.49</td>\n",
       "      <td>0.24</td>\n",
       "      <td>2.18</td>\n",
       "      <td>7.80</td>\n",
       "      <td>0.86</td>\n",
       "      <td>3.45</td>\n",
       "      <td>1480.0</td>\n",
       "      <td>0</td>\n",
       "    </tr>\n",
       "    <tr>\n",
       "      <th>4</th>\n",
       "      <td>13.24</td>\n",
       "      <td>2.59</td>\n",
       "      <td>2.87</td>\n",
       "      <td>21.0</td>\n",
       "      <td>118.0</td>\n",
       "      <td>2.80</td>\n",
       "      <td>2.69</td>\n",
       "      <td>0.39</td>\n",
       "      <td>1.82</td>\n",
       "      <td>4.32</td>\n",
       "      <td>1.04</td>\n",
       "      <td>2.93</td>\n",
       "      <td>735.0</td>\n",
       "      <td>0</td>\n",
       "    </tr>\n",
       "    <tr>\n",
       "      <th>...</th>\n",
       "      <td>...</td>\n",
       "      <td>...</td>\n",
       "      <td>...</td>\n",
       "      <td>...</td>\n",
       "      <td>...</td>\n",
       "      <td>...</td>\n",
       "      <td>...</td>\n",
       "      <td>...</td>\n",
       "      <td>...</td>\n",
       "      <td>...</td>\n",
       "      <td>...</td>\n",
       "      <td>...</td>\n",
       "      <td>...</td>\n",
       "      <td>...</td>\n",
       "    </tr>\n",
       "    <tr>\n",
       "      <th>173</th>\n",
       "      <td>13.71</td>\n",
       "      <td>5.65</td>\n",
       "      <td>2.45</td>\n",
       "      <td>20.5</td>\n",
       "      <td>95.0</td>\n",
       "      <td>1.68</td>\n",
       "      <td>0.61</td>\n",
       "      <td>0.52</td>\n",
       "      <td>1.06</td>\n",
       "      <td>7.70</td>\n",
       "      <td>0.64</td>\n",
       "      <td>1.74</td>\n",
       "      <td>740.0</td>\n",
       "      <td>2</td>\n",
       "    </tr>\n",
       "    <tr>\n",
       "      <th>174</th>\n",
       "      <td>13.40</td>\n",
       "      <td>3.91</td>\n",
       "      <td>2.48</td>\n",
       "      <td>23.0</td>\n",
       "      <td>102.0</td>\n",
       "      <td>1.80</td>\n",
       "      <td>0.75</td>\n",
       "      <td>0.43</td>\n",
       "      <td>1.41</td>\n",
       "      <td>7.30</td>\n",
       "      <td>0.70</td>\n",
       "      <td>1.56</td>\n",
       "      <td>750.0</td>\n",
       "      <td>2</td>\n",
       "    </tr>\n",
       "    <tr>\n",
       "      <th>175</th>\n",
       "      <td>13.27</td>\n",
       "      <td>4.28</td>\n",
       "      <td>2.26</td>\n",
       "      <td>20.0</td>\n",
       "      <td>120.0</td>\n",
       "      <td>1.59</td>\n",
       "      <td>0.69</td>\n",
       "      <td>0.43</td>\n",
       "      <td>1.35</td>\n",
       "      <td>10.20</td>\n",
       "      <td>0.59</td>\n",
       "      <td>1.56</td>\n",
       "      <td>835.0</td>\n",
       "      <td>2</td>\n",
       "    </tr>\n",
       "    <tr>\n",
       "      <th>176</th>\n",
       "      <td>13.17</td>\n",
       "      <td>2.59</td>\n",
       "      <td>2.37</td>\n",
       "      <td>20.0</td>\n",
       "      <td>120.0</td>\n",
       "      <td>1.65</td>\n",
       "      <td>0.68</td>\n",
       "      <td>0.53</td>\n",
       "      <td>1.46</td>\n",
       "      <td>9.30</td>\n",
       "      <td>0.60</td>\n",
       "      <td>1.62</td>\n",
       "      <td>840.0</td>\n",
       "      <td>2</td>\n",
       "    </tr>\n",
       "    <tr>\n",
       "      <th>177</th>\n",
       "      <td>14.13</td>\n",
       "      <td>4.10</td>\n",
       "      <td>2.74</td>\n",
       "      <td>24.5</td>\n",
       "      <td>96.0</td>\n",
       "      <td>2.05</td>\n",
       "      <td>0.76</td>\n",
       "      <td>0.56</td>\n",
       "      <td>1.35</td>\n",
       "      <td>9.20</td>\n",
       "      <td>0.61</td>\n",
       "      <td>1.60</td>\n",
       "      <td>560.0</td>\n",
       "      <td>2</td>\n",
       "    </tr>\n",
       "  </tbody>\n",
       "</table>\n",
       "<p>178 rows × 14 columns</p>\n",
       "</div>"
      ],
      "text/plain": [
       "        0     1     2     3      4     5     6     7     8      9     10  \\\n",
       "0    14.23  1.71  2.43  15.6  127.0  2.80  3.06  0.28  2.29   5.64  1.04   \n",
       "1    13.20  1.78  2.14  11.2  100.0  2.65  2.76  0.26  1.28   4.38  1.05   \n",
       "2    13.16  2.36  2.67  18.6  101.0  2.80  3.24  0.30  2.81   5.68  1.03   \n",
       "3    14.37  1.95  2.50  16.8  113.0  3.85  3.49  0.24  2.18   7.80  0.86   \n",
       "4    13.24  2.59  2.87  21.0  118.0  2.80  2.69  0.39  1.82   4.32  1.04   \n",
       "..     ...   ...   ...   ...    ...   ...   ...   ...   ...    ...   ...   \n",
       "173  13.71  5.65  2.45  20.5   95.0  1.68  0.61  0.52  1.06   7.70  0.64   \n",
       "174  13.40  3.91  2.48  23.0  102.0  1.80  0.75  0.43  1.41   7.30  0.70   \n",
       "175  13.27  4.28  2.26  20.0  120.0  1.59  0.69  0.43  1.35  10.20  0.59   \n",
       "176  13.17  2.59  2.37  20.0  120.0  1.65  0.68  0.53  1.46   9.30  0.60   \n",
       "177  14.13  4.10  2.74  24.5   96.0  2.05  0.76  0.56  1.35   9.20  0.61   \n",
       "\n",
       "       11      12  0   \n",
       "0    3.92  1065.0   0  \n",
       "1    3.40  1050.0   0  \n",
       "2    3.17  1185.0   0  \n",
       "3    3.45  1480.0   0  \n",
       "4    2.93   735.0   0  \n",
       "..    ...     ...  ..  \n",
       "173  1.74   740.0   2  \n",
       "174  1.56   750.0   2  \n",
       "175  1.56   835.0   2  \n",
       "176  1.62   840.0   2  \n",
       "177  1.60   560.0   2  \n",
       "\n",
       "[178 rows x 14 columns]"
      ]
     },
     "execution_count": 7,
     "metadata": {},
     "output_type": "execute_result"
    }
   ],
   "source": [
    "import pandas as pd\n",
    "#将数据和标签转化成数据框，再用concat将两者连起来\n",
    "pd.concat([pd.DataFrame(wine.data),pd.DataFrame(wine.target)],axis=1)"
   ]
  },
  {
   "cell_type": "code",
   "execution_count": 8,
   "metadata": {
    "scrolled": true
   },
   "outputs": [
    {
     "data": {
      "text/plain": [
       "['alcohol',\n",
       " 'malic_acid',\n",
       " 'ash',\n",
       " 'alcalinity_of_ash',\n",
       " 'magnesium',\n",
       " 'total_phenols',\n",
       " 'flavanoids',\n",
       " 'nonflavanoid_phenols',\n",
       " 'proanthocyanins',\n",
       " 'color_intensity',\n",
       " 'hue',\n",
       " 'od280/od315_of_diluted_wines',\n",
       " 'proline']"
      ]
     },
     "execution_count": 8,
     "metadata": {},
     "output_type": "execute_result"
    }
   ],
   "source": [
    "wine.feature_names #特征的名字"
   ]
  },
  {
   "cell_type": "code",
   "execution_count": 9,
   "metadata": {},
   "outputs": [
    {
     "data": {
      "text/plain": [
       "array(['class_0', 'class_1', 'class_2'], dtype='<U7')"
      ]
     },
     "execution_count": 9,
     "metadata": {},
     "output_type": "execute_result"
    }
   ],
   "source": [
    "wine.target_names #标签的名字"
   ]
  },
  {
   "cell_type": "markdown",
   "metadata": {},
   "source": [
    "**3.分训练集和测试集**"
   ]
  },
  {
   "cell_type": "code",
   "execution_count": 10,
   "metadata": {},
   "outputs": [],
   "source": [
    "#将数据分为训练集(70%)和测试集(30%),注意4个的顺序\n",
    "Xtrain,Xtest,Ytrain,Ytest=train_test_split(wine.data,wine.target,test_size=0.3)"
   ]
  },
  {
   "cell_type": "code",
   "execution_count": 11,
   "metadata": {},
   "outputs": [
    {
     "data": {
      "text/plain": [
       "(124, 13)"
      ]
     },
     "execution_count": 11,
     "metadata": {},
     "output_type": "execute_result"
    }
   ],
   "source": [
    "Xtrain.shape #训练集的特征的结构"
   ]
  },
  {
   "cell_type": "code",
   "execution_count": 12,
   "metadata": {},
   "outputs": [
    {
     "data": {
      "text/plain": [
       "(54, 13)"
      ]
     },
     "execution_count": 12,
     "metadata": {},
     "output_type": "execute_result"
    }
   ],
   "source": [
    "Xtest.shape #测试集的特征的结构"
   ]
  },
  {
   "cell_type": "code",
   "execution_count": 13,
   "metadata": {},
   "outputs": [
    {
     "data": {
      "text/plain": [
       "array([2, 0, 2, 0, 2, 0, 0, 1, 1, 1, 1, 2, 1, 0, 1, 1, 1, 1, 1, 1, 1, 0,\n",
       "       0, 2, 2, 0, 1, 1, 1, 2, 0, 0, 0, 2, 1, 1, 2, 0, 1, 2, 0, 1, 0, 0,\n",
       "       1, 2, 0, 2, 0, 1, 1, 1, 1, 1, 1, 2, 1, 1, 0, 2, 2, 0, 1, 0, 0, 1,\n",
       "       0, 0, 0, 2, 1, 1, 0, 0, 2, 1, 1, 1, 1, 1, 0, 1, 2, 1, 0, 2, 0, 1,\n",
       "       0, 1, 1, 0, 1, 2, 1, 2, 2, 1, 1, 0, 1, 2, 2, 2, 2, 1, 0, 2, 0, 1,\n",
       "       0, 0, 2, 2, 0, 1, 2, 0, 0, 0, 1, 2, 2, 2])"
      ]
     },
     "execution_count": 13,
     "metadata": {},
     "output_type": "execute_result"
    }
   ],
   "source": [
    "Ytrain #训练集的标签"
   ]
  },
  {
   "cell_type": "markdown",
   "metadata": {},
   "source": [
    "**4.建立模型**"
   ]
  },
  {
   "cell_type": "markdown",
   "metadata": {},
   "source": [
    "entropy：信息熵（实际计算的是基于信息上的信息增益，即父节点的信息熵和子节点的信息熵之差）；gini：基尼系数（默认）。"
   ]
  },
  {
   "cell_type": "code",
   "execution_count": 14,
   "metadata": {},
   "outputs": [
    {
     "data": {
      "text/plain": [
       "0.9259259259259259"
      ]
     },
     "execution_count": 14,
     "metadata": {},
     "output_type": "execute_result"
    }
   ],
   "source": [
    "#建模三部曲\n",
    "clf = tree.DecisionTreeClassifier(criterion=\"entropy\") #实例化（信息熵）\n",
    "clf = clf.fit(Xtrain, Ytrain) #用训练集数据训练模型\n",
    "score = clf.score(Xtest, Ytest) #返回预测的准确度\n",
    "\n",
    "score"
   ]
  },
  {
   "cell_type": "markdown",
   "metadata": {},
   "source": [
    "**5.画一棵树**"
   ]
  },
  {
   "cell_type": "code",
   "execution_count": 15,
   "metadata": {},
   "outputs": [
    {
     "data": {
      "image/svg+xml": [
       "<?xml version=\"1.0\" encoding=\"UTF-8\" standalone=\"no\"?>\r\n",
       "<!DOCTYPE svg PUBLIC \"-//W3C//DTD SVG 1.1//EN\"\r\n",
       " \"http://www.w3.org/Graphics/SVG/1.1/DTD/svg11.dtd\">\r\n",
       "<!-- Generated by graphviz version 2.47.0 (20210316.0004)\r\n",
       " -->\r\n",
       "<!-- Title: Tree Pages: 1 -->\r\n",
       "<svg width=\"616pt\" height=\"433pt\"\r\n",
       " viewBox=\"0.00 0.00 616.00 433.00\" xmlns=\"http://www.w3.org/2000/svg\" xmlns:xlink=\"http://www.w3.org/1999/xlink\">\r\n",
       "<g id=\"graph0\" class=\"graph\" transform=\"scale(1 1) rotate(0) translate(4 429)\">\r\n",
       "<title>Tree</title>\r\n",
       "<polygon fill=\"white\" stroke=\"transparent\" points=\"-4,4 -4,-429 612,-429 612,4 -4,4\"/>\r\n",
       "<!-- 0 -->\r\n",
       "<g id=\"node1\" class=\"node\">\r\n",
       "<title>0</title>\r\n",
       "<path fill=\"#e5fcee\" stroke=\"black\" d=\"M323.5,-425C323.5,-425 209.5,-425 209.5,-425 203.5,-425 197.5,-419 197.5,-413 197.5,-413 197.5,-354 197.5,-354 197.5,-348 203.5,-342 209.5,-342 209.5,-342 323.5,-342 323.5,-342 329.5,-342 335.5,-348 335.5,-354 335.5,-354 335.5,-413 335.5,-413 335.5,-419 329.5,-425 323.5,-425\"/>\r\n",
       "<text text-anchor=\"middle\" x=\"266.5\" y=\"-409.8\" font-family=\"Helvetica,sans-Serif\" font-size=\"14.00\">颜色强度 &lt;= 3.82</text>\r\n",
       "<text text-anchor=\"middle\" x=\"266.5\" y=\"-394.8\" font-family=\"Helvetica,sans-Serif\" font-size=\"14.00\">entropy = 1.562</text>\r\n",
       "<text text-anchor=\"middle\" x=\"266.5\" y=\"-379.8\" font-family=\"Helvetica,sans-Serif\" font-size=\"14.00\">samples = 124</text>\r\n",
       "<text text-anchor=\"middle\" x=\"266.5\" y=\"-364.8\" font-family=\"Helvetica,sans-Serif\" font-size=\"14.00\">value = [40, 51, 33]</text>\r\n",
       "<text text-anchor=\"middle\" x=\"266.5\" y=\"-349.8\" font-family=\"Helvetica,sans-Serif\" font-size=\"14.00\">class = 雪莉</text>\r\n",
       "</g>\r\n",
       "<!-- 1 -->\r\n",
       "<g id=\"node2\" class=\"node\">\r\n",
       "<title>1</title>\r\n",
       "<path fill=\"#46e789\" stroke=\"black\" d=\"M246,-306C246,-306 141,-306 141,-306 135,-306 129,-300 129,-294 129,-294 129,-235 129,-235 129,-229 135,-223 141,-223 141,-223 246,-223 246,-223 252,-223 258,-229 258,-235 258,-235 258,-294 258,-294 258,-300 252,-306 246,-306\"/>\r\n",
       "<text text-anchor=\"middle\" x=\"193.5\" y=\"-290.8\" font-family=\"Helvetica,sans-Serif\" font-size=\"14.00\">脯氨酸 &lt;= 790.0</text>\r\n",
       "<text text-anchor=\"middle\" x=\"193.5\" y=\"-275.8\" font-family=\"Helvetica,sans-Serif\" font-size=\"14.00\">entropy = 0.337</text>\r\n",
       "<text text-anchor=\"middle\" x=\"193.5\" y=\"-260.8\" font-family=\"Helvetica,sans-Serif\" font-size=\"14.00\">samples = 48</text>\r\n",
       "<text text-anchor=\"middle\" x=\"193.5\" y=\"-245.8\" font-family=\"Helvetica,sans-Serif\" font-size=\"14.00\">value = [3, 45, 0]</text>\r\n",
       "<text text-anchor=\"middle\" x=\"193.5\" y=\"-230.8\" font-family=\"Helvetica,sans-Serif\" font-size=\"14.00\">class = 雪莉</text>\r\n",
       "</g>\r\n",
       "<!-- 0&#45;&gt;1 -->\r\n",
       "<g id=\"edge1\" class=\"edge\">\r\n",
       "<title>0&#45;&gt;1</title>\r\n",
       "<path fill=\"none\" stroke=\"black\" d=\"M241.17,-341.91C235.68,-333.1 229.81,-323.7 224.14,-314.61\"/>\r\n",
       "<polygon fill=\"black\" stroke=\"black\" points=\"227.05,-312.65 218.78,-306.02 221.11,-316.36 227.05,-312.65\"/>\r\n",
       "<text text-anchor=\"middle\" x=\"213.14\" y=\"-326.68\" font-family=\"Helvetica,sans-Serif\" font-size=\"14.00\">True</text>\r\n",
       "</g>\r\n",
       "<!-- 6 -->\r\n",
       "<g id=\"node7\" class=\"node\">\r\n",
       "<title>6</title>\r\n",
       "<path fill=\"#fdf3ed\" stroke=\"black\" d=\"M393,-306C393,-306 288,-306 288,-306 282,-306 276,-300 276,-294 276,-294 276,-235 276,-235 276,-229 282,-223 288,-223 288,-223 393,-223 393,-223 399,-223 405,-229 405,-235 405,-235 405,-294 405,-294 405,-300 399,-306 393,-306\"/>\r\n",
       "<text text-anchor=\"middle\" x=\"340.5\" y=\"-290.8\" font-family=\"Helvetica,sans-Serif\" font-size=\"14.00\">类黄酮 &lt;= 1.58</text>\r\n",
       "<text text-anchor=\"middle\" x=\"340.5\" y=\"-275.8\" font-family=\"Helvetica,sans-Serif\" font-size=\"14.00\">entropy = 1.317</text>\r\n",
       "<text text-anchor=\"middle\" x=\"340.5\" y=\"-260.8\" font-family=\"Helvetica,sans-Serif\" font-size=\"14.00\">samples = 76</text>\r\n",
       "<text text-anchor=\"middle\" x=\"340.5\" y=\"-245.8\" font-family=\"Helvetica,sans-Serif\" font-size=\"14.00\">value = [37, 6, 33]</text>\r\n",
       "<text text-anchor=\"middle\" x=\"340.5\" y=\"-230.8\" font-family=\"Helvetica,sans-Serif\" font-size=\"14.00\">class = 琴酒</text>\r\n",
       "</g>\r\n",
       "<!-- 0&#45;&gt;6 -->\r\n",
       "<g id=\"edge6\" class=\"edge\">\r\n",
       "<title>0&#45;&gt;6</title>\r\n",
       "<path fill=\"none\" stroke=\"black\" d=\"M292.17,-341.91C297.74,-333.1 303.69,-323.7 309.44,-314.61\"/>\r\n",
       "<polygon fill=\"black\" stroke=\"black\" points=\"312.48,-316.34 314.87,-306.02 306.57,-312.6 312.48,-316.34\"/>\r\n",
       "<text text-anchor=\"middle\" x=\"320.36\" y=\"-326.71\" font-family=\"Helvetica,sans-Serif\" font-size=\"14.00\">False</text>\r\n",
       "</g>\r\n",
       "<!-- 2 -->\r\n",
       "<g id=\"node3\" class=\"node\">\r\n",
       "<title>2</title>\r\n",
       "<path fill=\"#39e581\" stroke=\"black\" d=\"M109,-179.5C109,-179.5 12,-179.5 12,-179.5 6,-179.5 0,-173.5 0,-167.5 0,-167.5 0,-123.5 0,-123.5 0,-117.5 6,-111.5 12,-111.5 12,-111.5 109,-111.5 109,-111.5 115,-111.5 121,-117.5 121,-123.5 121,-123.5 121,-167.5 121,-167.5 121,-173.5 115,-179.5 109,-179.5\"/>\r\n",
       "<text text-anchor=\"middle\" x=\"60.5\" y=\"-164.3\" font-family=\"Helvetica,sans-Serif\" font-size=\"14.00\">entropy = 0.0</text>\r\n",
       "<text text-anchor=\"middle\" x=\"60.5\" y=\"-149.3\" font-family=\"Helvetica,sans-Serif\" font-size=\"14.00\">samples = 42</text>\r\n",
       "<text text-anchor=\"middle\" x=\"60.5\" y=\"-134.3\" font-family=\"Helvetica,sans-Serif\" font-size=\"14.00\">value = [0, 42, 0]</text>\r\n",
       "<text text-anchor=\"middle\" x=\"60.5\" y=\"-119.3\" font-family=\"Helvetica,sans-Serif\" font-size=\"14.00\">class = 雪莉</text>\r\n",
       "</g>\r\n",
       "<!-- 1&#45;&gt;2 -->\r\n",
       "<g id=\"edge2\" class=\"edge\">\r\n",
       "<title>1&#45;&gt;2</title>\r\n",
       "<path fill=\"none\" stroke=\"black\" d=\"M147.36,-222.91C133.93,-211.1 119.29,-198.22 105.91,-186.45\"/>\r\n",
       "<polygon fill=\"black\" stroke=\"black\" points=\"108.02,-183.64 98.2,-179.67 103.4,-188.9 108.02,-183.64\"/>\r\n",
       "</g>\r\n",
       "<!-- 3 -->\r\n",
       "<g id=\"node4\" class=\"node\">\r\n",
       "<title>3</title>\r\n",
       "<path fill=\"#ffffff\" stroke=\"black\" d=\"M240,-187C240,-187 151,-187 151,-187 145,-187 139,-181 139,-175 139,-175 139,-116 139,-116 139,-110 145,-104 151,-104 151,-104 240,-104 240,-104 246,-104 252,-110 252,-116 252,-116 252,-175 252,-175 252,-181 246,-187 240,-187\"/>\r\n",
       "<text text-anchor=\"middle\" x=\"195.5\" y=\"-171.8\" font-family=\"Helvetica,sans-Serif\" font-size=\"14.00\">酒精 &lt;= 13.02</text>\r\n",
       "<text text-anchor=\"middle\" x=\"195.5\" y=\"-156.8\" font-family=\"Helvetica,sans-Serif\" font-size=\"14.00\">entropy = 1.0</text>\r\n",
       "<text text-anchor=\"middle\" x=\"195.5\" y=\"-141.8\" font-family=\"Helvetica,sans-Serif\" font-size=\"14.00\">samples = 6</text>\r\n",
       "<text text-anchor=\"middle\" x=\"195.5\" y=\"-126.8\" font-family=\"Helvetica,sans-Serif\" font-size=\"14.00\">value = [3, 3, 0]</text>\r\n",
       "<text text-anchor=\"middle\" x=\"195.5\" y=\"-111.8\" font-family=\"Helvetica,sans-Serif\" font-size=\"14.00\">class = 琴酒</text>\r\n",
       "</g>\r\n",
       "<!-- 1&#45;&gt;3 -->\r\n",
       "<g id=\"edge3\" class=\"edge\">\r\n",
       "<title>1&#45;&gt;3</title>\r\n",
       "<path fill=\"none\" stroke=\"black\" d=\"M194.19,-222.91C194.34,-214.56 194.49,-205.67 194.64,-197.02\"/>\r\n",
       "<polygon fill=\"black\" stroke=\"black\" points=\"198.14,-197.08 194.81,-187.02 191.14,-196.96 198.14,-197.08\"/>\r\n",
       "</g>\r\n",
       "<!-- 4 -->\r\n",
       "<g id=\"node5\" class=\"node\">\r\n",
       "<title>4</title>\r\n",
       "<path fill=\"#39e581\" stroke=\"black\" d=\"M182,-68C182,-68 93,-68 93,-68 87,-68 81,-62 81,-56 81,-56 81,-12 81,-12 81,-6 87,0 93,0 93,0 182,0 182,0 188,0 194,-6 194,-12 194,-12 194,-56 194,-56 194,-62 188,-68 182,-68\"/>\r\n",
       "<text text-anchor=\"middle\" x=\"137.5\" y=\"-52.8\" font-family=\"Helvetica,sans-Serif\" font-size=\"14.00\">entropy = 0.0</text>\r\n",
       "<text text-anchor=\"middle\" x=\"137.5\" y=\"-37.8\" font-family=\"Helvetica,sans-Serif\" font-size=\"14.00\">samples = 3</text>\r\n",
       "<text text-anchor=\"middle\" x=\"137.5\" y=\"-22.8\" font-family=\"Helvetica,sans-Serif\" font-size=\"14.00\">value = [0, 3, 0]</text>\r\n",
       "<text text-anchor=\"middle\" x=\"137.5\" y=\"-7.8\" font-family=\"Helvetica,sans-Serif\" font-size=\"14.00\">class = 雪莉</text>\r\n",
       "</g>\r\n",
       "<!-- 3&#45;&gt;4 -->\r\n",
       "<g id=\"edge4\" class=\"edge\">\r\n",
       "<title>3&#45;&gt;4</title>\r\n",
       "<path fill=\"none\" stroke=\"black\" d=\"M173.9,-103.73C169.31,-95.06 164.46,-85.9 159.84,-77.18\"/>\r\n",
       "<polygon fill=\"black\" stroke=\"black\" points=\"162.91,-75.5 155.14,-68.3 156.73,-78.77 162.91,-75.5\"/>\r\n",
       "</g>\r\n",
       "<!-- 5 -->\r\n",
       "<g id=\"node6\" class=\"node\">\r\n",
       "<title>5</title>\r\n",
       "<path fill=\"#e58139\" stroke=\"black\" d=\"M313,-68C313,-68 224,-68 224,-68 218,-68 212,-62 212,-56 212,-56 212,-12 212,-12 212,-6 218,0 224,0 224,0 313,0 313,0 319,0 325,-6 325,-12 325,-12 325,-56 325,-56 325,-62 319,-68 313,-68\"/>\r\n",
       "<text text-anchor=\"middle\" x=\"268.5\" y=\"-52.8\" font-family=\"Helvetica,sans-Serif\" font-size=\"14.00\">entropy = 0.0</text>\r\n",
       "<text text-anchor=\"middle\" x=\"268.5\" y=\"-37.8\" font-family=\"Helvetica,sans-Serif\" font-size=\"14.00\">samples = 3</text>\r\n",
       "<text text-anchor=\"middle\" x=\"268.5\" y=\"-22.8\" font-family=\"Helvetica,sans-Serif\" font-size=\"14.00\">value = [3, 0, 0]</text>\r\n",
       "<text text-anchor=\"middle\" x=\"268.5\" y=\"-7.8\" font-family=\"Helvetica,sans-Serif\" font-size=\"14.00\">class = 琴酒</text>\r\n",
       "</g>\r\n",
       "<!-- 3&#45;&gt;5 -->\r\n",
       "<g id=\"edge5\" class=\"edge\">\r\n",
       "<title>3&#45;&gt;5</title>\r\n",
       "<path fill=\"none\" stroke=\"black\" d=\"M222.68,-103.73C228.58,-94.88 234.83,-85.51 240.75,-76.63\"/>\r\n",
       "<polygon fill=\"black\" stroke=\"black\" points=\"243.67,-78.56 246.3,-68.3 237.84,-74.68 243.67,-78.56\"/>\r\n",
       "</g>\r\n",
       "<!-- 7 -->\r\n",
       "<g id=\"node8\" class=\"node\">\r\n",
       "<title>7</title>\r\n",
       "<path fill=\"#8139e5\" stroke=\"black\" d=\"M394.5,-179.5C394.5,-179.5 284.5,-179.5 284.5,-179.5 278.5,-179.5 272.5,-173.5 272.5,-167.5 272.5,-167.5 272.5,-123.5 272.5,-123.5 272.5,-117.5 278.5,-111.5 284.5,-111.5 284.5,-111.5 394.5,-111.5 394.5,-111.5 400.5,-111.5 406.5,-117.5 406.5,-123.5 406.5,-123.5 406.5,-167.5 406.5,-167.5 406.5,-173.5 400.5,-179.5 394.5,-179.5\"/>\r\n",
       "<text text-anchor=\"middle\" x=\"339.5\" y=\"-164.3\" font-family=\"Helvetica,sans-Serif\" font-size=\"14.00\">entropy = 0.0</text>\r\n",
       "<text text-anchor=\"middle\" x=\"339.5\" y=\"-149.3\" font-family=\"Helvetica,sans-Serif\" font-size=\"14.00\">samples = 33</text>\r\n",
       "<text text-anchor=\"middle\" x=\"339.5\" y=\"-134.3\" font-family=\"Helvetica,sans-Serif\" font-size=\"14.00\">value = [0, 0, 33]</text>\r\n",
       "<text text-anchor=\"middle\" x=\"339.5\" y=\"-119.3\" font-family=\"Helvetica,sans-Serif\" font-size=\"14.00\">class = 贝尔摩德</text>\r\n",
       "</g>\r\n",
       "<!-- 6&#45;&gt;7 -->\r\n",
       "<g id=\"edge7\" class=\"edge\">\r\n",
       "<title>6&#45;&gt;7</title>\r\n",
       "<path fill=\"none\" stroke=\"black\" d=\"M340.15,-222.91C340.06,-212.2 339.96,-200.62 339.87,-189.78\"/>\r\n",
       "<polygon fill=\"black\" stroke=\"black\" points=\"343.37,-189.64 339.78,-179.67 336.37,-189.7 343.37,-189.64\"/>\r\n",
       "</g>\r\n",
       "<!-- 8 -->\r\n",
       "<g id=\"node9\" class=\"node\">\r\n",
       "<title>8</title>\r\n",
       "<path fill=\"#e99559\" stroke=\"black\" d=\"M542,-187C542,-187 437,-187 437,-187 431,-187 425,-181 425,-175 425,-175 425,-116 425,-116 425,-110 431,-104 437,-104 437,-104 542,-104 542,-104 548,-104 554,-110 554,-116 554,-116 554,-175 554,-175 554,-181 548,-187 542,-187\"/>\r\n",
       "<text text-anchor=\"middle\" x=\"489.5\" y=\"-171.8\" font-family=\"Helvetica,sans-Serif\" font-size=\"14.00\">脯氨酸 &lt;= 625.0</text>\r\n",
       "<text text-anchor=\"middle\" x=\"489.5\" y=\"-156.8\" font-family=\"Helvetica,sans-Serif\" font-size=\"14.00\">entropy = 0.583</text>\r\n",
       "<text text-anchor=\"middle\" x=\"489.5\" y=\"-141.8\" font-family=\"Helvetica,sans-Serif\" font-size=\"14.00\">samples = 43</text>\r\n",
       "<text text-anchor=\"middle\" x=\"489.5\" y=\"-126.8\" font-family=\"Helvetica,sans-Serif\" font-size=\"14.00\">value = [37, 6, 0]</text>\r\n",
       "<text text-anchor=\"middle\" x=\"489.5\" y=\"-111.8\" font-family=\"Helvetica,sans-Serif\" font-size=\"14.00\">class = 琴酒</text>\r\n",
       "</g>\r\n",
       "<!-- 6&#45;&gt;8 -->\r\n",
       "<g id=\"edge8\" class=\"edge\">\r\n",
       "<title>6&#45;&gt;8</title>\r\n",
       "<path fill=\"none\" stroke=\"black\" d=\"M392.19,-222.91C404.33,-213.38 417.36,-203.15 429.81,-193.37\"/>\r\n",
       "<polygon fill=\"black\" stroke=\"black\" points=\"432.19,-195.95 437.9,-187.02 427.87,-190.44 432.19,-195.95\"/>\r\n",
       "</g>\r\n",
       "<!-- 9 -->\r\n",
       "<g id=\"node10\" class=\"node\">\r\n",
       "<title>9</title>\r\n",
       "<path fill=\"#39e581\" stroke=\"black\" d=\"M457,-68C457,-68 368,-68 368,-68 362,-68 356,-62 356,-56 356,-56 356,-12 356,-12 356,-6 362,0 368,0 368,0 457,0 457,0 463,0 469,-6 469,-12 469,-12 469,-56 469,-56 469,-62 463,-68 457,-68\"/>\r\n",
       "<text text-anchor=\"middle\" x=\"412.5\" y=\"-52.8\" font-family=\"Helvetica,sans-Serif\" font-size=\"14.00\">entropy = 0.0</text>\r\n",
       "<text text-anchor=\"middle\" x=\"412.5\" y=\"-37.8\" font-family=\"Helvetica,sans-Serif\" font-size=\"14.00\">samples = 6</text>\r\n",
       "<text text-anchor=\"middle\" x=\"412.5\" y=\"-22.8\" font-family=\"Helvetica,sans-Serif\" font-size=\"14.00\">value = [0, 6, 0]</text>\r\n",
       "<text text-anchor=\"middle\" x=\"412.5\" y=\"-7.8\" font-family=\"Helvetica,sans-Serif\" font-size=\"14.00\">class = 雪莉</text>\r\n",
       "</g>\r\n",
       "<!-- 8&#45;&gt;9 -->\r\n",
       "<g id=\"edge9\" class=\"edge\">\r\n",
       "<title>8&#45;&gt;9</title>\r\n",
       "<path fill=\"none\" stroke=\"black\" d=\"M460.83,-103.73C454.61,-94.88 448.02,-85.51 441.77,-76.63\"/>\r\n",
       "<polygon fill=\"black\" stroke=\"black\" points=\"444.53,-74.47 435.92,-68.3 438.81,-78.49 444.53,-74.47\"/>\r\n",
       "</g>\r\n",
       "<!-- 10 -->\r\n",
       "<g id=\"node11\" class=\"node\">\r\n",
       "<title>10</title>\r\n",
       "<path fill=\"#e58139\" stroke=\"black\" d=\"M596,-68C596,-68 499,-68 499,-68 493,-68 487,-62 487,-56 487,-56 487,-12 487,-12 487,-6 493,0 499,0 499,0 596,0 596,0 602,0 608,-6 608,-12 608,-12 608,-56 608,-56 608,-62 602,-68 596,-68\"/>\r\n",
       "<text text-anchor=\"middle\" x=\"547.5\" y=\"-52.8\" font-family=\"Helvetica,sans-Serif\" font-size=\"14.00\">entropy = 0.0</text>\r\n",
       "<text text-anchor=\"middle\" x=\"547.5\" y=\"-37.8\" font-family=\"Helvetica,sans-Serif\" font-size=\"14.00\">samples = 37</text>\r\n",
       "<text text-anchor=\"middle\" x=\"547.5\" y=\"-22.8\" font-family=\"Helvetica,sans-Serif\" font-size=\"14.00\">value = [37, 0, 0]</text>\r\n",
       "<text text-anchor=\"middle\" x=\"547.5\" y=\"-7.8\" font-family=\"Helvetica,sans-Serif\" font-size=\"14.00\">class = 琴酒</text>\r\n",
       "</g>\r\n",
       "<!-- 8&#45;&gt;10 -->\r\n",
       "<g id=\"edge10\" class=\"edge\">\r\n",
       "<title>8&#45;&gt;10</title>\r\n",
       "<path fill=\"none\" stroke=\"black\" d=\"M511.1,-103.73C515.69,-95.06 520.54,-85.9 525.16,-77.18\"/>\r\n",
       "<polygon fill=\"black\" stroke=\"black\" points=\"528.27,-78.77 529.86,-68.3 522.09,-75.5 528.27,-78.77\"/>\r\n",
       "</g>\r\n",
       "</g>\r\n",
       "</svg>\r\n"
      ],
      "text/plain": [
       "<graphviz.files.Source at 0x1be55a9d2b0>"
      ]
     },
     "execution_count": 15,
     "metadata": {},
     "output_type": "execute_result"
    }
   ],
   "source": [
    "#画树\n",
    "import graphviz\n",
    "feature_name= ['酒精','苹果酸','灰','灰的碱性','镁','总酚','类黄酮','非黄烷类酚类','花青素','颜色强度','色调','od280/od315稀释葡萄酒','脯氨酸']\n",
    "dot_data = tree.export_graphviz(clf #训练的模型的名字\n",
    "                                ,feature_names=feature_name #特征的名字\n",
    "                                ,class_names=['琴酒','雪莉','贝尔摩德'] #标签的名字\n",
    "                                ,filled=True #是否填充颜色，颜色越深不纯度越低，白色是绝对不纯\n",
    "                                ,rounded=True #框形状是否圆\n",
    "                               )\n",
    "graph = graphviz.Source(dot_data)\n",
    "graph"
   ]
  },
  {
   "cell_type": "markdown",
   "metadata": {},
   "source": [
    "**6.探索决策树**"
   ]
  },
  {
   "cell_type": "code",
   "execution_count": 16,
   "metadata": {},
   "outputs": [
    {
     "data": {
      "text/plain": [
       "array([0.03097821, 0.        , 0.        , 0.        , 0.        ,\n",
       "       0.        , 0.38747599, 0.        , 0.        , 0.39949843,\n",
       "       0.        , 0.        , 0.18204737])"
      ]
     },
     "execution_count": 16,
     "metadata": {},
     "output_type": "execute_result"
    }
   ],
   "source": [
    "clf.feature_importances_ #每个特征的重要性，数越大重要性越高"
   ]
  },
  {
   "cell_type": "code",
   "execution_count": 17,
   "metadata": {
    "scrolled": true
   },
   "outputs": [
    {
     "data": {
      "text/plain": [
       "[('酒精', 0.030978211321692803),\n",
       " ('苹果酸', 0.0),\n",
       " ('灰', 0.0),\n",
       " ('灰的碱性', 0.0),\n",
       " ('镁', 0.0),\n",
       " ('总酚', 0.0),\n",
       " ('类黄酮', 0.38747598677154743),\n",
       " ('非黄烷类酚类', 0.0),\n",
       " ('花青素', 0.0),\n",
       " ('颜色强度', 0.3994984288889819),\n",
       " ('色调', 0.0),\n",
       " ('od280/od315稀释葡萄酒', 0.0),\n",
       " ('脯氨酸', 0.18204737301777793)]"
      ]
     },
     "execution_count": 17,
     "metadata": {},
     "output_type": "execute_result"
    }
   ],
   "source": [
    "[*zip(feature_name,clf.feature_importances_)] #根节点的重要性最高"
   ]
  },
  {
   "cell_type": "markdown",
   "metadata": {},
   "source": [
    "### （二）随机性：random_state & splitter"
   ]
  },
  {
   "cell_type": "markdown",
   "metadata": {},
   "source": [
    "加入参数random_state使score固定，random_state等于的数没有实际意义。"
   ]
  },
  {
   "cell_type": "code",
   "execution_count": 18,
   "metadata": {},
   "outputs": [
    {
     "data": {
      "text/plain": [
       "0.9259259259259259"
      ]
     },
     "execution_count": 18,
     "metadata": {},
     "output_type": "execute_result"
    }
   ],
   "source": [
    "#建模三部曲\n",
    "clf = tree.DecisionTreeClassifier(criterion=\"entropy\"\n",
    "                                  ,random_state=30\n",
    "                                 ) #实例化\n",
    "clf = clf.fit(Xtrain, Ytrain) #用训练集数据训练模型\n",
    "score = clf.score(Xtest, Ytest) #返回预测的准确度\n",
    "\n",
    "score"
   ]
  },
  {
   "cell_type": "markdown",
   "metadata": {},
   "source": [
    "加入参数splitter=\"best\"：优先选择更重要的特征进行分枝（重要性可通过feature\\_importances\\_查看）；<br>\n",
    "加入参数splitter=\"random\"：分枝时更加随机，树会因为含有更多的不必要信息而更深更大，并因这些不必要的信息而降低对训练集的拟合。"
   ]
  },
  {
   "cell_type": "code",
   "execution_count": 19,
   "metadata": {},
   "outputs": [
    {
     "data": {
      "text/plain": [
       "0.9629629629629629"
      ]
     },
     "execution_count": 19,
     "metadata": {},
     "output_type": "execute_result"
    }
   ],
   "source": [
    "#建模三部曲\n",
    "clf = tree.DecisionTreeClassifier(criterion=\"entropy\"\n",
    "                                  ,random_state=30\n",
    "                                  ,splitter='random'\n",
    "                                 ) #实例化\n",
    "clf = clf.fit(Xtrain, Ytrain) #用训练集数据训练模型\n",
    "score = clf.score(Xtest, Ytest) #返回预测的准确度\n",
    "\n",
    "score"
   ]
  },
  {
   "cell_type": "code",
   "execution_count": 20,
   "metadata": {},
   "outputs": [
    {
     "data": {
      "image/svg+xml": [
       "<?xml version=\"1.0\" encoding=\"UTF-8\" standalone=\"no\"?>\r\n",
       "<!DOCTYPE svg PUBLIC \"-//W3C//DTD SVG 1.1//EN\"\r\n",
       " \"http://www.w3.org/Graphics/SVG/1.1/DTD/svg11.dtd\">\r\n",
       "<!-- Generated by graphviz version 2.47.0 (20210316.0004)\r\n",
       " -->\r\n",
       "<!-- Title: Tree Pages: 1 -->\r\n",
       "<svg width=\"1128pt\" height=\"671pt\"\r\n",
       " viewBox=\"0.00 0.00 1127.50 671.00\" xmlns=\"http://www.w3.org/2000/svg\" xmlns:xlink=\"http://www.w3.org/1999/xlink\">\r\n",
       "<g id=\"graph0\" class=\"graph\" transform=\"scale(1 1) rotate(0) translate(4 667)\">\r\n",
       "<title>Tree</title>\r\n",
       "<polygon fill=\"white\" stroke=\"transparent\" points=\"-4,4 -4,-667 1123.5,-667 1123.5,4 -4,4\"/>\r\n",
       "<!-- 0 -->\r\n",
       "<g id=\"node1\" class=\"node\">\r\n",
       "<title>0</title>\r\n",
       "<path fill=\"#e5fcee\" stroke=\"black\" d=\"M634.5,-663C634.5,-663 521.5,-663 521.5,-663 515.5,-663 509.5,-657 509.5,-651 509.5,-651 509.5,-592 509.5,-592 509.5,-586 515.5,-580 521.5,-580 521.5,-580 634.5,-580 634.5,-580 640.5,-580 646.5,-586 646.5,-592 646.5,-592 646.5,-651 646.5,-651 646.5,-657 640.5,-663 634.5,-663\"/>\r\n",
       "<text text-anchor=\"middle\" x=\"578\" y=\"-647.8\" font-family=\"Helvetica,sans-Serif\" font-size=\"14.00\">类黄酮 &lt;= 2.154</text>\r\n",
       "<text text-anchor=\"middle\" x=\"578\" y=\"-632.8\" font-family=\"Helvetica,sans-Serif\" font-size=\"14.00\">entropy = 1.562</text>\r\n",
       "<text text-anchor=\"middle\" x=\"578\" y=\"-617.8\" font-family=\"Helvetica,sans-Serif\" font-size=\"14.00\">samples = 124</text>\r\n",
       "<text text-anchor=\"middle\" x=\"578\" y=\"-602.8\" font-family=\"Helvetica,sans-Serif\" font-size=\"14.00\">value = [40, 51, 33]</text>\r\n",
       "<text text-anchor=\"middle\" x=\"578\" y=\"-587.8\" font-family=\"Helvetica,sans-Serif\" font-size=\"14.00\">class = 雪莉</text>\r\n",
       "</g>\r\n",
       "<!-- 1 -->\r\n",
       "<g id=\"node2\" class=\"node\">\r\n",
       "<title>1</title>\r\n",
       "<path fill=\"#f4edfd\" stroke=\"black\" d=\"M587,-544C587,-544 361,-544 361,-544 355,-544 349,-538 349,-532 349,-532 349,-473 349,-473 349,-467 355,-461 361,-461 361,-461 587,-461 587,-461 593,-461 599,-467 599,-473 599,-473 599,-532 599,-532 599,-538 593,-544 587,-544\"/>\r\n",
       "<text text-anchor=\"middle\" x=\"474\" y=\"-528.8\" font-family=\"Helvetica,sans-Serif\" font-size=\"14.00\">od280/od315稀释葡萄酒 &lt;= 2.132</text>\r\n",
       "<text text-anchor=\"middle\" x=\"474\" y=\"-513.8\" font-family=\"Helvetica,sans-Serif\" font-size=\"14.00\">entropy = 0.998</text>\r\n",
       "<text text-anchor=\"middle\" x=\"474\" y=\"-498.8\" font-family=\"Helvetica,sans-Serif\" font-size=\"14.00\">samples = 63</text>\r\n",
       "<text text-anchor=\"middle\" x=\"474\" y=\"-483.8\" font-family=\"Helvetica,sans-Serif\" font-size=\"14.00\">value = [0, 30, 33]</text>\r\n",
       "<text text-anchor=\"middle\" x=\"474\" y=\"-468.8\" font-family=\"Helvetica,sans-Serif\" font-size=\"14.00\">class = 贝尔摩德</text>\r\n",
       "</g>\r\n",
       "<!-- 0&#45;&gt;1 -->\r\n",
       "<g id=\"edge1\" class=\"edge\">\r\n",
       "<title>0&#45;&gt;1</title>\r\n",
       "<path fill=\"none\" stroke=\"black\" d=\"M541.92,-579.91C533.85,-570.83 525.22,-561.12 516.91,-551.77\"/>\r\n",
       "<polygon fill=\"black\" stroke=\"black\" points=\"519.28,-549.17 510.02,-544.02 514.05,-553.82 519.28,-549.17\"/>\r\n",
       "<text text-anchor=\"middle\" x=\"508.55\" y=\"-565.28\" font-family=\"Helvetica,sans-Serif\" font-size=\"14.00\">True</text>\r\n",
       "</g>\r\n",
       "<!-- 12 -->\r\n",
       "<g id=\"node13\" class=\"node\">\r\n",
       "<title>12</title>\r\n",
       "<path fill=\"#f3c3a1\" stroke=\"black\" d=\"M734.5,-544C734.5,-544 629.5,-544 629.5,-544 623.5,-544 617.5,-538 617.5,-532 617.5,-532 617.5,-473 617.5,-473 617.5,-467 623.5,-461 629.5,-461 629.5,-461 734.5,-461 734.5,-461 740.5,-461 746.5,-467 746.5,-473 746.5,-473 746.5,-532 746.5,-532 746.5,-538 740.5,-544 734.5,-544\"/>\r\n",
       "<text text-anchor=\"middle\" x=\"682\" y=\"-528.8\" font-family=\"Helvetica,sans-Serif\" font-size=\"14.00\">酒精 &lt;= 12.554</text>\r\n",
       "<text text-anchor=\"middle\" x=\"682\" y=\"-513.8\" font-family=\"Helvetica,sans-Serif\" font-size=\"14.00\">entropy = 0.929</text>\r\n",
       "<text text-anchor=\"middle\" x=\"682\" y=\"-498.8\" font-family=\"Helvetica,sans-Serif\" font-size=\"14.00\">samples = 61</text>\r\n",
       "<text text-anchor=\"middle\" x=\"682\" y=\"-483.8\" font-family=\"Helvetica,sans-Serif\" font-size=\"14.00\">value = [40, 21, 0]</text>\r\n",
       "<text text-anchor=\"middle\" x=\"682\" y=\"-468.8\" font-family=\"Helvetica,sans-Serif\" font-size=\"14.00\">class = 琴酒</text>\r\n",
       "</g>\r\n",
       "<!-- 0&#45;&gt;12 -->\r\n",
       "<g id=\"edge12\" class=\"edge\">\r\n",
       "<title>0&#45;&gt;12</title>\r\n",
       "<path fill=\"none\" stroke=\"black\" d=\"M614.08,-579.91C622.15,-570.83 630.78,-561.12 639.09,-551.77\"/>\r\n",
       "<polygon fill=\"black\" stroke=\"black\" points=\"641.95,-553.82 645.98,-544.02 636.72,-549.17 641.95,-553.82\"/>\r\n",
       "<text text-anchor=\"middle\" x=\"647.45\" y=\"-565.28\" font-family=\"Helvetica,sans-Serif\" font-size=\"14.00\">False</text>\r\n",
       "</g>\r\n",
       "<!-- 2 -->\r\n",
       "<g id=\"node3\" class=\"node\">\r\n",
       "<title>2</title>\r\n",
       "<path fill=\"#995fea\" stroke=\"black\" d=\"M396,-425C396,-425 286,-425 286,-425 280,-425 274,-419 274,-413 274,-413 274,-354 274,-354 274,-348 280,-342 286,-342 286,-342 396,-342 396,-342 402,-342 408,-348 408,-354 408,-354 408,-413 408,-413 408,-419 402,-425 396,-425\"/>\r\n",
       "<text text-anchor=\"middle\" x=\"341\" y=\"-409.8\" font-family=\"Helvetica,sans-Serif\" font-size=\"14.00\">色调 &lt;= 0.973</text>\r\n",
       "<text text-anchor=\"middle\" x=\"341\" y=\"-394.8\" font-family=\"Helvetica,sans-Serif\" font-size=\"14.00\">entropy = 0.639</text>\r\n",
       "<text text-anchor=\"middle\" x=\"341\" y=\"-379.8\" font-family=\"Helvetica,sans-Serif\" font-size=\"14.00\">samples = 37</text>\r\n",
       "<text text-anchor=\"middle\" x=\"341\" y=\"-364.8\" font-family=\"Helvetica,sans-Serif\" font-size=\"14.00\">value = [0, 6, 31]</text>\r\n",
       "<text text-anchor=\"middle\" x=\"341\" y=\"-349.8\" font-family=\"Helvetica,sans-Serif\" font-size=\"14.00\">class = 贝尔摩德</text>\r\n",
       "</g>\r\n",
       "<!-- 1&#45;&gt;2 -->\r\n",
       "<g id=\"edge2\" class=\"edge\">\r\n",
       "<title>1&#45;&gt;2</title>\r\n",
       "<path fill=\"none\" stroke=\"black\" d=\"M427.86,-460.91C417.13,-451.47 405.62,-441.34 394.6,-431.65\"/>\r\n",
       "<polygon fill=\"black\" stroke=\"black\" points=\"396.88,-429 387.06,-425.02 392.26,-434.25 396.88,-429\"/>\r\n",
       "</g>\r\n",
       "<!-- 9 -->\r\n",
       "<g id=\"node10\" class=\"node\">\r\n",
       "<title>9</title>\r\n",
       "<path fill=\"#49e78c\" stroke=\"black\" d=\"M543.5,-425C543.5,-425 438.5,-425 438.5,-425 432.5,-425 426.5,-419 426.5,-413 426.5,-413 426.5,-354 426.5,-354 426.5,-348 432.5,-342 438.5,-342 438.5,-342 543.5,-342 543.5,-342 549.5,-342 555.5,-348 555.5,-354 555.5,-354 555.5,-413 555.5,-413 555.5,-419 549.5,-425 543.5,-425\"/>\r\n",
       "<text text-anchor=\"middle\" x=\"491\" y=\"-409.8\" font-family=\"Helvetica,sans-Serif\" font-size=\"14.00\">类黄酮 &lt;= 0.827</text>\r\n",
       "<text text-anchor=\"middle\" x=\"491\" y=\"-394.8\" font-family=\"Helvetica,sans-Serif\" font-size=\"14.00\">entropy = 0.391</text>\r\n",
       "<text text-anchor=\"middle\" x=\"491\" y=\"-379.8\" font-family=\"Helvetica,sans-Serif\" font-size=\"14.00\">samples = 26</text>\r\n",
       "<text text-anchor=\"middle\" x=\"491\" y=\"-364.8\" font-family=\"Helvetica,sans-Serif\" font-size=\"14.00\">value = [0, 24, 2]</text>\r\n",
       "<text text-anchor=\"middle\" x=\"491\" y=\"-349.8\" font-family=\"Helvetica,sans-Serif\" font-size=\"14.00\">class = 雪莉</text>\r\n",
       "</g>\r\n",
       "<!-- 1&#45;&gt;9 -->\r\n",
       "<g id=\"edge9\" class=\"edge\">\r\n",
       "<title>1&#45;&gt;9</title>\r\n",
       "<path fill=\"none\" stroke=\"black\" d=\"M479.9,-460.91C481.11,-452.56 482.4,-443.67 483.66,-435.02\"/>\r\n",
       "<polygon fill=\"black\" stroke=\"black\" points=\"487.14,-435.42 485.11,-425.02 480.21,-434.41 487.14,-435.42\"/>\r\n",
       "</g>\r\n",
       "<!-- 3 -->\r\n",
       "<g id=\"node4\" class=\"node\">\r\n",
       "<title>3</title>\r\n",
       "<path fill=\"#8d4ce8\" stroke=\"black\" d=\"M256,-306C256,-306 30,-306 30,-306 24,-306 18,-300 18,-294 18,-294 18,-235 18,-235 18,-229 24,-223 30,-223 30,-223 256,-223 256,-223 262,-223 268,-229 268,-235 268,-235 268,-294 268,-294 268,-300 262,-306 256,-306\"/>\r\n",
       "<text text-anchor=\"middle\" x=\"143\" y=\"-290.8\" font-family=\"Helvetica,sans-Serif\" font-size=\"14.00\">od280/od315稀释葡萄酒 &lt;= 1.881</text>\r\n",
       "<text text-anchor=\"middle\" x=\"143\" y=\"-275.8\" font-family=\"Helvetica,sans-Serif\" font-size=\"14.00\">entropy = 0.431</text>\r\n",
       "<text text-anchor=\"middle\" x=\"143\" y=\"-260.8\" font-family=\"Helvetica,sans-Serif\" font-size=\"14.00\">samples = 34</text>\r\n",
       "<text text-anchor=\"middle\" x=\"143\" y=\"-245.8\" font-family=\"Helvetica,sans-Serif\" font-size=\"14.00\">value = [0, 3, 31]</text>\r\n",
       "<text text-anchor=\"middle\" x=\"143\" y=\"-230.8\" font-family=\"Helvetica,sans-Serif\" font-size=\"14.00\">class = 贝尔摩德</text>\r\n",
       "</g>\r\n",
       "<!-- 2&#45;&gt;3 -->\r\n",
       "<g id=\"edge3\" class=\"edge\">\r\n",
       "<title>2&#45;&gt;3</title>\r\n",
       "<path fill=\"none\" stroke=\"black\" d=\"M273.97,-342.89C256.71,-332.69 238,-321.64 220.27,-311.16\"/>\r\n",
       "<polygon fill=\"black\" stroke=\"black\" points=\"222.04,-308.14 211.65,-306.07 218.48,-314.17 222.04,-308.14\"/>\r\n",
       "</g>\r\n",
       "<!-- 8 -->\r\n",
       "<g id=\"node9\" class=\"node\">\r\n",
       "<title>8</title>\r\n",
       "<path fill=\"#39e581\" stroke=\"black\" d=\"M387.5,-298.5C387.5,-298.5 298.5,-298.5 298.5,-298.5 292.5,-298.5 286.5,-292.5 286.5,-286.5 286.5,-286.5 286.5,-242.5 286.5,-242.5 286.5,-236.5 292.5,-230.5 298.5,-230.5 298.5,-230.5 387.5,-230.5 387.5,-230.5 393.5,-230.5 399.5,-236.5 399.5,-242.5 399.5,-242.5 399.5,-286.5 399.5,-286.5 399.5,-292.5 393.5,-298.5 387.5,-298.5\"/>\r\n",
       "<text text-anchor=\"middle\" x=\"343\" y=\"-283.3\" font-family=\"Helvetica,sans-Serif\" font-size=\"14.00\">entropy = 0.0</text>\r\n",
       "<text text-anchor=\"middle\" x=\"343\" y=\"-268.3\" font-family=\"Helvetica,sans-Serif\" font-size=\"14.00\">samples = 3</text>\r\n",
       "<text text-anchor=\"middle\" x=\"343\" y=\"-253.3\" font-family=\"Helvetica,sans-Serif\" font-size=\"14.00\">value = [0, 3, 0]</text>\r\n",
       "<text text-anchor=\"middle\" x=\"343\" y=\"-238.3\" font-family=\"Helvetica,sans-Serif\" font-size=\"14.00\">class = 雪莉</text>\r\n",
       "</g>\r\n",
       "<!-- 2&#45;&gt;8 -->\r\n",
       "<g id=\"edge8\" class=\"edge\">\r\n",
       "<title>2&#45;&gt;8</title>\r\n",
       "<path fill=\"none\" stroke=\"black\" d=\"M341.69,-341.91C341.88,-331.2 342.07,-319.62 342.26,-308.78\"/>\r\n",
       "<polygon fill=\"black\" stroke=\"black\" points=\"345.76,-308.73 342.43,-298.67 338.76,-308.61 345.76,-308.73\"/>\r\n",
       "</g>\r\n",
       "<!-- 4 -->\r\n",
       "<g id=\"node5\" class=\"node\">\r\n",
       "<title>4</title>\r\n",
       "<path fill=\"#8139e5\" stroke=\"black\" d=\"M122,-179.5C122,-179.5 12,-179.5 12,-179.5 6,-179.5 0,-173.5 0,-167.5 0,-167.5 0,-123.5 0,-123.5 0,-117.5 6,-111.5 12,-111.5 12,-111.5 122,-111.5 122,-111.5 128,-111.5 134,-117.5 134,-123.5 134,-123.5 134,-167.5 134,-167.5 134,-173.5 128,-179.5 122,-179.5\"/>\r\n",
       "<text text-anchor=\"middle\" x=\"67\" y=\"-164.3\" font-family=\"Helvetica,sans-Serif\" font-size=\"14.00\">entropy = 0.0</text>\r\n",
       "<text text-anchor=\"middle\" x=\"67\" y=\"-149.3\" font-family=\"Helvetica,sans-Serif\" font-size=\"14.00\">samples = 26</text>\r\n",
       "<text text-anchor=\"middle\" x=\"67\" y=\"-134.3\" font-family=\"Helvetica,sans-Serif\" font-size=\"14.00\">value = [0, 0, 26]</text>\r\n",
       "<text text-anchor=\"middle\" x=\"67\" y=\"-119.3\" font-family=\"Helvetica,sans-Serif\" font-size=\"14.00\">class = 贝尔摩德</text>\r\n",
       "</g>\r\n",
       "<!-- 3&#45;&gt;4 -->\r\n",
       "<g id=\"edge4\" class=\"edge\">\r\n",
       "<title>3&#45;&gt;4</title>\r\n",
       "<path fill=\"none\" stroke=\"black\" d=\"M116.63,-222.91C109.32,-211.65 101.37,-199.42 94.03,-188.11\"/>\r\n",
       "<polygon fill=\"black\" stroke=\"black\" points=\"96.93,-186.15 88.54,-179.67 91.06,-189.96 96.93,-186.15\"/>\r\n",
       "</g>\r\n",
       "<!-- 5 -->\r\n",
       "<g id=\"node6\" class=\"node\">\r\n",
       "<title>5</title>\r\n",
       "<path fill=\"#cdb0f5\" stroke=\"black\" d=\"M274,-187C274,-187 164,-187 164,-187 158,-187 152,-181 152,-175 152,-175 152,-116 152,-116 152,-110 158,-104 164,-104 164,-104 274,-104 274,-104 280,-104 286,-110 286,-116 286,-116 286,-175 286,-175 286,-181 280,-187 274,-187\"/>\r\n",
       "<text text-anchor=\"middle\" x=\"219\" y=\"-171.8\" font-family=\"Helvetica,sans-Serif\" font-size=\"14.00\">镁 &lt;= 86.708</text>\r\n",
       "<text text-anchor=\"middle\" x=\"219\" y=\"-156.8\" font-family=\"Helvetica,sans-Serif\" font-size=\"14.00\">entropy = 0.954</text>\r\n",
       "<text text-anchor=\"middle\" x=\"219\" y=\"-141.8\" font-family=\"Helvetica,sans-Serif\" font-size=\"14.00\">samples = 8</text>\r\n",
       "<text text-anchor=\"middle\" x=\"219\" y=\"-126.8\" font-family=\"Helvetica,sans-Serif\" font-size=\"14.00\">value = [0, 3, 5]</text>\r\n",
       "<text text-anchor=\"middle\" x=\"219\" y=\"-111.8\" font-family=\"Helvetica,sans-Serif\" font-size=\"14.00\">class = 贝尔摩德</text>\r\n",
       "</g>\r\n",
       "<!-- 3&#45;&gt;5 -->\r\n",
       "<g id=\"edge5\" class=\"edge\">\r\n",
       "<title>3&#45;&gt;5</title>\r\n",
       "<path fill=\"none\" stroke=\"black\" d=\"M169.37,-222.91C175.09,-214.1 181.19,-204.7 187.1,-195.61\"/>\r\n",
       "<polygon fill=\"black\" stroke=\"black\" points=\"190.17,-197.31 192.68,-187.02 184.3,-193.5 190.17,-197.31\"/>\r\n",
       "</g>\r\n",
       "<!-- 6 -->\r\n",
       "<g id=\"node7\" class=\"node\">\r\n",
       "<title>6</title>\r\n",
       "<path fill=\"#39e581\" stroke=\"black\" d=\"M192.5,-68C192.5,-68 103.5,-68 103.5,-68 97.5,-68 91.5,-62 91.5,-56 91.5,-56 91.5,-12 91.5,-12 91.5,-6 97.5,0 103.5,0 103.5,0 192.5,0 192.5,0 198.5,0 204.5,-6 204.5,-12 204.5,-12 204.5,-56 204.5,-56 204.5,-62 198.5,-68 192.5,-68\"/>\r\n",
       "<text text-anchor=\"middle\" x=\"148\" y=\"-52.8\" font-family=\"Helvetica,sans-Serif\" font-size=\"14.00\">entropy = 0.0</text>\r\n",
       "<text text-anchor=\"middle\" x=\"148\" y=\"-37.8\" font-family=\"Helvetica,sans-Serif\" font-size=\"14.00\">samples = 3</text>\r\n",
       "<text text-anchor=\"middle\" x=\"148\" y=\"-22.8\" font-family=\"Helvetica,sans-Serif\" font-size=\"14.00\">value = [0, 3, 0]</text>\r\n",
       "<text text-anchor=\"middle\" x=\"148\" y=\"-7.8\" font-family=\"Helvetica,sans-Serif\" font-size=\"14.00\">class = 雪莉</text>\r\n",
       "</g>\r\n",
       "<!-- 5&#45;&gt;6 -->\r\n",
       "<g id=\"edge6\" class=\"edge\">\r\n",
       "<title>5&#45;&gt;6</title>\r\n",
       "<path fill=\"none\" stroke=\"black\" d=\"M192.56,-103.73C186.88,-94.97 180.88,-85.7 175.17,-76.91\"/>\r\n",
       "<polygon fill=\"black\" stroke=\"black\" points=\"177.97,-74.79 169.59,-68.3 172.1,-78.59 177.97,-74.79\"/>\r\n",
       "</g>\r\n",
       "<!-- 7 -->\r\n",
       "<g id=\"node8\" class=\"node\">\r\n",
       "<title>7</title>\r\n",
       "<path fill=\"#8139e5\" stroke=\"black\" d=\"M345,-68C345,-68 235,-68 235,-68 229,-68 223,-62 223,-56 223,-56 223,-12 223,-12 223,-6 229,0 235,0 235,0 345,0 345,0 351,0 357,-6 357,-12 357,-12 357,-56 357,-56 357,-62 351,-68 345,-68\"/>\r\n",
       "<text text-anchor=\"middle\" x=\"290\" y=\"-52.8\" font-family=\"Helvetica,sans-Serif\" font-size=\"14.00\">entropy = 0.0</text>\r\n",
       "<text text-anchor=\"middle\" x=\"290\" y=\"-37.8\" font-family=\"Helvetica,sans-Serif\" font-size=\"14.00\">samples = 5</text>\r\n",
       "<text text-anchor=\"middle\" x=\"290\" y=\"-22.8\" font-family=\"Helvetica,sans-Serif\" font-size=\"14.00\">value = [0, 0, 5]</text>\r\n",
       "<text text-anchor=\"middle\" x=\"290\" y=\"-7.8\" font-family=\"Helvetica,sans-Serif\" font-size=\"14.00\">class = 贝尔摩德</text>\r\n",
       "</g>\r\n",
       "<!-- 5&#45;&gt;7 -->\r\n",
       "<g id=\"edge7\" class=\"edge\">\r\n",
       "<title>5&#45;&gt;7</title>\r\n",
       "<path fill=\"none\" stroke=\"black\" d=\"M245.44,-103.73C251.12,-94.97 257.12,-85.7 262.83,-76.91\"/>\r\n",
       "<polygon fill=\"black\" stroke=\"black\" points=\"265.9,-78.59 268.41,-68.3 260.03,-74.79 265.9,-78.59\"/>\r\n",
       "</g>\r\n",
       "<!-- 10 -->\r\n",
       "<g id=\"node11\" class=\"node\">\r\n",
       "<title>10</title>\r\n",
       "<path fill=\"#8139e5\" stroke=\"black\" d=\"M544,-298.5C544,-298.5 434,-298.5 434,-298.5 428,-298.5 422,-292.5 422,-286.5 422,-286.5 422,-242.5 422,-242.5 422,-236.5 428,-230.5 434,-230.5 434,-230.5 544,-230.5 544,-230.5 550,-230.5 556,-236.5 556,-242.5 556,-242.5 556,-286.5 556,-286.5 556,-292.5 550,-298.5 544,-298.5\"/>\r\n",
       "<text text-anchor=\"middle\" x=\"489\" y=\"-283.3\" font-family=\"Helvetica,sans-Serif\" font-size=\"14.00\">entropy = 0.0</text>\r\n",
       "<text text-anchor=\"middle\" x=\"489\" y=\"-268.3\" font-family=\"Helvetica,sans-Serif\" font-size=\"14.00\">samples = 2</text>\r\n",
       "<text text-anchor=\"middle\" x=\"489\" y=\"-253.3\" font-family=\"Helvetica,sans-Serif\" font-size=\"14.00\">value = [0, 0, 2]</text>\r\n",
       "<text text-anchor=\"middle\" x=\"489\" y=\"-238.3\" font-family=\"Helvetica,sans-Serif\" font-size=\"14.00\">class = 贝尔摩德</text>\r\n",
       "</g>\r\n",
       "<!-- 9&#45;&gt;10 -->\r\n",
       "<g id=\"edge10\" class=\"edge\">\r\n",
       "<title>9&#45;&gt;10</title>\r\n",
       "<path fill=\"none\" stroke=\"black\" d=\"M490.31,-341.91C490.12,-331.2 489.93,-319.62 489.74,-308.78\"/>\r\n",
       "<polygon fill=\"black\" stroke=\"black\" points=\"493.24,-308.61 489.57,-298.67 486.24,-308.73 493.24,-308.61\"/>\r\n",
       "</g>\r\n",
       "<!-- 11 -->\r\n",
       "<g id=\"node12\" class=\"node\">\r\n",
       "<title>11</title>\r\n",
       "<path fill=\"#39e581\" stroke=\"black\" d=\"M683.5,-298.5C683.5,-298.5 586.5,-298.5 586.5,-298.5 580.5,-298.5 574.5,-292.5 574.5,-286.5 574.5,-286.5 574.5,-242.5 574.5,-242.5 574.5,-236.5 580.5,-230.5 586.5,-230.5 586.5,-230.5 683.5,-230.5 683.5,-230.5 689.5,-230.5 695.5,-236.5 695.5,-242.5 695.5,-242.5 695.5,-286.5 695.5,-286.5 695.5,-292.5 689.5,-298.5 683.5,-298.5\"/>\r\n",
       "<text text-anchor=\"middle\" x=\"635\" y=\"-283.3\" font-family=\"Helvetica,sans-Serif\" font-size=\"14.00\">entropy = 0.0</text>\r\n",
       "<text text-anchor=\"middle\" x=\"635\" y=\"-268.3\" font-family=\"Helvetica,sans-Serif\" font-size=\"14.00\">samples = 24</text>\r\n",
       "<text text-anchor=\"middle\" x=\"635\" y=\"-253.3\" font-family=\"Helvetica,sans-Serif\" font-size=\"14.00\">value = [0, 24, 0]</text>\r\n",
       "<text text-anchor=\"middle\" x=\"635\" y=\"-238.3\" font-family=\"Helvetica,sans-Serif\" font-size=\"14.00\">class = 雪莉</text>\r\n",
       "</g>\r\n",
       "<!-- 9&#45;&gt;11 -->\r\n",
       "<g id=\"edge11\" class=\"edge\">\r\n",
       "<title>9&#45;&gt;11</title>\r\n",
       "<path fill=\"none\" stroke=\"black\" d=\"M540.96,-341.91C555.63,-329.99 571.65,-316.98 586.24,-305.12\"/>\r\n",
       "<polygon fill=\"black\" stroke=\"black\" points=\"588.63,-307.69 594.18,-298.67 584.21,-302.26 588.63,-307.69\"/>\r\n",
       "</g>\r\n",
       "<!-- 13 -->\r\n",
       "<g id=\"node14\" class=\"node\">\r\n",
       "<title>13</title>\r\n",
       "<path fill=\"#39e581\" stroke=\"black\" d=\"M714.5,-417.5C714.5,-417.5 617.5,-417.5 617.5,-417.5 611.5,-417.5 605.5,-411.5 605.5,-405.5 605.5,-405.5 605.5,-361.5 605.5,-361.5 605.5,-355.5 611.5,-349.5 617.5,-349.5 617.5,-349.5 714.5,-349.5 714.5,-349.5 720.5,-349.5 726.5,-355.5 726.5,-361.5 726.5,-361.5 726.5,-405.5 726.5,-405.5 726.5,-411.5 720.5,-417.5 714.5,-417.5\"/>\r\n",
       "<text text-anchor=\"middle\" x=\"666\" y=\"-402.3\" font-family=\"Helvetica,sans-Serif\" font-size=\"14.00\">entropy = 0.0</text>\r\n",
       "<text text-anchor=\"middle\" x=\"666\" y=\"-387.3\" font-family=\"Helvetica,sans-Serif\" font-size=\"14.00\">samples = 16</text>\r\n",
       "<text text-anchor=\"middle\" x=\"666\" y=\"-372.3\" font-family=\"Helvetica,sans-Serif\" font-size=\"14.00\">value = [0, 16, 0]</text>\r\n",
       "<text text-anchor=\"middle\" x=\"666\" y=\"-357.3\" font-family=\"Helvetica,sans-Serif\" font-size=\"14.00\">class = 雪莉</text>\r\n",
       "</g>\r\n",
       "<!-- 12&#45;&gt;13 -->\r\n",
       "<g id=\"edge13\" class=\"edge\">\r\n",
       "<title>12&#45;&gt;13</title>\r\n",
       "<path fill=\"none\" stroke=\"black\" d=\"M676.45,-460.91C674.99,-450.2 673.4,-438.62 671.92,-427.78\"/>\r\n",
       "<polygon fill=\"black\" stroke=\"black\" points=\"675.36,-427.1 670.54,-417.67 668.42,-428.05 675.36,-427.1\"/>\r\n",
       "</g>\r\n",
       "<!-- 14 -->\r\n",
       "<g id=\"node15\" class=\"node\">\r\n",
       "<title>14</title>\r\n",
       "<path fill=\"#e89152\" stroke=\"black\" d=\"M879,-425C879,-425 757,-425 757,-425 751,-425 745,-419 745,-413 745,-413 745,-354 745,-354 745,-348 751,-342 757,-342 757,-342 879,-342 879,-342 885,-342 891,-348 891,-354 891,-354 891,-413 891,-413 891,-419 885,-425 879,-425\"/>\r\n",
       "<text text-anchor=\"middle\" x=\"818\" y=\"-409.8\" font-family=\"Helvetica,sans-Serif\" font-size=\"14.00\">脯氨酸 &lt;= 495.916</text>\r\n",
       "<text text-anchor=\"middle\" x=\"818\" y=\"-394.8\" font-family=\"Helvetica,sans-Serif\" font-size=\"14.00\">entropy = 0.503</text>\r\n",
       "<text text-anchor=\"middle\" x=\"818\" y=\"-379.8\" font-family=\"Helvetica,sans-Serif\" font-size=\"14.00\">samples = 45</text>\r\n",
       "<text text-anchor=\"middle\" x=\"818\" y=\"-364.8\" font-family=\"Helvetica,sans-Serif\" font-size=\"14.00\">value = [40, 5, 0]</text>\r\n",
       "<text text-anchor=\"middle\" x=\"818\" y=\"-349.8\" font-family=\"Helvetica,sans-Serif\" font-size=\"14.00\">class = 琴酒</text>\r\n",
       "</g>\r\n",
       "<!-- 12&#45;&gt;14 -->\r\n",
       "<g id=\"edge14\" class=\"edge\">\r\n",
       "<title>12&#45;&gt;14</title>\r\n",
       "<path fill=\"none\" stroke=\"black\" d=\"M729.18,-460.91C740.16,-451.47 751.93,-441.34 763.19,-431.65\"/>\r\n",
       "<polygon fill=\"black\" stroke=\"black\" points=\"765.6,-434.2 770.9,-425.02 761.04,-428.89 765.6,-434.2\"/>\r\n",
       "</g>\r\n",
       "<!-- 15 -->\r\n",
       "<g id=\"node16\" class=\"node\">\r\n",
       "<title>15</title>\r\n",
       "<path fill=\"#39e581\" stroke=\"black\" d=\"M838.5,-298.5C838.5,-298.5 749.5,-298.5 749.5,-298.5 743.5,-298.5 737.5,-292.5 737.5,-286.5 737.5,-286.5 737.5,-242.5 737.5,-242.5 737.5,-236.5 743.5,-230.5 749.5,-230.5 749.5,-230.5 838.5,-230.5 838.5,-230.5 844.5,-230.5 850.5,-236.5 850.5,-242.5 850.5,-242.5 850.5,-286.5 850.5,-286.5 850.5,-292.5 844.5,-298.5 838.5,-298.5\"/>\r\n",
       "<text text-anchor=\"middle\" x=\"794\" y=\"-283.3\" font-family=\"Helvetica,sans-Serif\" font-size=\"14.00\">entropy = 0.0</text>\r\n",
       "<text text-anchor=\"middle\" x=\"794\" y=\"-268.3\" font-family=\"Helvetica,sans-Serif\" font-size=\"14.00\">samples = 3</text>\r\n",
       "<text text-anchor=\"middle\" x=\"794\" y=\"-253.3\" font-family=\"Helvetica,sans-Serif\" font-size=\"14.00\">value = [0, 3, 0]</text>\r\n",
       "<text text-anchor=\"middle\" x=\"794\" y=\"-238.3\" font-family=\"Helvetica,sans-Serif\" font-size=\"14.00\">class = 雪莉</text>\r\n",
       "</g>\r\n",
       "<!-- 14&#45;&gt;15 -->\r\n",
       "<g id=\"edge15\" class=\"edge\">\r\n",
       "<title>14&#45;&gt;15</title>\r\n",
       "<path fill=\"none\" stroke=\"black\" d=\"M809.67,-341.91C807.48,-331.2 805.1,-319.62 802.88,-308.78\"/>\r\n",
       "<polygon fill=\"black\" stroke=\"black\" points=\"806.24,-307.76 800.8,-298.67 799.38,-309.17 806.24,-307.76\"/>\r\n",
       "</g>\r\n",
       "<!-- 16 -->\r\n",
       "<g id=\"node17\" class=\"node\">\r\n",
       "<title>16</title>\r\n",
       "<path fill=\"#e68743\" stroke=\"black\" d=\"M977.5,-306C977.5,-306 880.5,-306 880.5,-306 874.5,-306 868.5,-300 868.5,-294 868.5,-294 868.5,-235 868.5,-235 868.5,-229 874.5,-223 880.5,-223 880.5,-223 977.5,-223 977.5,-223 983.5,-223 989.5,-229 989.5,-235 989.5,-235 989.5,-294 989.5,-294 989.5,-300 983.5,-306 977.5,-306\"/>\r\n",
       "<text text-anchor=\"middle\" x=\"929\" y=\"-290.8\" font-family=\"Helvetica,sans-Serif\" font-size=\"14.00\">灰 &lt;= 1.834</text>\r\n",
       "<text text-anchor=\"middle\" x=\"929\" y=\"-275.8\" font-family=\"Helvetica,sans-Serif\" font-size=\"14.00\">entropy = 0.276</text>\r\n",
       "<text text-anchor=\"middle\" x=\"929\" y=\"-260.8\" font-family=\"Helvetica,sans-Serif\" font-size=\"14.00\">samples = 42</text>\r\n",
       "<text text-anchor=\"middle\" x=\"929\" y=\"-245.8\" font-family=\"Helvetica,sans-Serif\" font-size=\"14.00\">value = [40, 2, 0]</text>\r\n",
       "<text text-anchor=\"middle\" x=\"929\" y=\"-230.8\" font-family=\"Helvetica,sans-Serif\" font-size=\"14.00\">class = 琴酒</text>\r\n",
       "</g>\r\n",
       "<!-- 14&#45;&gt;16 -->\r\n",
       "<g id=\"edge16\" class=\"edge\">\r\n",
       "<title>14&#45;&gt;16</title>\r\n",
       "<path fill=\"none\" stroke=\"black\" d=\"M856.51,-341.91C865.21,-332.74 874.52,-322.93 883.47,-313.49\"/>\r\n",
       "<polygon fill=\"black\" stroke=\"black\" points=\"886.21,-315.68 890.56,-306.02 881.14,-310.87 886.21,-315.68\"/>\r\n",
       "</g>\r\n",
       "<!-- 17 -->\r\n",
       "<g id=\"node18\" class=\"node\">\r\n",
       "<title>17</title>\r\n",
       "<path fill=\"#39e581\" stroke=\"black\" d=\"M905.5,-179.5C905.5,-179.5 816.5,-179.5 816.5,-179.5 810.5,-179.5 804.5,-173.5 804.5,-167.5 804.5,-167.5 804.5,-123.5 804.5,-123.5 804.5,-117.5 810.5,-111.5 816.5,-111.5 816.5,-111.5 905.5,-111.5 905.5,-111.5 911.5,-111.5 917.5,-117.5 917.5,-123.5 917.5,-123.5 917.5,-167.5 917.5,-167.5 917.5,-173.5 911.5,-179.5 905.5,-179.5\"/>\r\n",
       "<text text-anchor=\"middle\" x=\"861\" y=\"-164.3\" font-family=\"Helvetica,sans-Serif\" font-size=\"14.00\">entropy = 0.0</text>\r\n",
       "<text text-anchor=\"middle\" x=\"861\" y=\"-149.3\" font-family=\"Helvetica,sans-Serif\" font-size=\"14.00\">samples = 1</text>\r\n",
       "<text text-anchor=\"middle\" x=\"861\" y=\"-134.3\" font-family=\"Helvetica,sans-Serif\" font-size=\"14.00\">value = [0, 1, 0]</text>\r\n",
       "<text text-anchor=\"middle\" x=\"861\" y=\"-119.3\" font-family=\"Helvetica,sans-Serif\" font-size=\"14.00\">class = 雪莉</text>\r\n",
       "</g>\r\n",
       "<!-- 16&#45;&gt;17 -->\r\n",
       "<g id=\"edge17\" class=\"edge\">\r\n",
       "<title>16&#45;&gt;17</title>\r\n",
       "<path fill=\"none\" stroke=\"black\" d=\"M905.41,-222.91C898.93,-211.76 891.9,-199.66 885.37,-188.44\"/>\r\n",
       "<polygon fill=\"black\" stroke=\"black\" points=\"888.33,-186.55 880.28,-179.67 882.28,-190.07 888.33,-186.55\"/>\r\n",
       "</g>\r\n",
       "<!-- 18 -->\r\n",
       "<g id=\"node19\" class=\"node\">\r\n",
       "<title>18</title>\r\n",
       "<path fill=\"#e6843e\" stroke=\"black\" d=\"M1044.5,-187C1044.5,-187 947.5,-187 947.5,-187 941.5,-187 935.5,-181 935.5,-175 935.5,-175 935.5,-116 935.5,-116 935.5,-110 941.5,-104 947.5,-104 947.5,-104 1044.5,-104 1044.5,-104 1050.5,-104 1056.5,-110 1056.5,-116 1056.5,-116 1056.5,-175 1056.5,-175 1056.5,-181 1050.5,-187 1044.5,-187\"/>\r\n",
       "<text text-anchor=\"middle\" x=\"996\" y=\"-171.8\" font-family=\"Helvetica,sans-Serif\" font-size=\"14.00\">色调 &lt;= 1.282</text>\r\n",
       "<text text-anchor=\"middle\" x=\"996\" y=\"-156.8\" font-family=\"Helvetica,sans-Serif\" font-size=\"14.00\">entropy = 0.165</text>\r\n",
       "<text text-anchor=\"middle\" x=\"996\" y=\"-141.8\" font-family=\"Helvetica,sans-Serif\" font-size=\"14.00\">samples = 41</text>\r\n",
       "<text text-anchor=\"middle\" x=\"996\" y=\"-126.8\" font-family=\"Helvetica,sans-Serif\" font-size=\"14.00\">value = [40, 1, 0]</text>\r\n",
       "<text text-anchor=\"middle\" x=\"996\" y=\"-111.8\" font-family=\"Helvetica,sans-Serif\" font-size=\"14.00\">class = 琴酒</text>\r\n",
       "</g>\r\n",
       "<!-- 16&#45;&gt;18 -->\r\n",
       "<g id=\"edge18\" class=\"edge\">\r\n",
       "<title>16&#45;&gt;18</title>\r\n",
       "<path fill=\"none\" stroke=\"black\" d=\"M952.25,-222.91C957.23,-214.2 962.56,-204.9 967.71,-195.89\"/>\r\n",
       "<polygon fill=\"black\" stroke=\"black\" points=\"970.86,-197.44 972.8,-187.02 964.79,-193.96 970.86,-197.44\"/>\r\n",
       "</g>\r\n",
       "<!-- 19 -->\r\n",
       "<g id=\"node20\" class=\"node\">\r\n",
       "<title>19</title>\r\n",
       "<path fill=\"#e58139\" stroke=\"black\" d=\"M976.5,-68C976.5,-68 879.5,-68 879.5,-68 873.5,-68 867.5,-62 867.5,-56 867.5,-56 867.5,-12 867.5,-12 867.5,-6 873.5,0 879.5,0 879.5,0 976.5,0 976.5,0 982.5,0 988.5,-6 988.5,-12 988.5,-12 988.5,-56 988.5,-56 988.5,-62 982.5,-68 976.5,-68\"/>\r\n",
       "<text text-anchor=\"middle\" x=\"928\" y=\"-52.8\" font-family=\"Helvetica,sans-Serif\" font-size=\"14.00\">entropy = 0.0</text>\r\n",
       "<text text-anchor=\"middle\" x=\"928\" y=\"-37.8\" font-family=\"Helvetica,sans-Serif\" font-size=\"14.00\">samples = 40</text>\r\n",
       "<text text-anchor=\"middle\" x=\"928\" y=\"-22.8\" font-family=\"Helvetica,sans-Serif\" font-size=\"14.00\">value = [40, 0, 0]</text>\r\n",
       "<text text-anchor=\"middle\" x=\"928\" y=\"-7.8\" font-family=\"Helvetica,sans-Serif\" font-size=\"14.00\">class = 琴酒</text>\r\n",
       "</g>\r\n",
       "<!-- 18&#45;&gt;19 -->\r\n",
       "<g id=\"edge19\" class=\"edge\">\r\n",
       "<title>18&#45;&gt;19</title>\r\n",
       "<path fill=\"none\" stroke=\"black\" d=\"M970.68,-103.73C965.24,-94.97 959.49,-85.7 954.02,-76.91\"/>\r\n",
       "<polygon fill=\"black\" stroke=\"black\" points=\"956.93,-74.95 948.68,-68.3 950.98,-78.64 956.93,-74.95\"/>\r\n",
       "</g>\r\n",
       "<!-- 20 -->\r\n",
       "<g id=\"node21\" class=\"node\">\r\n",
       "<title>20</title>\r\n",
       "<path fill=\"#39e581\" stroke=\"black\" d=\"M1107.5,-68C1107.5,-68 1018.5,-68 1018.5,-68 1012.5,-68 1006.5,-62 1006.5,-56 1006.5,-56 1006.5,-12 1006.5,-12 1006.5,-6 1012.5,0 1018.5,0 1018.5,0 1107.5,0 1107.5,0 1113.5,0 1119.5,-6 1119.5,-12 1119.5,-12 1119.5,-56 1119.5,-56 1119.5,-62 1113.5,-68 1107.5,-68\"/>\r\n",
       "<text text-anchor=\"middle\" x=\"1063\" y=\"-52.8\" font-family=\"Helvetica,sans-Serif\" font-size=\"14.00\">entropy = 0.0</text>\r\n",
       "<text text-anchor=\"middle\" x=\"1063\" y=\"-37.8\" font-family=\"Helvetica,sans-Serif\" font-size=\"14.00\">samples = 1</text>\r\n",
       "<text text-anchor=\"middle\" x=\"1063\" y=\"-22.8\" font-family=\"Helvetica,sans-Serif\" font-size=\"14.00\">value = [0, 1, 0]</text>\r\n",
       "<text text-anchor=\"middle\" x=\"1063\" y=\"-7.8\" font-family=\"Helvetica,sans-Serif\" font-size=\"14.00\">class = 雪莉</text>\r\n",
       "</g>\r\n",
       "<!-- 18&#45;&gt;20 -->\r\n",
       "<g id=\"edge20\" class=\"edge\">\r\n",
       "<title>18&#45;&gt;20</title>\r\n",
       "<path fill=\"none\" stroke=\"black\" d=\"M1020.95,-103.73C1026.31,-94.97 1031.98,-85.7 1037.36,-76.91\"/>\r\n",
       "<polygon fill=\"black\" stroke=\"black\" points=\"1040.39,-78.66 1042.62,-68.3 1034.42,-75 1040.39,-78.66\"/>\r\n",
       "</g>\r\n",
       "</g>\r\n",
       "</svg>\r\n"
      ],
      "text/plain": [
       "<graphviz.files.Source at 0x1be566c02b0>"
      ]
     },
     "execution_count": 20,
     "metadata": {},
     "output_type": "execute_result"
    }
   ],
   "source": [
    "#画树，树变宽了，因为随机性增加了\n",
    "import graphviz\n",
    "feature_name= ['酒精','苹果酸','灰','灰的碱性','镁','总酚','类黄酮','非黄烷类酚类','花青素','颜色强度','色调','od280/od315稀释葡萄酒','脯氨酸']\n",
    "dot_data = tree.export_graphviz(clf #训练的模型的名字\n",
    "                                ,feature_names=feature_name #特征的名字\n",
    "                                ,class_names=['琴酒','雪莉','贝尔摩德'] #标签的名字\n",
    "                                ,filled=True #是否填充颜色，颜色越深不纯度越低\n",
    "                                ,rounded=True) #框形状是否圆\n",
    "graph = graphviz.Source(dot_data)\n",
    "graph"
   ]
  },
  {
   "cell_type": "code",
   "execution_count": 21,
   "metadata": {},
   "outputs": [
    {
     "data": {
      "text/plain": [
       "1.0"
      ]
     },
     "execution_count": 21,
     "metadata": {},
     "output_type": "execute_result"
    }
   ],
   "source": [
    "#查看训练集准确度，看是否过拟合。由于测试集与训练集准确度接近，不算过拟合\n",
    "score_train = clf.score(Xtrain, Ytrain)\n",
    "score_train"
   ]
  },
  {
   "cell_type": "markdown",
   "metadata": {},
   "source": [
    "### （三）剪枝参数"
   ]
  },
  {
   "cell_type": "markdown",
   "metadata": {},
   "source": [
    "加入与剪枝有关的参数，防止过拟合。"
   ]
  },
  {
   "cell_type": "markdown",
   "metadata": {},
   "source": [
    "**1.max_depth：限制树的最大深度，在高维度低样本量时非常有效。**"
   ]
  },
  {
   "cell_type": "markdown",
   "metadata": {},
   "source": [
    "**2.min_samples_leaf & min_samples_split**"
   ]
  },
  {
   "cell_type": "markdown",
   "metadata": {},
   "source": [
    "min_samples_leaf：一个节点在分枝后的每个子节点都必须包含至少min_samples_leaf个训练样本，否则：<br>\n",
    "(1)分枝不会发生；<br>\n",
    "(2)朝着满足每个子节点都包含至少min_samples_leaf个样本的方向分枝。<br>\n",
    "一般搭配max_depth使用。<br>\n",
    "输入浮点数作为样本量的百分比来使用。"
   ]
  },
  {
   "cell_type": "markdown",
   "metadata": {},
   "source": [
    "min_samples_split：一个节点必须包含至少min_samples_split个训练样本，这个节点才被允许分枝。"
   ]
  },
  {
   "cell_type": "code",
   "execution_count": 22,
   "metadata": {},
   "outputs": [
    {
     "data": {
      "text/plain": [
       "0.9444444444444444"
      ]
     },
     "execution_count": 22,
     "metadata": {},
     "output_type": "execute_result"
    }
   ],
   "source": [
    "#建模三部曲\n",
    "clf = tree.DecisionTreeClassifier(criterion=\"entropy\"\n",
    "                                  ,random_state=30\n",
    "                                  ,splitter='random'\n",
    "                                  ,max_depth=3 #score不变，可保留\n",
    "                                 # ,min_samples_leaf=10\n",
    "                                 # ,min_samples_split=25\n",
    "                                 ) #实例化\n",
    "clf = clf.fit(Xtrain, Ytrain) #用训练集数据训练模型\n",
    "score = clf.score(Xtest, Ytest) #返回预测的准确度\n",
    "\n",
    "score"
   ]
  },
  {
   "cell_type": "code",
   "execution_count": 23,
   "metadata": {},
   "outputs": [
    {
     "data": {
      "image/svg+xml": [
       "<?xml version=\"1.0\" encoding=\"UTF-8\" standalone=\"no\"?>\r\n",
       "<!DOCTYPE svg PUBLIC \"-//W3C//DTD SVG 1.1//EN\"\r\n",
       " \"http://www.w3.org/Graphics/SVG/1.1/DTD/svg11.dtd\">\r\n",
       "<!-- Generated by graphviz version 2.47.0 (20210316.0004)\r\n",
       " -->\r\n",
       "<!-- Title: Tree Pages: 1 -->\r\n",
       "<svg width=\"868pt\" height=\"433pt\"\r\n",
       " viewBox=\"0.00 0.00 867.50 433.00\" xmlns=\"http://www.w3.org/2000/svg\" xmlns:xlink=\"http://www.w3.org/1999/xlink\">\r\n",
       "<g id=\"graph0\" class=\"graph\" transform=\"scale(1 1) rotate(0) translate(4 429)\">\r\n",
       "<title>Tree</title>\r\n",
       "<polygon fill=\"white\" stroke=\"transparent\" points=\"-4,4 -4,-429 863.5,-429 863.5,4 -4,4\"/>\r\n",
       "<!-- 0 -->\r\n",
       "<g id=\"node1\" class=\"node\">\r\n",
       "<title>0</title>\r\n",
       "<path fill=\"#e5fcee\" stroke=\"black\" d=\"M509.5,-425C509.5,-425 396.5,-425 396.5,-425 390.5,-425 384.5,-419 384.5,-413 384.5,-413 384.5,-354 384.5,-354 384.5,-348 390.5,-342 396.5,-342 396.5,-342 509.5,-342 509.5,-342 515.5,-342 521.5,-348 521.5,-354 521.5,-354 521.5,-413 521.5,-413 521.5,-419 515.5,-425 509.5,-425\"/>\r\n",
       "<text text-anchor=\"middle\" x=\"453\" y=\"-409.8\" font-family=\"Helvetica,sans-Serif\" font-size=\"14.00\">类黄酮 &lt;= 2.154</text>\r\n",
       "<text text-anchor=\"middle\" x=\"453\" y=\"-394.8\" font-family=\"Helvetica,sans-Serif\" font-size=\"14.00\">entropy = 1.562</text>\r\n",
       "<text text-anchor=\"middle\" x=\"453\" y=\"-379.8\" font-family=\"Helvetica,sans-Serif\" font-size=\"14.00\">samples = 124</text>\r\n",
       "<text text-anchor=\"middle\" x=\"453\" y=\"-364.8\" font-family=\"Helvetica,sans-Serif\" font-size=\"14.00\">value = [40, 51, 33]</text>\r\n",
       "<text text-anchor=\"middle\" x=\"453\" y=\"-349.8\" font-family=\"Helvetica,sans-Serif\" font-size=\"14.00\">class = 雪莉</text>\r\n",
       "</g>\r\n",
       "<!-- 1 -->\r\n",
       "<g id=\"node2\" class=\"node\">\r\n",
       "<title>1</title>\r\n",
       "<path fill=\"#f4edfd\" stroke=\"black\" d=\"M458,-306C458,-306 232,-306 232,-306 226,-306 220,-300 220,-294 220,-294 220,-235 220,-235 220,-229 226,-223 232,-223 232,-223 458,-223 458,-223 464,-223 470,-229 470,-235 470,-235 470,-294 470,-294 470,-300 464,-306 458,-306\"/>\r\n",
       "<text text-anchor=\"middle\" x=\"345\" y=\"-290.8\" font-family=\"Helvetica,sans-Serif\" font-size=\"14.00\">od280/od315稀释葡萄酒 &lt;= 2.132</text>\r\n",
       "<text text-anchor=\"middle\" x=\"345\" y=\"-275.8\" font-family=\"Helvetica,sans-Serif\" font-size=\"14.00\">entropy = 0.998</text>\r\n",
       "<text text-anchor=\"middle\" x=\"345\" y=\"-260.8\" font-family=\"Helvetica,sans-Serif\" font-size=\"14.00\">samples = 63</text>\r\n",
       "<text text-anchor=\"middle\" x=\"345\" y=\"-245.8\" font-family=\"Helvetica,sans-Serif\" font-size=\"14.00\">value = [0, 30, 33]</text>\r\n",
       "<text text-anchor=\"middle\" x=\"345\" y=\"-230.8\" font-family=\"Helvetica,sans-Serif\" font-size=\"14.00\">class = 贝尔摩德</text>\r\n",
       "</g>\r\n",
       "<!-- 0&#45;&gt;1 -->\r\n",
       "<g id=\"edge1\" class=\"edge\">\r\n",
       "<title>0&#45;&gt;1</title>\r\n",
       "<path fill=\"none\" stroke=\"black\" d=\"M415.53,-341.91C407.07,-332.74 398.01,-322.93 389.3,-313.49\"/>\r\n",
       "<polygon fill=\"black\" stroke=\"black\" points=\"391.76,-310.99 382.4,-306.02 386.61,-315.74 391.76,-310.99\"/>\r\n",
       "<text text-anchor=\"middle\" x=\"381.4\" y=\"-327.3\" font-family=\"Helvetica,sans-Serif\" font-size=\"14.00\">True</text>\r\n",
       "</g>\r\n",
       "<!-- 8 -->\r\n",
       "<g id=\"node9\" class=\"node\">\r\n",
       "<title>8</title>\r\n",
       "<path fill=\"#f3c3a1\" stroke=\"black\" d=\"M622,-306C622,-306 500,-306 500,-306 494,-306 488,-300 488,-294 488,-294 488,-235 488,-235 488,-229 494,-223 500,-223 500,-223 622,-223 622,-223 628,-223 634,-229 634,-235 634,-235 634,-294 634,-294 634,-300 628,-306 622,-306\"/>\r\n",
       "<text text-anchor=\"middle\" x=\"561\" y=\"-290.8\" font-family=\"Helvetica,sans-Serif\" font-size=\"14.00\">脯氨酸 &lt;= 558.218</text>\r\n",
       "<text text-anchor=\"middle\" x=\"561\" y=\"-275.8\" font-family=\"Helvetica,sans-Serif\" font-size=\"14.00\">entropy = 0.929</text>\r\n",
       "<text text-anchor=\"middle\" x=\"561\" y=\"-260.8\" font-family=\"Helvetica,sans-Serif\" font-size=\"14.00\">samples = 61</text>\r\n",
       "<text text-anchor=\"middle\" x=\"561\" y=\"-245.8\" font-family=\"Helvetica,sans-Serif\" font-size=\"14.00\">value = [40, 21, 0]</text>\r\n",
       "<text text-anchor=\"middle\" x=\"561\" y=\"-230.8\" font-family=\"Helvetica,sans-Serif\" font-size=\"14.00\">class = 琴酒</text>\r\n",
       "</g>\r\n",
       "<!-- 0&#45;&gt;8 -->\r\n",
       "<g id=\"edge8\" class=\"edge\">\r\n",
       "<title>0&#45;&gt;8</title>\r\n",
       "<path fill=\"none\" stroke=\"black\" d=\"M490.47,-341.91C498.93,-332.74 507.99,-322.93 516.7,-313.49\"/>\r\n",
       "<polygon fill=\"black\" stroke=\"black\" points=\"519.39,-315.74 523.6,-306.02 514.24,-310.99 519.39,-315.74\"/>\r\n",
       "<text text-anchor=\"middle\" x=\"524.6\" y=\"-327.3\" font-family=\"Helvetica,sans-Serif\" font-size=\"14.00\">False</text>\r\n",
       "</g>\r\n",
       "<!-- 2 -->\r\n",
       "<g id=\"node3\" class=\"node\">\r\n",
       "<title>2</title>\r\n",
       "<path fill=\"#995fea\" stroke=\"black\" d=\"M258,-187C258,-187 148,-187 148,-187 142,-187 136,-181 136,-175 136,-175 136,-116 136,-116 136,-110 142,-104 148,-104 148,-104 258,-104 258,-104 264,-104 270,-110 270,-116 270,-116 270,-175 270,-175 270,-181 264,-187 258,-187\"/>\r\n",
       "<text text-anchor=\"middle\" x=\"203\" y=\"-171.8\" font-family=\"Helvetica,sans-Serif\" font-size=\"14.00\">色调 &lt;= 0.973</text>\r\n",
       "<text text-anchor=\"middle\" x=\"203\" y=\"-156.8\" font-family=\"Helvetica,sans-Serif\" font-size=\"14.00\">entropy = 0.639</text>\r\n",
       "<text text-anchor=\"middle\" x=\"203\" y=\"-141.8\" font-family=\"Helvetica,sans-Serif\" font-size=\"14.00\">samples = 37</text>\r\n",
       "<text text-anchor=\"middle\" x=\"203\" y=\"-126.8\" font-family=\"Helvetica,sans-Serif\" font-size=\"14.00\">value = [0, 6, 31]</text>\r\n",
       "<text text-anchor=\"middle\" x=\"203\" y=\"-111.8\" font-family=\"Helvetica,sans-Serif\" font-size=\"14.00\">class = 贝尔摩德</text>\r\n",
       "</g>\r\n",
       "<!-- 1&#45;&gt;2 -->\r\n",
       "<g id=\"edge2\" class=\"edge\">\r\n",
       "<title>1&#45;&gt;2</title>\r\n",
       "<path fill=\"none\" stroke=\"black\" d=\"M295.73,-222.91C284.28,-213.47 271.99,-203.34 260.22,-193.65\"/>\r\n",
       "<polygon fill=\"black\" stroke=\"black\" points=\"262.12,-190.68 252.18,-187.02 257.67,-196.08 262.12,-190.68\"/>\r\n",
       "</g>\r\n",
       "<!-- 5 -->\r\n",
       "<g id=\"node6\" class=\"node\">\r\n",
       "<title>5</title>\r\n",
       "<path fill=\"#49e78c\" stroke=\"black\" d=\"M422,-187C422,-187 300,-187 300,-187 294,-187 288,-181 288,-175 288,-175 288,-116 288,-116 288,-110 294,-104 300,-104 300,-104 422,-104 422,-104 428,-104 434,-110 434,-116 434,-116 434,-175 434,-175 434,-181 428,-187 422,-187\"/>\r\n",
       "<text text-anchor=\"middle\" x=\"361\" y=\"-171.8\" font-family=\"Helvetica,sans-Serif\" font-size=\"14.00\">颜色强度 &lt;= 4.371</text>\r\n",
       "<text text-anchor=\"middle\" x=\"361\" y=\"-156.8\" font-family=\"Helvetica,sans-Serif\" font-size=\"14.00\">entropy = 0.391</text>\r\n",
       "<text text-anchor=\"middle\" x=\"361\" y=\"-141.8\" font-family=\"Helvetica,sans-Serif\" font-size=\"14.00\">samples = 26</text>\r\n",
       "<text text-anchor=\"middle\" x=\"361\" y=\"-126.8\" font-family=\"Helvetica,sans-Serif\" font-size=\"14.00\">value = [0, 24, 2]</text>\r\n",
       "<text text-anchor=\"middle\" x=\"361\" y=\"-111.8\" font-family=\"Helvetica,sans-Serif\" font-size=\"14.00\">class = 雪莉</text>\r\n",
       "</g>\r\n",
       "<!-- 1&#45;&gt;5 -->\r\n",
       "<g id=\"edge5\" class=\"edge\">\r\n",
       "<title>1&#45;&gt;5</title>\r\n",
       "<path fill=\"none\" stroke=\"black\" d=\"M350.55,-222.91C351.69,-214.56 352.91,-205.67 354.09,-197.02\"/>\r\n",
       "<polygon fill=\"black\" stroke=\"black\" points=\"357.57,-197.4 355.46,-187.02 350.64,-196.45 357.57,-197.4\"/>\r\n",
       "</g>\r\n",
       "<!-- 3 -->\r\n",
       "<g id=\"node4\" class=\"node\">\r\n",
       "<title>3</title>\r\n",
       "<path fill=\"#8d4ce8\" stroke=\"black\" d=\"M122,-68C122,-68 12,-68 12,-68 6,-68 0,-62 0,-56 0,-56 0,-12 0,-12 0,-6 6,0 12,0 12,0 122,0 122,0 128,0 134,-6 134,-12 134,-12 134,-56 134,-56 134,-62 128,-68 122,-68\"/>\r\n",
       "<text text-anchor=\"middle\" x=\"67\" y=\"-52.8\" font-family=\"Helvetica,sans-Serif\" font-size=\"14.00\">entropy = 0.431</text>\r\n",
       "<text text-anchor=\"middle\" x=\"67\" y=\"-37.8\" font-family=\"Helvetica,sans-Serif\" font-size=\"14.00\">samples = 34</text>\r\n",
       "<text text-anchor=\"middle\" x=\"67\" y=\"-22.8\" font-family=\"Helvetica,sans-Serif\" font-size=\"14.00\">value = [0, 3, 31]</text>\r\n",
       "<text text-anchor=\"middle\" x=\"67\" y=\"-7.8\" font-family=\"Helvetica,sans-Serif\" font-size=\"14.00\">class = 贝尔摩德</text>\r\n",
       "</g>\r\n",
       "<!-- 2&#45;&gt;3 -->\r\n",
       "<g id=\"edge3\" class=\"edge\">\r\n",
       "<title>2&#45;&gt;3</title>\r\n",
       "<path fill=\"none\" stroke=\"black\" d=\"M152.36,-103.73C140.58,-94.24 128.05,-84.16 116.33,-74.72\"/>\r\n",
       "<polygon fill=\"black\" stroke=\"black\" points=\"118.34,-71.84 108.36,-68.3 113.95,-77.3 118.34,-71.84\"/>\r\n",
       "</g>\r\n",
       "<!-- 4 -->\r\n",
       "<g id=\"node5\" class=\"node\">\r\n",
       "<title>4</title>\r\n",
       "<path fill=\"#39e581\" stroke=\"black\" d=\"M253.5,-68C253.5,-68 164.5,-68 164.5,-68 158.5,-68 152.5,-62 152.5,-56 152.5,-56 152.5,-12 152.5,-12 152.5,-6 158.5,0 164.5,0 164.5,0 253.5,0 253.5,0 259.5,0 265.5,-6 265.5,-12 265.5,-12 265.5,-56 265.5,-56 265.5,-62 259.5,-68 253.5,-68\"/>\r\n",
       "<text text-anchor=\"middle\" x=\"209\" y=\"-52.8\" font-family=\"Helvetica,sans-Serif\" font-size=\"14.00\">entropy = 0.0</text>\r\n",
       "<text text-anchor=\"middle\" x=\"209\" y=\"-37.8\" font-family=\"Helvetica,sans-Serif\" font-size=\"14.00\">samples = 3</text>\r\n",
       "<text text-anchor=\"middle\" x=\"209\" y=\"-22.8\" font-family=\"Helvetica,sans-Serif\" font-size=\"14.00\">value = [0, 3, 0]</text>\r\n",
       "<text text-anchor=\"middle\" x=\"209\" y=\"-7.8\" font-family=\"Helvetica,sans-Serif\" font-size=\"14.00\">class = 雪莉</text>\r\n",
       "</g>\r\n",
       "<!-- 2&#45;&gt;4 -->\r\n",
       "<g id=\"edge4\" class=\"edge\">\r\n",
       "<title>2&#45;&gt;4</title>\r\n",
       "<path fill=\"none\" stroke=\"black\" d=\"M205.23,-103.73C205.68,-95.52 206.16,-86.86 206.61,-78.56\"/>\r\n",
       "<polygon fill=\"black\" stroke=\"black\" points=\"210.12,-78.48 207.18,-68.3 203.13,-78.09 210.12,-78.48\"/>\r\n",
       "</g>\r\n",
       "<!-- 6 -->\r\n",
       "<g id=\"node7\" class=\"node\">\r\n",
       "<title>6</title>\r\n",
       "<path fill=\"#39e581\" stroke=\"black\" d=\"M403.5,-68C403.5,-68 306.5,-68 306.5,-68 300.5,-68 294.5,-62 294.5,-56 294.5,-56 294.5,-12 294.5,-12 294.5,-6 300.5,0 306.5,0 306.5,0 403.5,0 403.5,0 409.5,0 415.5,-6 415.5,-12 415.5,-12 415.5,-56 415.5,-56 415.5,-62 409.5,-68 403.5,-68\"/>\r\n",
       "<text text-anchor=\"middle\" x=\"355\" y=\"-52.8\" font-family=\"Helvetica,sans-Serif\" font-size=\"14.00\">entropy = 0.0</text>\r\n",
       "<text text-anchor=\"middle\" x=\"355\" y=\"-37.8\" font-family=\"Helvetica,sans-Serif\" font-size=\"14.00\">samples = 23</text>\r\n",
       "<text text-anchor=\"middle\" x=\"355\" y=\"-22.8\" font-family=\"Helvetica,sans-Serif\" font-size=\"14.00\">value = [0, 23, 0]</text>\r\n",
       "<text text-anchor=\"middle\" x=\"355\" y=\"-7.8\" font-family=\"Helvetica,sans-Serif\" font-size=\"14.00\">class = 雪莉</text>\r\n",
       "</g>\r\n",
       "<!-- 5&#45;&gt;6 -->\r\n",
       "<g id=\"edge6\" class=\"edge\">\r\n",
       "<title>5&#45;&gt;6</title>\r\n",
       "<path fill=\"none\" stroke=\"black\" d=\"M358.77,-103.73C358.32,-95.52 357.84,-86.86 357.39,-78.56\"/>\r\n",
       "<polygon fill=\"black\" stroke=\"black\" points=\"360.87,-78.09 356.82,-68.3 353.88,-78.48 360.87,-78.09\"/>\r\n",
       "</g>\r\n",
       "<!-- 7 -->\r\n",
       "<g id=\"node8\" class=\"node\">\r\n",
       "<title>7</title>\r\n",
       "<path fill=\"#c09cf2\" stroke=\"black\" d=\"M556,-68C556,-68 446,-68 446,-68 440,-68 434,-62 434,-56 434,-56 434,-12 434,-12 434,-6 440,0 446,0 446,0 556,0 556,0 562,0 568,-6 568,-12 568,-12 568,-56 568,-56 568,-62 562,-68 556,-68\"/>\r\n",
       "<text text-anchor=\"middle\" x=\"501\" y=\"-52.8\" font-family=\"Helvetica,sans-Serif\" font-size=\"14.00\">entropy = 0.918</text>\r\n",
       "<text text-anchor=\"middle\" x=\"501\" y=\"-37.8\" font-family=\"Helvetica,sans-Serif\" font-size=\"14.00\">samples = 3</text>\r\n",
       "<text text-anchor=\"middle\" x=\"501\" y=\"-22.8\" font-family=\"Helvetica,sans-Serif\" font-size=\"14.00\">value = [0, 1, 2]</text>\r\n",
       "<text text-anchor=\"middle\" x=\"501\" y=\"-7.8\" font-family=\"Helvetica,sans-Serif\" font-size=\"14.00\">class = 贝尔摩德</text>\r\n",
       "</g>\r\n",
       "<!-- 5&#45;&gt;7 -->\r\n",
       "<g id=\"edge7\" class=\"edge\">\r\n",
       "<title>5&#45;&gt;7</title>\r\n",
       "<path fill=\"none\" stroke=\"black\" d=\"M413.13,-103.73C425.26,-94.24 438.15,-84.16 450.22,-74.72\"/>\r\n",
       "<polygon fill=\"black\" stroke=\"black\" points=\"452.7,-77.22 458.43,-68.3 448.39,-71.7 452.7,-77.22\"/>\r\n",
       "</g>\r\n",
       "<!-- 9 -->\r\n",
       "<g id=\"node10\" class=\"node\">\r\n",
       "<title>9</title>\r\n",
       "<path fill=\"#39e581\" stroke=\"black\" d=\"M593.5,-179.5C593.5,-179.5 496.5,-179.5 496.5,-179.5 490.5,-179.5 484.5,-173.5 484.5,-167.5 484.5,-167.5 484.5,-123.5 484.5,-123.5 484.5,-117.5 490.5,-111.5 496.5,-111.5 496.5,-111.5 593.5,-111.5 593.5,-111.5 599.5,-111.5 605.5,-117.5 605.5,-123.5 605.5,-123.5 605.5,-167.5 605.5,-167.5 605.5,-173.5 599.5,-179.5 593.5,-179.5\"/>\r\n",
       "<text text-anchor=\"middle\" x=\"545\" y=\"-164.3\" font-family=\"Helvetica,sans-Serif\" font-size=\"14.00\">entropy = 0.0</text>\r\n",
       "<text text-anchor=\"middle\" x=\"545\" y=\"-149.3\" font-family=\"Helvetica,sans-Serif\" font-size=\"14.00\">samples = 17</text>\r\n",
       "<text text-anchor=\"middle\" x=\"545\" y=\"-134.3\" font-family=\"Helvetica,sans-Serif\" font-size=\"14.00\">value = [0, 17, 0]</text>\r\n",
       "<text text-anchor=\"middle\" x=\"545\" y=\"-119.3\" font-family=\"Helvetica,sans-Serif\" font-size=\"14.00\">class = 雪莉</text>\r\n",
       "</g>\r\n",
       "<!-- 8&#45;&gt;9 -->\r\n",
       "<g id=\"edge9\" class=\"edge\">\r\n",
       "<title>8&#45;&gt;9</title>\r\n",
       "<path fill=\"none\" stroke=\"black\" d=\"M555.45,-222.91C553.99,-212.2 552.4,-200.62 550.92,-189.78\"/>\r\n",
       "<polygon fill=\"black\" stroke=\"black\" points=\"554.36,-189.1 549.54,-179.67 547.42,-190.05 554.36,-189.1\"/>\r\n",
       "</g>\r\n",
       "<!-- 10 -->\r\n",
       "<g id=\"node11\" class=\"node\">\r\n",
       "<title>10</title>\r\n",
       "<path fill=\"#e88e4d\" stroke=\"black\" d=\"M732.5,-187C732.5,-187 635.5,-187 635.5,-187 629.5,-187 623.5,-181 623.5,-175 623.5,-175 623.5,-116 623.5,-116 623.5,-110 629.5,-104 635.5,-104 635.5,-104 732.5,-104 732.5,-104 738.5,-104 744.5,-110 744.5,-116 744.5,-116 744.5,-175 744.5,-175 744.5,-181 738.5,-187 732.5,-187\"/>\r\n",
       "<text text-anchor=\"middle\" x=\"684\" y=\"-171.8\" font-family=\"Helvetica,sans-Serif\" font-size=\"14.00\">酒精 &lt;= 12.554</text>\r\n",
       "<text text-anchor=\"middle\" x=\"684\" y=\"-156.8\" font-family=\"Helvetica,sans-Serif\" font-size=\"14.00\">entropy = 0.439</text>\r\n",
       "<text text-anchor=\"middle\" x=\"684\" y=\"-141.8\" font-family=\"Helvetica,sans-Serif\" font-size=\"14.00\">samples = 44</text>\r\n",
       "<text text-anchor=\"middle\" x=\"684\" y=\"-126.8\" font-family=\"Helvetica,sans-Serif\" font-size=\"14.00\">value = [40, 4, 0]</text>\r\n",
       "<text text-anchor=\"middle\" x=\"684\" y=\"-111.8\" font-family=\"Helvetica,sans-Serif\" font-size=\"14.00\">class = 琴酒</text>\r\n",
       "</g>\r\n",
       "<!-- 8&#45;&gt;10 -->\r\n",
       "<g id=\"edge10\" class=\"edge\">\r\n",
       "<title>8&#45;&gt;10</title>\r\n",
       "<path fill=\"none\" stroke=\"black\" d=\"M603.67,-222.91C613.5,-213.56 624.04,-203.54 634.14,-193.93\"/>\r\n",
       "<polygon fill=\"black\" stroke=\"black\" points=\"636.57,-196.45 641.4,-187.02 631.74,-191.38 636.57,-196.45\"/>\r\n",
       "</g>\r\n",
       "<!-- 11 -->\r\n",
       "<g id=\"node12\" class=\"node\">\r\n",
       "<title>11</title>\r\n",
       "<path fill=\"#39e581\" stroke=\"black\" d=\"M708.5,-68C708.5,-68 619.5,-68 619.5,-68 613.5,-68 607.5,-62 607.5,-56 607.5,-56 607.5,-12 607.5,-12 607.5,-6 613.5,0 619.5,0 619.5,0 708.5,0 708.5,0 714.5,0 720.5,-6 720.5,-12 720.5,-12 720.5,-56 720.5,-56 720.5,-62 714.5,-68 708.5,-68\"/>\r\n",
       "<text text-anchor=\"middle\" x=\"664\" y=\"-52.8\" font-family=\"Helvetica,sans-Serif\" font-size=\"14.00\">entropy = 0.0</text>\r\n",
       "<text text-anchor=\"middle\" x=\"664\" y=\"-37.8\" font-family=\"Helvetica,sans-Serif\" font-size=\"14.00\">samples = 3</text>\r\n",
       "<text text-anchor=\"middle\" x=\"664\" y=\"-22.8\" font-family=\"Helvetica,sans-Serif\" font-size=\"14.00\">value = [0, 3, 0]</text>\r\n",
       "<text text-anchor=\"middle\" x=\"664\" y=\"-7.8\" font-family=\"Helvetica,sans-Serif\" font-size=\"14.00\">class = 雪莉</text>\r\n",
       "</g>\r\n",
       "<!-- 10&#45;&gt;11 -->\r\n",
       "<g id=\"edge11\" class=\"edge\">\r\n",
       "<title>10&#45;&gt;11</title>\r\n",
       "<path fill=\"none\" stroke=\"black\" d=\"M676.55,-103.73C675.04,-95.43 673.44,-86.67 671.91,-78.28\"/>\r\n",
       "<polygon fill=\"black\" stroke=\"black\" points=\"675.32,-77.51 670.08,-68.3 668.44,-78.77 675.32,-77.51\"/>\r\n",
       "</g>\r\n",
       "<!-- 12 -->\r\n",
       "<g id=\"node13\" class=\"node\">\r\n",
       "<title>12</title>\r\n",
       "<path fill=\"#e6843e\" stroke=\"black\" d=\"M847.5,-68C847.5,-68 750.5,-68 750.5,-68 744.5,-68 738.5,-62 738.5,-56 738.5,-56 738.5,-12 738.5,-12 738.5,-6 744.5,0 750.5,0 750.5,0 847.5,0 847.5,0 853.5,0 859.5,-6 859.5,-12 859.5,-12 859.5,-56 859.5,-56 859.5,-62 853.5,-68 847.5,-68\"/>\r\n",
       "<text text-anchor=\"middle\" x=\"799\" y=\"-52.8\" font-family=\"Helvetica,sans-Serif\" font-size=\"14.00\">entropy = 0.165</text>\r\n",
       "<text text-anchor=\"middle\" x=\"799\" y=\"-37.8\" font-family=\"Helvetica,sans-Serif\" font-size=\"14.00\">samples = 41</text>\r\n",
       "<text text-anchor=\"middle\" x=\"799\" y=\"-22.8\" font-family=\"Helvetica,sans-Serif\" font-size=\"14.00\">value = [40, 1, 0]</text>\r\n",
       "<text text-anchor=\"middle\" x=\"799\" y=\"-7.8\" font-family=\"Helvetica,sans-Serif\" font-size=\"14.00\">class = 琴酒</text>\r\n",
       "</g>\r\n",
       "<!-- 10&#45;&gt;12 -->\r\n",
       "<g id=\"edge12\" class=\"edge\">\r\n",
       "<title>10&#45;&gt;12</title>\r\n",
       "<path fill=\"none\" stroke=\"black\" d=\"M726.82,-103.73C736.59,-94.42 746.97,-84.54 756.72,-75.26\"/>\r\n",
       "<polygon fill=\"black\" stroke=\"black\" points=\"759.2,-77.73 764.03,-68.3 754.37,-72.66 759.2,-77.73\"/>\r\n",
       "</g>\r\n",
       "</g>\r\n",
       "</svg>\r\n"
      ],
      "text/plain": [
       "<graphviz.files.Source at 0x1be566e9d60>"
      ]
     },
     "execution_count": 23,
     "metadata": {},
     "output_type": "execute_result"
    }
   ],
   "source": [
    "dot_data = tree.export_graphviz(clf #训练的模型的名字\n",
    "                                ,feature_names=feature_name #特征的名字\n",
    "                                ,class_names=['琴酒','雪莉','贝尔摩德'] #标签的名字\n",
    "                                ,filled=True #是否填充颜色，颜色越深不纯度越低\n",
    "                                ,rounded=True) #框形状是否圆\n",
    "graph = graphviz.Source(dot_data)\n",
    "graph"
   ]
  },
  {
   "cell_type": "markdown",
   "metadata": {},
   "source": [
    "**3.max_features & min_impurity_decrease**"
   ]
  },
  {
   "cell_type": "markdown",
   "metadata": {},
   "source": [
    "max_features：限制分枝时考虑的特征个数，比较暴力，建议使用PCA、ICA或特征选择模块中的降维算法。"
   ]
  },
  {
   "cell_type": "markdown",
   "metadata": {},
   "source": [
    "min_impurity_decrease：限制信息增益的大小，信息增益小于设定数值的分枝不会发生。"
   ]
  },
  {
   "cell_type": "markdown",
   "metadata": {},
   "source": [
    "**使用超参数的学习曲线选择最优参数值**"
   ]
  },
  {
   "cell_type": "code",
   "execution_count": 24,
   "metadata": {
    "scrolled": true
   },
   "outputs": [
    {
     "data": {
      "image/png": "[encoded data removed]",
      "text/plain": [
       "<Figure size 432x288 with 1 Axes>"
      ]
     },
     "metadata": {
      "needs_background": "light"
     },
     "output_type": "display_data"
    }
   ],
   "source": [
    "import matplotlib.pyplot as plt\n",
    "test= []\n",
    "for i in range(10):\n",
    "    clf = tree.DecisionTreeClassifier(max_depth=i+1 #最大深度学习曲线，3和4最好\n",
    "                                      ,criterion=\"entropy\"\n",
    "                                      ,random_state=30\n",
    "                                      ,splitter=\"random\"\n",
    "                                     )\n",
    "    clf = clf.fit(Xtrain, Ytrain) #用训练集数据训练模型\n",
    "    score = clf.score(Xtest, Ytest) #返回预测的准确度\n",
    "    test.append(score)\n",
    "plt.plot(range(1,11),test,color='red',label='max_depth')\n",
    "plt.legend()\n",
    "plt.show()"
   ]
  },
  {
   "cell_type": "markdown",
   "metadata": {},
   "source": [
    "### （四）目标权重参数"
   ]
  },
  {
   "cell_type": "markdown",
   "metadata": {},
   "source": [
    "**class_weight & min_weight_graction_leaf**"
   ]
  },
  {
   "cell_type": "markdown",
   "metadata": {},
   "source": [
    "class_weight：完成样本标签平衡的参数。对样本标签进行一定的均衡，给少量的标签更多的权重，让模型更偏向少数类，向捕获少数类的方向建模。"
   ]
  },
  {
   "cell_type": "markdown",
   "metadata": {},
   "source": [
    "min_weight_graction_leaf：有了权重之后，样本量就不再是单纯地记录数目，而是受输入的权重影响，因此这时候剪枝，就需要搭配这个基于权重的剪枝参数来使用，它比不知道样本权重的标准（如min_samples_leaf）更少偏向主导类，能确保叶节点至少包含样本权重的总和的一小部分。"
   ]
  },
  {
   "cell_type": "markdown",
   "metadata": {},
   "source": [
    "## 二、重要属性和接口"
   ]
  },
  {
   "cell_type": "markdown",
   "metadata": {},
   "source": [
    "feature\\_importances\\_"
   ]
  },
  {
   "cell_type": "markdown",
   "metadata": {},
   "source": [
    "fit"
   ]
  },
  {
   "cell_type": "markdown",
   "metadata": {},
   "source": [
    "score"
   ]
  },
  {
   "cell_type": "markdown",
   "metadata": {},
   "source": [
    "apply返回每个测试样本所在的叶子节点的索引。"
   ]
  },
  {
   "cell_type": "code",
   "execution_count": 25,
   "metadata": {},
   "outputs": [
    {
     "data": {
      "text/plain": [
       "array([19, 10,  4, 11, 19, 11,  4, 19, 19, 19, 19, 11,  4,  4, 19, 19, 11,\n",
       "        4, 11, 11, 11, 19,  4,  7,  4, 11, 19,  4, 19, 13, 13,  4, 19, 19,\n",
       "       19, 11,  4, 19, 13, 19,  8, 19, 13, 19, 19,  4,  4, 13, 19,  4, 11,\n",
       "       13,  4, 13], dtype=int64)"
      ]
     },
     "execution_count": 25,
     "metadata": {},
     "output_type": "execute_result"
    }
   ],
   "source": [
    "clf.apply(Xtest)"
   ]
  },
  {
   "cell_type": "markdown",
   "metadata": {},
   "source": [
    "predict返回每个测试样本的分类/回归结果。"
   ]
  },
  {
   "cell_type": "code",
   "execution_count": 26,
   "metadata": {},
   "outputs": [
    {
     "data": {
      "text/plain": [
       "array([0, 2, 2, 1, 0, 1, 2, 0, 0, 0, 0, 1, 2, 2, 0, 0, 1, 2, 1, 1, 1, 0,\n",
       "       2, 2, 2, 1, 0, 2, 0, 1, 1, 2, 0, 0, 0, 1, 2, 0, 1, 0, 1, 0, 1, 0,\n",
       "       0, 2, 2, 1, 0, 2, 1, 1, 2, 1])"
      ]
     },
     "execution_count": 26,
     "metadata": {},
     "output_type": "execute_result"
    }
   ],
   "source": [
    "clf.predict(Xtest)"
   ]
  }
 ],
 "metadata": {
  "kernelspec": {
   "display_name": "Python 3",
   "language": "python",
   "name": "python3"
  },
  "language_info": {
   "codemirror_mode": {
    "name": "ipython",
    "version": 3
   },
   "file_extension": ".py",
   "mimetype": "text/x-python",
   "name": "python",
   "nbconvert_exporter": "python",
   "pygments_lexer": "ipython3",
   "version": "3.8.3"
  }
 },
 "nbformat": 4,
 "nbformat_minor": 4
}
