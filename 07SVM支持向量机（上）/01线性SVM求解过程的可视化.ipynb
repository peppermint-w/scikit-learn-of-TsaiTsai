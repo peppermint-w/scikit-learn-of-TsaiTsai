{
 "cells": [
  {
   "cell_type": "markdown",
   "metadata": {},
   "source": [
    "# 一、前期理论"
   ]
  },
  {
   "cell_type": "markdown",
   "metadata": {},
   "source": [
    "**支持向量机库**"
   ]
  },
  {
   "cell_type": "markdown",
   "metadata": {},
   "source": [
    "sklearn.svm.LinearSVC：线性支持向量分类<br>\n",
    "sklearn.svm.LinearSVR：线性支持向量回归<br>\n",
    "sklearn.svm.SVC：非线性多维支持向量分类<br>\n",
    "sklearn.svm.SVR：非线性多维支持向量回归<br>\n",
    "sklearn.NuSVC：Nu支持向量分类<br>\n",
    "sklearn.NuSVR：Nu支持向量回归<br>\n",
    "sklearn.svm.OneClassSVM：无监督异常值检测<br>\n",
    "svm.l1_min_c：返回参数C的最低边界"
   ]
  },
  {
   "cell_type": "markdown",
   "metadata": {},
   "source": [
    "sklearn.svm.libsvm.cross_validation：SVM专用的交叉验证<br>\n",
    "sklearn.svm.libsvm.decision_function：SVM专用的预测边际函数<br>\n",
    "sklearn.svm.libsvm.fit：使用libsvm训练模型<br>\n",
    "sklearn.svm.libsvm.predict：给定模型预测X的目标值<br>\n",
    "sklearn.svm.libsvm.predict_proba：预测概率"
   ]
  },
  {
   "cell_type": "markdown",
   "metadata": {},
   "source": [
    "**决策边界**"
   ]
  },
  {
   "cell_type": "markdown",
   "metadata": {},
   "source": [
    "以二维为例，决策边界是一条直线$w^T·x+b=0$，系数矩阵*w*的方向**垂直**于决策边界。为了方便计算，决策边界以上的点标签都为正，决策边界以下的点标签都为负。"
   ]
  },
  {
   "cell_type": "markdown",
   "metadata": {},
   "source": [
    "**损失函数**"
   ]
  },
  {
   "cell_type": "markdown",
   "metadata": {},
   "source": [
    "求解$||w||^2\\over2$的最小值。"
   ]
  },
  {
   "cell_type": "markdown",
   "metadata": {},
   "source": [
    "# 二、线性SVM求解过程的可视化"
   ]
  },
  {
   "cell_type": "markdown",
   "metadata": {},
   "source": [
    "## （一）导入需要的模块"
   ]
  },
  {
   "cell_type": "code",
   "execution_count": 1,
   "metadata": {},
   "outputs": [],
   "source": [
    "from sklearn.datasets import make_blobs #生成几堆数据\n",
    "from sklearn.svm import SVC\n",
    "import matplotlib.pyplot as plt\n",
    "import numpy as np"
   ]
  },
  {
   "cell_type": "markdown",
   "metadata": {},
   "source": [
    "## （二）实例化数据集，可视化数据集"
   ]
  },
  {
   "cell_type": "code",
   "execution_count": 2,
   "metadata": {},
   "outputs": [
    {
     "data": {
      "text/plain": [
       "(50, 2)"
      ]
     },
     "execution_count": 2,
     "metadata": {},
     "output_type": "execute_result"
    }
   ],
   "source": [
    "#创建一组数据：50个样本，2个中信，簇的方差0.6\n",
    "X,y = make_blobs(n_samples=50,centers=2,random_state=0,cluster_std=0.6)\n",
    "X.shape"
   ]
  },
  {
   "cell_type": "code",
   "execution_count": 3,
   "metadata": {},
   "outputs": [
    {
     "data": {
      "text/plain": [
       "array([[ 1.41281595,  1.5303347 ],\n",
       "       [ 1.81336135,  1.6311307 ],\n",
       "       [ 1.43289271,  4.37679234],\n",
       "       [ 1.87271752,  4.18069237],\n",
       "       [ 2.09517785,  1.0791468 ],\n",
       "       [ 2.73890793,  0.15676817],\n",
       "       [ 3.18515794,  0.08900822],\n",
       "       [ 2.06156753,  1.96918596],\n",
       "       [ 2.03835818,  1.15466278],\n",
       "       [-0.04749204,  5.47425256],\n",
       "       [ 1.71444449,  5.02521524],\n",
       "       [ 0.22459286,  4.77028154],\n",
       "       [ 1.06923853,  4.53068484],\n",
       "       [ 1.53278923,  0.55035386],\n",
       "       [ 1.4949318 ,  3.85848832],\n",
       "       [ 1.1641107 ,  3.79132988],\n",
       "       [ 0.74387399,  4.12240568],\n",
       "       [ 2.29667251,  0.48677761],\n",
       "       [ 0.44359863,  3.11530945],\n",
       "       [ 0.91433877,  4.55014643],\n",
       "       [ 1.67467427,  0.68001896],\n",
       "       [ 2.26908736,  1.32160756],\n",
       "       [ 1.5108885 ,  0.9288309 ],\n",
       "       [ 1.65179125,  0.68193176],\n",
       "       [ 2.49272186,  0.97505341],\n",
       "       [ 2.33812285,  3.43116792],\n",
       "       [ 0.67047877,  4.04094275],\n",
       "       [-0.55552381,  4.69595848],\n",
       "       [ 2.16172321,  0.6565951 ],\n",
       "       [ 2.09680487,  3.7174206 ],\n",
       "       [ 2.18023251,  1.48364708],\n",
       "       [ 0.43899014,  4.53592883],\n",
       "       [ 1.24258802,  4.50399192],\n",
       "       [ 0.00793137,  4.17614316],\n",
       "       [ 1.89593761,  5.18540259],\n",
       "       [ 1.868336  ,  0.93136287],\n",
       "       [ 2.13141478,  1.13885728],\n",
       "       [ 1.06269622,  5.17635143],\n",
       "       [ 2.33466499, -0.02408255],\n",
       "       [ 0.669787  ,  3.59540802],\n",
       "       [ 1.07714851,  1.17533301],\n",
       "       [ 1.54632313,  4.212973  ],\n",
       "       [ 1.56737975, -0.1381059 ],\n",
       "       [ 1.35617762,  1.43815955],\n",
       "       [ 1.00372519,  4.19147702],\n",
       "       [ 1.29297652,  1.47930168],\n",
       "       [ 2.94821884,  2.03519717],\n",
       "       [ 0.3471383 ,  3.45177657],\n",
       "       [ 2.76253526,  0.78970876],\n",
       "       [ 0.76752279,  4.39759671]])"
      ]
     },
     "execution_count": 3,
     "metadata": {},
     "output_type": "execute_result"
    }
   ],
   "source": [
    "X"
   ]
  },
  {
   "cell_type": "code",
   "execution_count": 4,
   "metadata": {},
   "outputs": [
    {
     "data": {
      "text/plain": [
       "array([1, 1, 0, 0, 1, 1, 1, 1, 1, 0, 0, 0, 0, 1, 0, 0, 0, 1, 0, 0, 1, 1,\n",
       "       1, 1, 1, 0, 0, 0, 1, 0, 1, 0, 0, 0, 0, 1, 1, 0, 1, 0, 1, 0, 1, 1,\n",
       "       0, 1, 1, 0, 1, 0])"
      ]
     },
     "execution_count": 4,
     "metadata": {},
     "output_type": "execute_result"
    }
   ],
   "source": [
    "y #标签"
   ]
  },
  {
   "cell_type": "code",
   "execution_count": 5,
   "metadata": {},
   "outputs": [
    {
     "data": {
      "image/png": "[encoded data removed]",
      "text/plain": [
       "<Figure size 432x288 with 1 Axes>"
      ]
     },
     "metadata": {},
     "output_type": "display_data"
    }
   ],
   "source": [
    "plt.scatter(X[:,0],X[:,1],c=y,s=50,cmap='rainbow') #点的大小50，点的颜色rainbow\n",
    "plt.xticks([])\n",
    "plt.yticks([])\n",
    "plt.show()"
   ]
  },
  {
   "cell_type": "markdown",
   "metadata": {},
   "source": [
    "## （三）画决策边界"
   ]
  },
  {
   "cell_type": "markdown",
   "metadata": {},
   "source": [
    "### 1.理解函数contour"
   ]
  },
  {
   "cell_type": "markdown",
   "metadata": {},
   "source": [
    "`matplotlib.axes.Axes.contour`([X, Y,] Z, [levels], \\*\\*kwargs)"
   ]
  },
  {
   "cell_type": "markdown",
   "metadata": {},
   "source": [
    "contour是专门绘制等高线的函数。等高线本质上是在二维图像上表现三维图像的一种形式，其中两维X和Y是两条坐标轴上的取值，而Z表示高度。contour就是将由X和Y构成平面上的所有点中，高度一致的点连接成线段的函数，在同一条等高线上的点一定具有相同的Z值。"
   ]
  },
  {
   "cell_type": "code",
   "execution_count": 6,
   "metadata": {},
   "outputs": [
    {
     "data": {
      "image/png": "[encoded data removed]",
      "text/plain": [
       "<Figure size 432x288 with 1 Axes>"
      ]
     },
     "metadata": {
      "needs_background": "light"
     },
     "output_type": "display_data"
    }
   ],
   "source": [
    "#首先要有散点图\n",
    "plt.scatter(X[:,0],X[:,1],c=y,s=50,cmap=\"rainbow\")\n",
    "ax = plt.gca() #获取当前的子图，如果不存在，则创建新的子图"
   ]
  },
  {
   "cell_type": "markdown",
   "metadata": {},
   "source": [
    "### 2.制作网格，理解函数meshgrid"
   ]
  },
  {
   "cell_type": "code",
   "execution_count": 7,
   "metadata": {},
   "outputs": [],
   "source": [
    "#获取平面上两条坐标轴的最大值和最小值\n",
    "xlim = ax.get_xlim()\n",
    "ylim = ax.get_ylim()"
   ]
  },
  {
   "cell_type": "code",
   "execution_count": 8,
   "metadata": {},
   "outputs": [
    {
     "data": {
      "text/plain": [
       "(-0.7425578984849813, 3.3721920271976598)"
      ]
     },
     "execution_count": 8,
     "metadata": {},
     "output_type": "execute_result"
    }
   ],
   "source": [
    "xlim"
   ]
  },
  {
   "cell_type": "code",
   "execution_count": 9,
   "metadata": {},
   "outputs": [
    {
     "data": {
      "text/plain": [
       "(-0.41872382476349596, 5.754870487889891)"
      ]
     },
     "execution_count": 9,
     "metadata": {},
     "output_type": "execute_result"
    }
   ],
   "source": [
    "ylim"
   ]
  },
  {
   "cell_type": "code",
   "execution_count": 10,
   "metadata": {},
   "outputs": [],
   "source": [
    "#在最大值和最小值之间形成30个规律的数据\n",
    "axisx = np.linspace(xlim[0],xlim[1],30)\n",
    "axisy = np.linspace(ylim[0],ylim[1],30)"
   ]
  },
  {
   "cell_type": "code",
   "execution_count": 11,
   "metadata": {},
   "outputs": [
    {
     "data": {
      "text/plain": [
       "array([-0.7425579 , -0.60066997, -0.45878204, -0.31689411, -0.17500618,\n",
       "       -0.03311826,  0.10876967,  0.2506576 ,  0.39254553,  0.53443346,\n",
       "        0.67632139,  0.81820931,  0.96009724,  1.10198517,  1.2438731 ,\n",
       "        1.38576103,  1.52764896,  1.66953689,  1.81142481,  1.95331274,\n",
       "        2.09520067,  2.2370886 ,  2.37897653,  2.52086446,  2.66275238,\n",
       "        2.80464031,  2.94652824,  3.08841617,  3.2303041 ,  3.37219203])"
      ]
     },
     "execution_count": 11,
     "metadata": {},
     "output_type": "execute_result"
    }
   ],
   "source": [
    "axisx"
   ]
  },
  {
   "cell_type": "code",
   "execution_count": 12,
   "metadata": {},
   "outputs": [
    {
     "data": {
      "text/plain": [
       "array([-0.41872382, -0.20584126,  0.0070413 ,  0.21992386,  0.43280643,\n",
       "        0.64568899,  0.85857155,  1.07145411,  1.28433668,  1.49721924,\n",
       "        1.7101018 ,  1.92298436,  2.13586693,  2.34874949,  2.56163205,\n",
       "        2.77451461,  2.98739718,  3.20027974,  3.4131623 ,  3.62604486,\n",
       "        3.83892743,  4.05180999,  4.26469255,  4.47757511,  4.69045768,\n",
       "        4.90334024,  5.1162228 ,  5.32910536,  5.54198793,  5.75487049])"
      ]
     },
     "execution_count": 12,
     "metadata": {},
     "output_type": "execute_result"
    }
   ],
   "source": [
    "axisy"
   ]
  },
  {
   "cell_type": "code",
   "execution_count": 13,
   "metadata": {},
   "outputs": [],
   "source": [
    "#使用meshgrid函数将两个一维向量转换为特征矩阵\n",
    "axisy,axisx = np.meshgrid(axisy,axisx) #将使用这里形成的二维数组作为contour函数的X和Y"
   ]
  },
  {
   "cell_type": "code",
   "execution_count": 14,
   "metadata": {},
   "outputs": [
    {
     "data": {
      "text/plain": [
       "array([[-0.41872382, -0.20584126,  0.0070413 ,  0.21992386,  0.43280643,\n",
       "         0.64568899,  0.85857155,  1.07145411,  1.28433668,  1.49721924,\n",
       "         1.7101018 ,  1.92298436,  2.13586693,  2.34874949,  2.56163205,\n",
       "         2.77451461,  2.98739718,  3.20027974,  3.4131623 ,  3.62604486,\n",
       "         3.83892743,  4.05180999,  4.26469255,  4.47757511,  4.69045768,\n",
       "         4.90334024,  5.1162228 ,  5.32910536,  5.54198793,  5.75487049],\n",
       "       [-0.41872382, -0.20584126,  0.0070413 ,  0.21992386,  0.43280643,\n",
       "         0.64568899,  0.85857155,  1.07145411,  1.28433668,  1.49721924,\n",
       "         1.7101018 ,  1.92298436,  2.13586693,  2.34874949,  2.56163205,\n",
       "         2.77451461,  2.98739718,  3.20027974,  3.4131623 ,  3.62604486,\n",
       "         3.83892743,  4.05180999,  4.26469255,  4.47757511,  4.69045768,\n",
       "         4.90334024,  5.1162228 ,  5.32910536,  5.54198793,  5.75487049],\n",
       "       [-0.41872382, -0.20584126,  0.0070413 ,  0.21992386,  0.43280643,\n",
       "         0.64568899,  0.85857155,  1.07145411,  1.28433668,  1.49721924,\n",
       "         1.7101018 ,  1.92298436,  2.13586693,  2.34874949,  2.56163205,\n",
       "         2.77451461,  2.98739718,  3.20027974,  3.4131623 ,  3.62604486,\n",
       "         3.83892743,  4.05180999,  4.26469255,  4.47757511,  4.69045768,\n",
       "         4.90334024,  5.1162228 ,  5.32910536,  5.54198793,  5.75487049],\n",
       "       [-0.41872382, -0.20584126,  0.0070413 ,  0.21992386,  0.43280643,\n",
       "         0.64568899,  0.85857155,  1.07145411,  1.28433668,  1.49721924,\n",
       "         1.7101018 ,  1.92298436,  2.13586693,  2.34874949,  2.56163205,\n",
       "         2.77451461,  2.98739718,  3.20027974,  3.4131623 ,  3.62604486,\n",
       "         3.83892743,  4.05180999,  4.26469255,  4.47757511,  4.69045768,\n",
       "         4.90334024,  5.1162228 ,  5.32910536,  5.54198793,  5.75487049],\n",
       "       [-0.41872382, -0.20584126,  0.0070413 ,  0.21992386,  0.43280643,\n",
       "         0.64568899,  0.85857155,  1.07145411,  1.28433668,  1.49721924,\n",
       "         1.7101018 ,  1.92298436,  2.13586693,  2.34874949,  2.56163205,\n",
       "         2.77451461,  2.98739718,  3.20027974,  3.4131623 ,  3.62604486,\n",
       "         3.83892743,  4.05180999,  4.26469255,  4.47757511,  4.69045768,\n",
       "         4.90334024,  5.1162228 ,  5.32910536,  5.54198793,  5.75487049],\n",
       "       [-0.41872382, -0.20584126,  0.0070413 ,  0.21992386,  0.43280643,\n",
       "         0.64568899,  0.85857155,  1.07145411,  1.28433668,  1.49721924,\n",
       "         1.7101018 ,  1.92298436,  2.13586693,  2.34874949,  2.56163205,\n",
       "         2.77451461,  2.98739718,  3.20027974,  3.4131623 ,  3.62604486,\n",
       "         3.83892743,  4.05180999,  4.26469255,  4.47757511,  4.69045768,\n",
       "         4.90334024,  5.1162228 ,  5.32910536,  5.54198793,  5.75487049],\n",
       "       [-0.41872382, -0.20584126,  0.0070413 ,  0.21992386,  0.43280643,\n",
       "         0.64568899,  0.85857155,  1.07145411,  1.28433668,  1.49721924,\n",
       "         1.7101018 ,  1.92298436,  2.13586693,  2.34874949,  2.56163205,\n",
       "         2.77451461,  2.98739718,  3.20027974,  3.4131623 ,  3.62604486,\n",
       "         3.83892743,  4.05180999,  4.26469255,  4.47757511,  4.69045768,\n",
       "         4.90334024,  5.1162228 ,  5.32910536,  5.54198793,  5.75487049],\n",
       "       [-0.41872382, -0.20584126,  0.0070413 ,  0.21992386,  0.43280643,\n",
       "         0.64568899,  0.85857155,  1.07145411,  1.28433668,  1.49721924,\n",
       "         1.7101018 ,  1.92298436,  2.13586693,  2.34874949,  2.56163205,\n",
       "         2.77451461,  2.98739718,  3.20027974,  3.4131623 ,  3.62604486,\n",
       "         3.83892743,  4.05180999,  4.26469255,  4.47757511,  4.69045768,\n",
       "         4.90334024,  5.1162228 ,  5.32910536,  5.54198793,  5.75487049],\n",
       "       [-0.41872382, -0.20584126,  0.0070413 ,  0.21992386,  0.43280643,\n",
       "         0.64568899,  0.85857155,  1.07145411,  1.28433668,  1.49721924,\n",
       "         1.7101018 ,  1.92298436,  2.13586693,  2.34874949,  2.56163205,\n",
       "         2.77451461,  2.98739718,  3.20027974,  3.4131623 ,  3.62604486,\n",
       "         3.83892743,  4.05180999,  4.26469255,  4.47757511,  4.69045768,\n",
       "         4.90334024,  5.1162228 ,  5.32910536,  5.54198793,  5.75487049],\n",
       "       [-0.41872382, -0.20584126,  0.0070413 ,  0.21992386,  0.43280643,\n",
       "         0.64568899,  0.85857155,  1.07145411,  1.28433668,  1.49721924,\n",
       "         1.7101018 ,  1.92298436,  2.13586693,  2.34874949,  2.56163205,\n",
       "         2.77451461,  2.98739718,  3.20027974,  3.4131623 ,  3.62604486,\n",
       "         3.83892743,  4.05180999,  4.26469255,  4.47757511,  4.69045768,\n",
       "         4.90334024,  5.1162228 ,  5.32910536,  5.54198793,  5.75487049],\n",
       "       [-0.41872382, -0.20584126,  0.0070413 ,  0.21992386,  0.43280643,\n",
       "         0.64568899,  0.85857155,  1.07145411,  1.28433668,  1.49721924,\n",
       "         1.7101018 ,  1.92298436,  2.13586693,  2.34874949,  2.56163205,\n",
       "         2.77451461,  2.98739718,  3.20027974,  3.4131623 ,  3.62604486,\n",
       "         3.83892743,  4.05180999,  4.26469255,  4.47757511,  4.69045768,\n",
       "         4.90334024,  5.1162228 ,  5.32910536,  5.54198793,  5.75487049],\n",
       "       [-0.41872382, -0.20584126,  0.0070413 ,  0.21992386,  0.43280643,\n",
       "         0.64568899,  0.85857155,  1.07145411,  1.28433668,  1.49721924,\n",
       "         1.7101018 ,  1.92298436,  2.13586693,  2.34874949,  2.56163205,\n",
       "         2.77451461,  2.98739718,  3.20027974,  3.4131623 ,  3.62604486,\n",
       "         3.83892743,  4.05180999,  4.26469255,  4.47757511,  4.69045768,\n",
       "         4.90334024,  5.1162228 ,  5.32910536,  5.54198793,  5.75487049],\n",
       "       [-0.41872382, -0.20584126,  0.0070413 ,  0.21992386,  0.43280643,\n",
       "         0.64568899,  0.85857155,  1.07145411,  1.28433668,  1.49721924,\n",
       "         1.7101018 ,  1.92298436,  2.13586693,  2.34874949,  2.56163205,\n",
       "         2.77451461,  2.98739718,  3.20027974,  3.4131623 ,  3.62604486,\n",
       "         3.83892743,  4.05180999,  4.26469255,  4.47757511,  4.69045768,\n",
       "         4.90334024,  5.1162228 ,  5.32910536,  5.54198793,  5.75487049],\n",
       "       [-0.41872382, -0.20584126,  0.0070413 ,  0.21992386,  0.43280643,\n",
       "         0.64568899,  0.85857155,  1.07145411,  1.28433668,  1.49721924,\n",
       "         1.7101018 ,  1.92298436,  2.13586693,  2.34874949,  2.56163205,\n",
       "         2.77451461,  2.98739718,  3.20027974,  3.4131623 ,  3.62604486,\n",
       "         3.83892743,  4.05180999,  4.26469255,  4.47757511,  4.69045768,\n",
       "         4.90334024,  5.1162228 ,  5.32910536,  5.54198793,  5.75487049],\n",
       "       [-0.41872382, -0.20584126,  0.0070413 ,  0.21992386,  0.43280643,\n",
       "         0.64568899,  0.85857155,  1.07145411,  1.28433668,  1.49721924,\n",
       "         1.7101018 ,  1.92298436,  2.13586693,  2.34874949,  2.56163205,\n",
       "         2.77451461,  2.98739718,  3.20027974,  3.4131623 ,  3.62604486,\n",
       "         3.83892743,  4.05180999,  4.26469255,  4.47757511,  4.69045768,\n",
       "         4.90334024,  5.1162228 ,  5.32910536,  5.54198793,  5.75487049],\n",
       "       [-0.41872382, -0.20584126,  0.0070413 ,  0.21992386,  0.43280643,\n",
       "         0.64568899,  0.85857155,  1.07145411,  1.28433668,  1.49721924,\n",
       "         1.7101018 ,  1.92298436,  2.13586693,  2.34874949,  2.56163205,\n",
       "         2.77451461,  2.98739718,  3.20027974,  3.4131623 ,  3.62604486,\n",
       "         3.83892743,  4.05180999,  4.26469255,  4.47757511,  4.69045768,\n",
       "         4.90334024,  5.1162228 ,  5.32910536,  5.54198793,  5.75487049],\n",
       "       [-0.41872382, -0.20584126,  0.0070413 ,  0.21992386,  0.43280643,\n",
       "         0.64568899,  0.85857155,  1.07145411,  1.28433668,  1.49721924,\n",
       "         1.7101018 ,  1.92298436,  2.13586693,  2.34874949,  2.56163205,\n",
       "         2.77451461,  2.98739718,  3.20027974,  3.4131623 ,  3.62604486,\n",
       "         3.83892743,  4.05180999,  4.26469255,  4.47757511,  4.69045768,\n",
       "         4.90334024,  5.1162228 ,  5.32910536,  5.54198793,  5.75487049],\n",
       "       [-0.41872382, -0.20584126,  0.0070413 ,  0.21992386,  0.43280643,\n",
       "         0.64568899,  0.85857155,  1.07145411,  1.28433668,  1.49721924,\n",
       "         1.7101018 ,  1.92298436,  2.13586693,  2.34874949,  2.56163205,\n",
       "         2.77451461,  2.98739718,  3.20027974,  3.4131623 ,  3.62604486,\n",
       "         3.83892743,  4.05180999,  4.26469255,  4.47757511,  4.69045768,\n",
       "         4.90334024,  5.1162228 ,  5.32910536,  5.54198793,  5.75487049],\n",
       "       [-0.41872382, -0.20584126,  0.0070413 ,  0.21992386,  0.43280643,\n",
       "         0.64568899,  0.85857155,  1.07145411,  1.28433668,  1.49721924,\n",
       "         1.7101018 ,  1.92298436,  2.13586693,  2.34874949,  2.56163205,\n",
       "         2.77451461,  2.98739718,  3.20027974,  3.4131623 ,  3.62604486,\n",
       "         3.83892743,  4.05180999,  4.26469255,  4.47757511,  4.69045768,\n",
       "         4.90334024,  5.1162228 ,  5.32910536,  5.54198793,  5.75487049],\n",
       "       [-0.41872382, -0.20584126,  0.0070413 ,  0.21992386,  0.43280643,\n",
       "         0.64568899,  0.85857155,  1.07145411,  1.28433668,  1.49721924,\n",
       "         1.7101018 ,  1.92298436,  2.13586693,  2.34874949,  2.56163205,\n",
       "         2.77451461,  2.98739718,  3.20027974,  3.4131623 ,  3.62604486,\n",
       "         3.83892743,  4.05180999,  4.26469255,  4.47757511,  4.69045768,\n",
       "         4.90334024,  5.1162228 ,  5.32910536,  5.54198793,  5.75487049],\n",
       "       [-0.41872382, -0.20584126,  0.0070413 ,  0.21992386,  0.43280643,\n",
       "         0.64568899,  0.85857155,  1.07145411,  1.28433668,  1.49721924,\n",
       "         1.7101018 ,  1.92298436,  2.13586693,  2.34874949,  2.56163205,\n",
       "         2.77451461,  2.98739718,  3.20027974,  3.4131623 ,  3.62604486,\n",
       "         3.83892743,  4.05180999,  4.26469255,  4.47757511,  4.69045768,\n",
       "         4.90334024,  5.1162228 ,  5.32910536,  5.54198793,  5.75487049],\n",
       "       [-0.41872382, -0.20584126,  0.0070413 ,  0.21992386,  0.43280643,\n",
       "         0.64568899,  0.85857155,  1.07145411,  1.28433668,  1.49721924,\n",
       "         1.7101018 ,  1.92298436,  2.13586693,  2.34874949,  2.56163205,\n",
       "         2.77451461,  2.98739718,  3.20027974,  3.4131623 ,  3.62604486,\n",
       "         3.83892743,  4.05180999,  4.26469255,  4.47757511,  4.69045768,\n",
       "         4.90334024,  5.1162228 ,  5.32910536,  5.54198793,  5.75487049],\n",
       "       [-0.41872382, -0.20584126,  0.0070413 ,  0.21992386,  0.43280643,\n",
       "         0.64568899,  0.85857155,  1.07145411,  1.28433668,  1.49721924,\n",
       "         1.7101018 ,  1.92298436,  2.13586693,  2.34874949,  2.56163205,\n",
       "         2.77451461,  2.98739718,  3.20027974,  3.4131623 ,  3.62604486,\n",
       "         3.83892743,  4.05180999,  4.26469255,  4.47757511,  4.69045768,\n",
       "         4.90334024,  5.1162228 ,  5.32910536,  5.54198793,  5.75487049],\n",
       "       [-0.41872382, -0.20584126,  0.0070413 ,  0.21992386,  0.43280643,\n",
       "         0.64568899,  0.85857155,  1.07145411,  1.28433668,  1.49721924,\n",
       "         1.7101018 ,  1.92298436,  2.13586693,  2.34874949,  2.56163205,\n",
       "         2.77451461,  2.98739718,  3.20027974,  3.4131623 ,  3.62604486,\n",
       "         3.83892743,  4.05180999,  4.26469255,  4.47757511,  4.69045768,\n",
       "         4.90334024,  5.1162228 ,  5.32910536,  5.54198793,  5.75487049],\n",
       "       [-0.41872382, -0.20584126,  0.0070413 ,  0.21992386,  0.43280643,\n",
       "         0.64568899,  0.85857155,  1.07145411,  1.28433668,  1.49721924,\n",
       "         1.7101018 ,  1.92298436,  2.13586693,  2.34874949,  2.56163205,\n",
       "         2.77451461,  2.98739718,  3.20027974,  3.4131623 ,  3.62604486,\n",
       "         3.83892743,  4.05180999,  4.26469255,  4.47757511,  4.69045768,\n",
       "         4.90334024,  5.1162228 ,  5.32910536,  5.54198793,  5.75487049],\n",
       "       [-0.41872382, -0.20584126,  0.0070413 ,  0.21992386,  0.43280643,\n",
       "         0.64568899,  0.85857155,  1.07145411,  1.28433668,  1.49721924,\n",
       "         1.7101018 ,  1.92298436,  2.13586693,  2.34874949,  2.56163205,\n",
       "         2.77451461,  2.98739718,  3.20027974,  3.4131623 ,  3.62604486,\n",
       "         3.83892743,  4.05180999,  4.26469255,  4.47757511,  4.69045768,\n",
       "         4.90334024,  5.1162228 ,  5.32910536,  5.54198793,  5.75487049],\n",
       "       [-0.41872382, -0.20584126,  0.0070413 ,  0.21992386,  0.43280643,\n",
       "         0.64568899,  0.85857155,  1.07145411,  1.28433668,  1.49721924,\n",
       "         1.7101018 ,  1.92298436,  2.13586693,  2.34874949,  2.56163205,\n",
       "         2.77451461,  2.98739718,  3.20027974,  3.4131623 ,  3.62604486,\n",
       "         3.83892743,  4.05180999,  4.26469255,  4.47757511,  4.69045768,\n",
       "         4.90334024,  5.1162228 ,  5.32910536,  5.54198793,  5.75487049],\n",
       "       [-0.41872382, -0.20584126,  0.0070413 ,  0.21992386,  0.43280643,\n",
       "         0.64568899,  0.85857155,  1.07145411,  1.28433668,  1.49721924,\n",
       "         1.7101018 ,  1.92298436,  2.13586693,  2.34874949,  2.56163205,\n",
       "         2.77451461,  2.98739718,  3.20027974,  3.4131623 ,  3.62604486,\n",
       "         3.83892743,  4.05180999,  4.26469255,  4.47757511,  4.69045768,\n",
       "         4.90334024,  5.1162228 ,  5.32910536,  5.54198793,  5.75487049],\n",
       "       [-0.41872382, -0.20584126,  0.0070413 ,  0.21992386,  0.43280643,\n",
       "         0.64568899,  0.85857155,  1.07145411,  1.28433668,  1.49721924,\n",
       "         1.7101018 ,  1.92298436,  2.13586693,  2.34874949,  2.56163205,\n",
       "         2.77451461,  2.98739718,  3.20027974,  3.4131623 ,  3.62604486,\n",
       "         3.83892743,  4.05180999,  4.26469255,  4.47757511,  4.69045768,\n",
       "         4.90334024,  5.1162228 ,  5.32910536,  5.54198793,  5.75487049],\n",
       "       [-0.41872382, -0.20584126,  0.0070413 ,  0.21992386,  0.43280643,\n",
       "         0.64568899,  0.85857155,  1.07145411,  1.28433668,  1.49721924,\n",
       "         1.7101018 ,  1.92298436,  2.13586693,  2.34874949,  2.56163205,\n",
       "         2.77451461,  2.98739718,  3.20027974,  3.4131623 ,  3.62604486,\n",
       "         3.83892743,  4.05180999,  4.26469255,  4.47757511,  4.69045768,\n",
       "         4.90334024,  5.1162228 ,  5.32910536,  5.54198793,  5.75487049]])"
      ]
     },
     "execution_count": 14,
     "metadata": {},
     "output_type": "execute_result"
    }
   ],
   "source": [
    "axisy"
   ]
  },
  {
   "cell_type": "code",
   "execution_count": 15,
   "metadata": {},
   "outputs": [
    {
     "data": {
      "text/plain": [
       "array([[-0.7425579 , -0.7425579 , -0.7425579 , -0.7425579 , -0.7425579 ,\n",
       "        -0.7425579 , -0.7425579 , -0.7425579 , -0.7425579 , -0.7425579 ,\n",
       "        -0.7425579 , -0.7425579 , -0.7425579 , -0.7425579 , -0.7425579 ,\n",
       "        -0.7425579 , -0.7425579 , -0.7425579 , -0.7425579 , -0.7425579 ,\n",
       "        -0.7425579 , -0.7425579 , -0.7425579 , -0.7425579 , -0.7425579 ,\n",
       "        -0.7425579 , -0.7425579 , -0.7425579 , -0.7425579 , -0.7425579 ],\n",
       "       [-0.60066997, -0.60066997, -0.60066997, -0.60066997, -0.60066997,\n",
       "        -0.60066997, -0.60066997, -0.60066997, -0.60066997, -0.60066997,\n",
       "        -0.60066997, -0.60066997, -0.60066997, -0.60066997, -0.60066997,\n",
       "        -0.60066997, -0.60066997, -0.60066997, -0.60066997, -0.60066997,\n",
       "        -0.60066997, -0.60066997, -0.60066997, -0.60066997, -0.60066997,\n",
       "        -0.60066997, -0.60066997, -0.60066997, -0.60066997, -0.60066997],\n",
       "       [-0.45878204, -0.45878204, -0.45878204, -0.45878204, -0.45878204,\n",
       "        -0.45878204, -0.45878204, -0.45878204, -0.45878204, -0.45878204,\n",
       "        -0.45878204, -0.45878204, -0.45878204, -0.45878204, -0.45878204,\n",
       "        -0.45878204, -0.45878204, -0.45878204, -0.45878204, -0.45878204,\n",
       "        -0.45878204, -0.45878204, -0.45878204, -0.45878204, -0.45878204,\n",
       "        -0.45878204, -0.45878204, -0.45878204, -0.45878204, -0.45878204],\n",
       "       [-0.31689411, -0.31689411, -0.31689411, -0.31689411, -0.31689411,\n",
       "        -0.31689411, -0.31689411, -0.31689411, -0.31689411, -0.31689411,\n",
       "        -0.31689411, -0.31689411, -0.31689411, -0.31689411, -0.31689411,\n",
       "        -0.31689411, -0.31689411, -0.31689411, -0.31689411, -0.31689411,\n",
       "        -0.31689411, -0.31689411, -0.31689411, -0.31689411, -0.31689411,\n",
       "        -0.31689411, -0.31689411, -0.31689411, -0.31689411, -0.31689411],\n",
       "       [-0.17500618, -0.17500618, -0.17500618, -0.17500618, -0.17500618,\n",
       "        -0.17500618, -0.17500618, -0.17500618, -0.17500618, -0.17500618,\n",
       "        -0.17500618, -0.17500618, -0.17500618, -0.17500618, -0.17500618,\n",
       "        -0.17500618, -0.17500618, -0.17500618, -0.17500618, -0.17500618,\n",
       "        -0.17500618, -0.17500618, -0.17500618, -0.17500618, -0.17500618,\n",
       "        -0.17500618, -0.17500618, -0.17500618, -0.17500618, -0.17500618],\n",
       "       [-0.03311826, -0.03311826, -0.03311826, -0.03311826, -0.03311826,\n",
       "        -0.03311826, -0.03311826, -0.03311826, -0.03311826, -0.03311826,\n",
       "        -0.03311826, -0.03311826, -0.03311826, -0.03311826, -0.03311826,\n",
       "        -0.03311826, -0.03311826, -0.03311826, -0.03311826, -0.03311826,\n",
       "        -0.03311826, -0.03311826, -0.03311826, -0.03311826, -0.03311826,\n",
       "        -0.03311826, -0.03311826, -0.03311826, -0.03311826, -0.03311826],\n",
       "       [ 0.10876967,  0.10876967,  0.10876967,  0.10876967,  0.10876967,\n",
       "         0.10876967,  0.10876967,  0.10876967,  0.10876967,  0.10876967,\n",
       "         0.10876967,  0.10876967,  0.10876967,  0.10876967,  0.10876967,\n",
       "         0.10876967,  0.10876967,  0.10876967,  0.10876967,  0.10876967,\n",
       "         0.10876967,  0.10876967,  0.10876967,  0.10876967,  0.10876967,\n",
       "         0.10876967,  0.10876967,  0.10876967,  0.10876967,  0.10876967],\n",
       "       [ 0.2506576 ,  0.2506576 ,  0.2506576 ,  0.2506576 ,  0.2506576 ,\n",
       "         0.2506576 ,  0.2506576 ,  0.2506576 ,  0.2506576 ,  0.2506576 ,\n",
       "         0.2506576 ,  0.2506576 ,  0.2506576 ,  0.2506576 ,  0.2506576 ,\n",
       "         0.2506576 ,  0.2506576 ,  0.2506576 ,  0.2506576 ,  0.2506576 ,\n",
       "         0.2506576 ,  0.2506576 ,  0.2506576 ,  0.2506576 ,  0.2506576 ,\n",
       "         0.2506576 ,  0.2506576 ,  0.2506576 ,  0.2506576 ,  0.2506576 ],\n",
       "       [ 0.39254553,  0.39254553,  0.39254553,  0.39254553,  0.39254553,\n",
       "         0.39254553,  0.39254553,  0.39254553,  0.39254553,  0.39254553,\n",
       "         0.39254553,  0.39254553,  0.39254553,  0.39254553,  0.39254553,\n",
       "         0.39254553,  0.39254553,  0.39254553,  0.39254553,  0.39254553,\n",
       "         0.39254553,  0.39254553,  0.39254553,  0.39254553,  0.39254553,\n",
       "         0.39254553,  0.39254553,  0.39254553,  0.39254553,  0.39254553],\n",
       "       [ 0.53443346,  0.53443346,  0.53443346,  0.53443346,  0.53443346,\n",
       "         0.53443346,  0.53443346,  0.53443346,  0.53443346,  0.53443346,\n",
       "         0.53443346,  0.53443346,  0.53443346,  0.53443346,  0.53443346,\n",
       "         0.53443346,  0.53443346,  0.53443346,  0.53443346,  0.53443346,\n",
       "         0.53443346,  0.53443346,  0.53443346,  0.53443346,  0.53443346,\n",
       "         0.53443346,  0.53443346,  0.53443346,  0.53443346,  0.53443346],\n",
       "       [ 0.67632139,  0.67632139,  0.67632139,  0.67632139,  0.67632139,\n",
       "         0.67632139,  0.67632139,  0.67632139,  0.67632139,  0.67632139,\n",
       "         0.67632139,  0.67632139,  0.67632139,  0.67632139,  0.67632139,\n",
       "         0.67632139,  0.67632139,  0.67632139,  0.67632139,  0.67632139,\n",
       "         0.67632139,  0.67632139,  0.67632139,  0.67632139,  0.67632139,\n",
       "         0.67632139,  0.67632139,  0.67632139,  0.67632139,  0.67632139],\n",
       "       [ 0.81820931,  0.81820931,  0.81820931,  0.81820931,  0.81820931,\n",
       "         0.81820931,  0.81820931,  0.81820931,  0.81820931,  0.81820931,\n",
       "         0.81820931,  0.81820931,  0.81820931,  0.81820931,  0.81820931,\n",
       "         0.81820931,  0.81820931,  0.81820931,  0.81820931,  0.81820931,\n",
       "         0.81820931,  0.81820931,  0.81820931,  0.81820931,  0.81820931,\n",
       "         0.81820931,  0.81820931,  0.81820931,  0.81820931,  0.81820931],\n",
       "       [ 0.96009724,  0.96009724,  0.96009724,  0.96009724,  0.96009724,\n",
       "         0.96009724,  0.96009724,  0.96009724,  0.96009724,  0.96009724,\n",
       "         0.96009724,  0.96009724,  0.96009724,  0.96009724,  0.96009724,\n",
       "         0.96009724,  0.96009724,  0.96009724,  0.96009724,  0.96009724,\n",
       "         0.96009724,  0.96009724,  0.96009724,  0.96009724,  0.96009724,\n",
       "         0.96009724,  0.96009724,  0.96009724,  0.96009724,  0.96009724],\n",
       "       [ 1.10198517,  1.10198517,  1.10198517,  1.10198517,  1.10198517,\n",
       "         1.10198517,  1.10198517,  1.10198517,  1.10198517,  1.10198517,\n",
       "         1.10198517,  1.10198517,  1.10198517,  1.10198517,  1.10198517,\n",
       "         1.10198517,  1.10198517,  1.10198517,  1.10198517,  1.10198517,\n",
       "         1.10198517,  1.10198517,  1.10198517,  1.10198517,  1.10198517,\n",
       "         1.10198517,  1.10198517,  1.10198517,  1.10198517,  1.10198517],\n",
       "       [ 1.2438731 ,  1.2438731 ,  1.2438731 ,  1.2438731 ,  1.2438731 ,\n",
       "         1.2438731 ,  1.2438731 ,  1.2438731 ,  1.2438731 ,  1.2438731 ,\n",
       "         1.2438731 ,  1.2438731 ,  1.2438731 ,  1.2438731 ,  1.2438731 ,\n",
       "         1.2438731 ,  1.2438731 ,  1.2438731 ,  1.2438731 ,  1.2438731 ,\n",
       "         1.2438731 ,  1.2438731 ,  1.2438731 ,  1.2438731 ,  1.2438731 ,\n",
       "         1.2438731 ,  1.2438731 ,  1.2438731 ,  1.2438731 ,  1.2438731 ],\n",
       "       [ 1.38576103,  1.38576103,  1.38576103,  1.38576103,  1.38576103,\n",
       "         1.38576103,  1.38576103,  1.38576103,  1.38576103,  1.38576103,\n",
       "         1.38576103,  1.38576103,  1.38576103,  1.38576103,  1.38576103,\n",
       "         1.38576103,  1.38576103,  1.38576103,  1.38576103,  1.38576103,\n",
       "         1.38576103,  1.38576103,  1.38576103,  1.38576103,  1.38576103,\n",
       "         1.38576103,  1.38576103,  1.38576103,  1.38576103,  1.38576103],\n",
       "       [ 1.52764896,  1.52764896,  1.52764896,  1.52764896,  1.52764896,\n",
       "         1.52764896,  1.52764896,  1.52764896,  1.52764896,  1.52764896,\n",
       "         1.52764896,  1.52764896,  1.52764896,  1.52764896,  1.52764896,\n",
       "         1.52764896,  1.52764896,  1.52764896,  1.52764896,  1.52764896,\n",
       "         1.52764896,  1.52764896,  1.52764896,  1.52764896,  1.52764896,\n",
       "         1.52764896,  1.52764896,  1.52764896,  1.52764896,  1.52764896],\n",
       "       [ 1.66953689,  1.66953689,  1.66953689,  1.66953689,  1.66953689,\n",
       "         1.66953689,  1.66953689,  1.66953689,  1.66953689,  1.66953689,\n",
       "         1.66953689,  1.66953689,  1.66953689,  1.66953689,  1.66953689,\n",
       "         1.66953689,  1.66953689,  1.66953689,  1.66953689,  1.66953689,\n",
       "         1.66953689,  1.66953689,  1.66953689,  1.66953689,  1.66953689,\n",
       "         1.66953689,  1.66953689,  1.66953689,  1.66953689,  1.66953689],\n",
       "       [ 1.81142481,  1.81142481,  1.81142481,  1.81142481,  1.81142481,\n",
       "         1.81142481,  1.81142481,  1.81142481,  1.81142481,  1.81142481,\n",
       "         1.81142481,  1.81142481,  1.81142481,  1.81142481,  1.81142481,\n",
       "         1.81142481,  1.81142481,  1.81142481,  1.81142481,  1.81142481,\n",
       "         1.81142481,  1.81142481,  1.81142481,  1.81142481,  1.81142481,\n",
       "         1.81142481,  1.81142481,  1.81142481,  1.81142481,  1.81142481],\n",
       "       [ 1.95331274,  1.95331274,  1.95331274,  1.95331274,  1.95331274,\n",
       "         1.95331274,  1.95331274,  1.95331274,  1.95331274,  1.95331274,\n",
       "         1.95331274,  1.95331274,  1.95331274,  1.95331274,  1.95331274,\n",
       "         1.95331274,  1.95331274,  1.95331274,  1.95331274,  1.95331274,\n",
       "         1.95331274,  1.95331274,  1.95331274,  1.95331274,  1.95331274,\n",
       "         1.95331274,  1.95331274,  1.95331274,  1.95331274,  1.95331274],\n",
       "       [ 2.09520067,  2.09520067,  2.09520067,  2.09520067,  2.09520067,\n",
       "         2.09520067,  2.09520067,  2.09520067,  2.09520067,  2.09520067,\n",
       "         2.09520067,  2.09520067,  2.09520067,  2.09520067,  2.09520067,\n",
       "         2.09520067,  2.09520067,  2.09520067,  2.09520067,  2.09520067,\n",
       "         2.09520067,  2.09520067,  2.09520067,  2.09520067,  2.09520067,\n",
       "         2.09520067,  2.09520067,  2.09520067,  2.09520067,  2.09520067],\n",
       "       [ 2.2370886 ,  2.2370886 ,  2.2370886 ,  2.2370886 ,  2.2370886 ,\n",
       "         2.2370886 ,  2.2370886 ,  2.2370886 ,  2.2370886 ,  2.2370886 ,\n",
       "         2.2370886 ,  2.2370886 ,  2.2370886 ,  2.2370886 ,  2.2370886 ,\n",
       "         2.2370886 ,  2.2370886 ,  2.2370886 ,  2.2370886 ,  2.2370886 ,\n",
       "         2.2370886 ,  2.2370886 ,  2.2370886 ,  2.2370886 ,  2.2370886 ,\n",
       "         2.2370886 ,  2.2370886 ,  2.2370886 ,  2.2370886 ,  2.2370886 ],\n",
       "       [ 2.37897653,  2.37897653,  2.37897653,  2.37897653,  2.37897653,\n",
       "         2.37897653,  2.37897653,  2.37897653,  2.37897653,  2.37897653,\n",
       "         2.37897653,  2.37897653,  2.37897653,  2.37897653,  2.37897653,\n",
       "         2.37897653,  2.37897653,  2.37897653,  2.37897653,  2.37897653,\n",
       "         2.37897653,  2.37897653,  2.37897653,  2.37897653,  2.37897653,\n",
       "         2.37897653,  2.37897653,  2.37897653,  2.37897653,  2.37897653],\n",
       "       [ 2.52086446,  2.52086446,  2.52086446,  2.52086446,  2.52086446,\n",
       "         2.52086446,  2.52086446,  2.52086446,  2.52086446,  2.52086446,\n",
       "         2.52086446,  2.52086446,  2.52086446,  2.52086446,  2.52086446,\n",
       "         2.52086446,  2.52086446,  2.52086446,  2.52086446,  2.52086446,\n",
       "         2.52086446,  2.52086446,  2.52086446,  2.52086446,  2.52086446,\n",
       "         2.52086446,  2.52086446,  2.52086446,  2.52086446,  2.52086446],\n",
       "       [ 2.66275238,  2.66275238,  2.66275238,  2.66275238,  2.66275238,\n",
       "         2.66275238,  2.66275238,  2.66275238,  2.66275238,  2.66275238,\n",
       "         2.66275238,  2.66275238,  2.66275238,  2.66275238,  2.66275238,\n",
       "         2.66275238,  2.66275238,  2.66275238,  2.66275238,  2.66275238,\n",
       "         2.66275238,  2.66275238,  2.66275238,  2.66275238,  2.66275238,\n",
       "         2.66275238,  2.66275238,  2.66275238,  2.66275238,  2.66275238],\n",
       "       [ 2.80464031,  2.80464031,  2.80464031,  2.80464031,  2.80464031,\n",
       "         2.80464031,  2.80464031,  2.80464031,  2.80464031,  2.80464031,\n",
       "         2.80464031,  2.80464031,  2.80464031,  2.80464031,  2.80464031,\n",
       "         2.80464031,  2.80464031,  2.80464031,  2.80464031,  2.80464031,\n",
       "         2.80464031,  2.80464031,  2.80464031,  2.80464031,  2.80464031,\n",
       "         2.80464031,  2.80464031,  2.80464031,  2.80464031,  2.80464031],\n",
       "       [ 2.94652824,  2.94652824,  2.94652824,  2.94652824,  2.94652824,\n",
       "         2.94652824,  2.94652824,  2.94652824,  2.94652824,  2.94652824,\n",
       "         2.94652824,  2.94652824,  2.94652824,  2.94652824,  2.94652824,\n",
       "         2.94652824,  2.94652824,  2.94652824,  2.94652824,  2.94652824,\n",
       "         2.94652824,  2.94652824,  2.94652824,  2.94652824,  2.94652824,\n",
       "         2.94652824,  2.94652824,  2.94652824,  2.94652824,  2.94652824],\n",
       "       [ 3.08841617,  3.08841617,  3.08841617,  3.08841617,  3.08841617,\n",
       "         3.08841617,  3.08841617,  3.08841617,  3.08841617,  3.08841617,\n",
       "         3.08841617,  3.08841617,  3.08841617,  3.08841617,  3.08841617,\n",
       "         3.08841617,  3.08841617,  3.08841617,  3.08841617,  3.08841617,\n",
       "         3.08841617,  3.08841617,  3.08841617,  3.08841617,  3.08841617,\n",
       "         3.08841617,  3.08841617,  3.08841617,  3.08841617,  3.08841617],\n",
       "       [ 3.2303041 ,  3.2303041 ,  3.2303041 ,  3.2303041 ,  3.2303041 ,\n",
       "         3.2303041 ,  3.2303041 ,  3.2303041 ,  3.2303041 ,  3.2303041 ,\n",
       "         3.2303041 ,  3.2303041 ,  3.2303041 ,  3.2303041 ,  3.2303041 ,\n",
       "         3.2303041 ,  3.2303041 ,  3.2303041 ,  3.2303041 ,  3.2303041 ,\n",
       "         3.2303041 ,  3.2303041 ,  3.2303041 ,  3.2303041 ,  3.2303041 ,\n",
       "         3.2303041 ,  3.2303041 ,  3.2303041 ,  3.2303041 ,  3.2303041 ],\n",
       "       [ 3.37219203,  3.37219203,  3.37219203,  3.37219203,  3.37219203,\n",
       "         3.37219203,  3.37219203,  3.37219203,  3.37219203,  3.37219203,\n",
       "         3.37219203,  3.37219203,  3.37219203,  3.37219203,  3.37219203,\n",
       "         3.37219203,  3.37219203,  3.37219203,  3.37219203,  3.37219203,\n",
       "         3.37219203,  3.37219203,  3.37219203,  3.37219203,  3.37219203,\n",
       "         3.37219203,  3.37219203,  3.37219203,  3.37219203,  3.37219203]])"
      ]
     },
     "execution_count": 15,
     "metadata": {},
     "output_type": "execute_result"
    }
   ],
   "source": [
    "axisx"
   ]
  },
  {
   "cell_type": "code",
   "execution_count": 16,
   "metadata": {},
   "outputs": [
    {
     "data": {
      "text/plain": [
       "(30, 30)"
      ]
     },
     "execution_count": 16,
     "metadata": {},
     "output_type": "execute_result"
    }
   ],
   "source": [
    "axisy.shape"
   ]
  },
  {
   "cell_type": "code",
   "execution_count": 17,
   "metadata": {},
   "outputs": [
    {
     "data": {
      "text/plain": [
       "(30, 30)"
      ]
     },
     "execution_count": 17,
     "metadata": {},
     "output_type": "execute_result"
    }
   ],
   "source": [
    "axisx.shape"
   ]
  },
  {
   "cell_type": "code",
   "execution_count": 18,
   "metadata": {},
   "outputs": [
    {
     "data": {
      "text/plain": [
       "(900,)"
      ]
     },
     "execution_count": 18,
     "metadata": {},
     "output_type": "execute_result"
    }
   ],
   "source": [
    "axisx.ravel().shape #ravel()是降维函数"
   ]
  },
  {
   "cell_type": "code",
   "execution_count": 19,
   "metadata": {},
   "outputs": [
    {
     "data": {
      "text/plain": [
       "(900, 2)"
      ]
     },
     "execution_count": 19,
     "metadata": {},
     "output_type": "execute_result"
    }
   ],
   "source": [
    "xy = np.vstack([axisx.ravel(), axisy.ravel()]).T #vstack能够将多个结构一致的一维数组按行堆叠起来\n",
    "xy.shape"
   ]
  },
  {
   "cell_type": "code",
   "execution_count": 20,
   "metadata": {},
   "outputs": [
    {
     "data": {
      "text/plain": [
       "<matplotlib.collections.PathCollection at 0x1d2439e2e50>"
      ]
     },
     "execution_count": 20,
     "metadata": {},
     "output_type": "execute_result"
    },
    {
     "data": {
      "image/png": "[encoded data removed]",
      "text/plain": [
       "<Figure size 432x288 with 1 Axes>"
      ]
     },
     "metadata": {
      "needs_background": "light"
     },
     "output_type": "display_data"
    }
   ],
   "source": [
    "plt.scatter(xy[:,0],xy[:,1],s=1,cmap=\"rainbow\")"
   ]
  },
  {
   "cell_type": "markdown",
   "metadata": {},
   "source": [
    "**理解meshgrid和vstack函数**"
   ]
  },
  {
   "cell_type": "code",
   "execution_count": 21,
   "metadata": {},
   "outputs": [],
   "source": [
    "a = np.array([1,2,3])\n",
    "b = np.array([7,8])\n",
    "#两两组合，会得到6个坐标，分别是(1,7),(2,7),(3,7),(1,8),(2,8),(3,8)\n",
    "v1,v2 = np.meshgrid(a,b)"
   ]
  },
  {
   "cell_type": "code",
   "execution_count": 22,
   "metadata": {},
   "outputs": [
    {
     "data": {
      "text/plain": [
       "array([[1, 2, 3],\n",
       "       [1, 2, 3]])"
      ]
     },
     "execution_count": 22,
     "metadata": {},
     "output_type": "execute_result"
    }
   ],
   "source": [
    "v1"
   ]
  },
  {
   "cell_type": "code",
   "execution_count": 23,
   "metadata": {},
   "outputs": [
    {
     "data": {
      "text/plain": [
       "array([[7, 7, 7],\n",
       "       [8, 8, 8]])"
      ]
     },
     "execution_count": 23,
     "metadata": {},
     "output_type": "execute_result"
    }
   ],
   "source": [
    "v2"
   ]
  },
  {
   "cell_type": "code",
   "execution_count": 24,
   "metadata": {},
   "outputs": [
    {
     "data": {
      "text/plain": [
       "array([1, 2, 3, 1, 2, 3])"
      ]
     },
     "execution_count": 24,
     "metadata": {},
     "output_type": "execute_result"
    }
   ],
   "source": [
    "v1.ravel()"
   ]
  },
  {
   "cell_type": "code",
   "execution_count": 25,
   "metadata": {},
   "outputs": [
    {
     "data": {
      "text/plain": [
       "array([7, 7, 7, 8, 8, 8])"
      ]
     },
     "execution_count": 25,
     "metadata": {},
     "output_type": "execute_result"
    }
   ],
   "source": [
    "v2.ravel()"
   ]
  },
  {
   "cell_type": "code",
   "execution_count": 26,
   "metadata": {},
   "outputs": [
    {
     "data": {
      "text/plain": [
       "array([[1, 2, 3, 1, 2, 3],\n",
       "       [7, 7, 7, 8, 8, 8]])"
      ]
     },
     "execution_count": 26,
     "metadata": {},
     "output_type": "execute_result"
    }
   ],
   "source": [
    "np.vstack([v1.ravel(), v2.ravel()])"
   ]
  },
  {
   "cell_type": "code",
   "execution_count": 27,
   "metadata": {},
   "outputs": [
    {
     "data": {
      "text/plain": [
       "array([[1, 7],\n",
       "       [2, 7],\n",
       "       [3, 7],\n",
       "       [1, 8],\n",
       "       [2, 8],\n",
       "       [3, 8]])"
      ]
     },
     "execution_count": 27,
     "metadata": {},
     "output_type": "execute_result"
    }
   ],
   "source": [
    "v = np.vstack([v1.ravel(), v2.ravel()]).T\n",
    "v"
   ]
  },
  {
   "cell_type": "markdown",
   "metadata": {},
   "source": [
    "## （四）建模，计算决策边界并找出网格上每个点到决策边界的距离"
   ]
  },
  {
   "cell_type": "code",
   "execution_count": 28,
   "metadata": {},
   "outputs": [],
   "source": [
    "clf = SVC(kernel = 'linear').fit(X,y)\n",
    "Z = clf.decision_function(xy).reshape(axisx.shape) #接口decision_function，返回每个输入样本到决策边界的距离"
   ]
  },
  {
   "cell_type": "code",
   "execution_count": 29,
   "metadata": {},
   "outputs": [
    {
     "data": {
      "text/plain": [
       "(30, 30)"
      ]
     },
     "execution_count": 29,
     "metadata": {},
     "output_type": "execute_result"
    }
   ],
   "source": [
    "Z.shape"
   ]
  },
  {
   "cell_type": "code",
   "execution_count": 30,
   "metadata": {},
   "outputs": [
    {
     "data": {
      "text/plain": [
       "(30, 30)"
      ]
     },
     "execution_count": 30,
     "metadata": {},
     "output_type": "execute_result"
    }
   ],
   "source": [
    "axisx.shape"
   ]
  },
  {
   "cell_type": "code",
   "execution_count": 31,
   "metadata": {},
   "outputs": [
    {
     "data": {
      "text/plain": [
       "(-0.41872382476349596, 5.754870487889891)"
      ]
     },
     "execution_count": 31,
     "metadata": {},
     "output_type": "execute_result"
    },
    {
     "data": {
      "image/png": "[encoded data removed]",
      "text/plain": [
       "<Figure size 432x288 with 1 Axes>"
      ]
     },
     "metadata": {
      "needs_background": "light"
     },
     "output_type": "display_data"
    }
   ],
   "source": [
    "#画决策边界和平行于决策边界的超平面\n",
    "plt.scatter(X[:,0],X[:,1],c=y,s=50,cmap=\"rainbow\")\n",
    "ax = plt.gca()\n",
    "\n",
    "ax.contour(axisx,axisy,Z\n",
    "          ,colors='k'\n",
    "          ,levels=[-1,0,1] #画三条等高线，分别是Z为-1，Z为0和Z为1的三条线\n",
    "          ,alpha=0.5\n",
    "          ,linestyles=['--','-','--'])\n",
    "ax.set_xlim(xlim)\n",
    "ax.set_ylim(ylim)"
   ]
  },
  {
   "cell_type": "code",
   "execution_count": 32,
   "metadata": {},
   "outputs": [
    {
     "data": {
      "text/plain": [
       "(50, 2)"
      ]
     },
     "execution_count": 32,
     "metadata": {},
     "output_type": "execute_result"
    }
   ],
   "source": [
    "X.shape"
   ]
  },
  {
   "cell_type": "code",
   "execution_count": 33,
   "metadata": {},
   "outputs": [
    {
     "data": {
      "text/plain": [
       "<matplotlib.collections.PathCollection at 0x1d244262ac0>"
      ]
     },
     "execution_count": 33,
     "metadata": {},
     "output_type": "execute_result"
    },
    {
     "data": {
      "image/png": "[encoded data removed]",
      "text/plain": [
       "<Figure size 432x288 with 1 Axes>"
      ]
     },
     "metadata": {
      "needs_background": "light"
     },
     "output_type": "display_data"
    }
   ],
   "source": [
    "#以某个点为例\n",
    "plt.scatter(X[:,0],X[:,1],c=y,s=50,cmap='rainbow')\n",
    "plt.scatter(X[10,0],X[10,1],c='black',s=50,cmap='rainbow')"
   ]
  },
  {
   "cell_type": "code",
   "execution_count": 34,
   "metadata": {},
   "outputs": [
    {
     "data": {
      "text/plain": [
       "array([-3.33917354])"
      ]
     },
     "execution_count": 34,
     "metadata": {},
     "output_type": "execute_result"
    }
   ],
   "source": [
    "#黑色点到决策边界的距离\n",
    "clf.decision_function(X[10].reshape(1,2))"
   ]
  },
  {
   "cell_type": "code",
   "execution_count": 35,
   "metadata": {},
   "outputs": [
    {
     "data": {
      "text/plain": [
       "<matplotlib.contour.QuadContourSet at 0x1d2442c0910>"
      ]
     },
     "execution_count": 35,
     "metadata": {},
     "output_type": "execute_result"
    },
    {
     "data": {
      "image/png": "[encoded data removed]",
      "text/plain": [
       "<Figure size 432x288 with 1 Axes>"
      ]
     },
     "metadata": {
      "needs_background": "light"
     },
     "output_type": "display_data"
    }
   ],
   "source": [
    "plt.scatter(X[:,0],X[:,1],c=y,s=50,cmap='rainbow')\n",
    "ax = plt.gca()\n",
    "ax.contour(axisx,axisy,Z\n",
    "          ,colors='k'\n",
    "          ,levels=[-3.33917354]\n",
    "          ,alpha=0.5\n",
    "          ,linestyles=['--'])"
   ]
  },
  {
   "cell_type": "markdown",
   "metadata": {},
   "source": [
    "## （五）将绘图过程包装成函数"
   ]
  },
  {
   "cell_type": "code",
   "execution_count": 36,
   "metadata": {},
   "outputs": [],
   "source": [
    "def plot_svc_decision_function(model,ax=None):\n",
    "    if ax is None:\n",
    "        ax = plt.gca()\n",
    "    xlim = ax.get_xlim()\n",
    "    ylim = ax.get_ylim()\n",
    "    \n",
    "    x = np.linspace(xlim[0],xlim[1],30)\n",
    "    y = np.linspace(ylim[0],ylim[1],30)\n",
    "    Y,X = np.meshgrid(y,x) \n",
    "    xy = np.vstack([X.ravel(), Y.ravel()]).T\n",
    "    P = model.decision_function(xy).reshape(X.shape)\n",
    "    \n",
    "    ax.contour(X, Y, P,colors=\"k\",levels=[-1,0,1],alpha=0.5,linestyles=[\"--\",\"-\",\"--\"]) \n",
    "    ax.set_xlim(xlim)\n",
    "    ax.set_ylim(ylim)"
   ]
  },
  {
   "cell_type": "code",
   "execution_count": 37,
   "metadata": {},
   "outputs": [
    {
     "data": {
      "image/png": "[encoded data removed]",
      "text/plain": [
       "<Figure size 432x288 with 1 Axes>"
      ]
     },
     "metadata": {
      "needs_background": "light"
     },
     "output_type": "display_data"
    }
   ],
   "source": [
    "#则整个绘图过程可以写作：\n",
    "clf = SVC(kernel = \"linear\").fit(X,y)\n",
    "plt.scatter(X[:,0],X[:,1],c=y,s=50,cmap=\"rainbow\")\n",
    "plot_svc_decision_function(clf)"
   ]
  },
  {
   "cell_type": "markdown",
   "metadata": {},
   "source": [
    "## （六）探索建好的模型"
   ]
  },
  {
   "cell_type": "code",
   "execution_count": 38,
   "metadata": {},
   "outputs": [
    {
     "data": {
      "text/plain": [
       "array([1, 1, 0, 0, 1, 1, 1, 1, 1, 0, 0, 0, 0, 1, 0, 0, 0, 1, 0, 0, 1, 1,\n",
       "       1, 1, 1, 0, 0, 0, 1, 0, 1, 0, 0, 0, 0, 1, 1, 0, 1, 0, 1, 0, 1, 1,\n",
       "       0, 1, 1, 0, 1, 0])"
      ]
     },
     "execution_count": 38,
     "metadata": {},
     "output_type": "execute_result"
    }
   ],
   "source": [
    "clf.predict(X)\n",
    "#根据决策边界，对X中的样本进行分类，返回的结构为n_samples"
   ]
  },
  {
   "cell_type": "code",
   "execution_count": 39,
   "metadata": {},
   "outputs": [
    {
     "data": {
      "text/plain": [
       "1.0"
      ]
     },
     "execution_count": 39,
     "metadata": {},
     "output_type": "execute_result"
    }
   ],
   "source": [
    "clf.score(X,y)\n",
    "#返回给定测试数据和标签的平均准确度，本例没有分测试集和训练集"
   ]
  },
  {
   "cell_type": "code",
   "execution_count": 40,
   "metadata": {},
   "outputs": [
    {
     "data": {
      "text/plain": [
       "array([[0.44359863, 3.11530945],\n",
       "       [2.33812285, 3.43116792],\n",
       "       [2.06156753, 1.96918596]])"
      ]
     },
     "execution_count": 40,
     "metadata": {},
     "output_type": "execute_result"
    }
   ],
   "source": [
    "clf.support_vectors_\n",
    "#返回支持向量，虚线上的3个点"
   ]
  },
  {
   "cell_type": "code",
   "execution_count": 41,
   "metadata": {},
   "outputs": [
    {
     "data": {
      "text/plain": [
       "array([2, 1])"
      ]
     },
     "execution_count": 41,
     "metadata": {},
     "output_type": "execute_result"
    }
   ],
   "source": [
    "clf.n_support_\n",
    "#返回每个类中支持向量的个数，紫色类中2个支持向量，红色类中1个支持向量"
   ]
  },
  {
   "cell_type": "markdown",
   "metadata": {},
   "source": [
    "## （七）推广到非线性情况（以环形数据为例）"
   ]
  },
  {
   "cell_type": "code",
   "execution_count": 42,
   "metadata": {},
   "outputs": [],
   "source": [
    "from sklearn.datasets import make_circles\n",
    "X,y = make_circles(100, factor=0.1, noise=0.1) #100个样本"
   ]
  },
  {
   "cell_type": "code",
   "execution_count": 43,
   "metadata": {},
   "outputs": [
    {
     "data": {
      "text/plain": [
       "(100, 2)"
      ]
     },
     "execution_count": 43,
     "metadata": {},
     "output_type": "execute_result"
    }
   ],
   "source": [
    "X.shape"
   ]
  },
  {
   "cell_type": "code",
   "execution_count": 44,
   "metadata": {},
   "outputs": [
    {
     "data": {
      "text/plain": [
       "(100,)"
      ]
     },
     "execution_count": 44,
     "metadata": {},
     "output_type": "execute_result"
    }
   ],
   "source": [
    "y.shape"
   ]
  },
  {
   "cell_type": "code",
   "execution_count": 45,
   "metadata": {
    "scrolled": true
   },
   "outputs": [
    {
     "data": {
      "image/png": "[encoded data removed]",
      "text/plain": [
       "<Figure size 432x288 with 1 Axes>"
      ]
     },
     "metadata": {
      "needs_background": "light"
     },
     "output_type": "display_data"
    }
   ],
   "source": [
    "plt.scatter(X[:,0],X[:,1],c=y,s=50,cmap=\"rainbow\")\n",
    "plt.show()"
   ]
  },
  {
   "cell_type": "code",
   "execution_count": 46,
   "metadata": {},
   "outputs": [
    {
     "data": {
      "image/png": "[encoded data removed]",
      "text/plain": [
       "<Figure size 432x288 with 1 Axes>"
      ]
     },
     "metadata": {
      "needs_background": "light"
     },
     "output_type": "display_data"
    }
   ],
   "source": [
    "clf = SVC(kernel = \"linear\").fit(X,y)\n",
    "plt.scatter(X[:,0],X[:,1],c=y,s=50,cmap=\"rainbow\")\n",
    "plot_svc_decision_function(clf)"
   ]
  },
  {
   "cell_type": "code",
   "execution_count": 47,
   "metadata": {},
   "outputs": [
    {
     "data": {
      "text/plain": [
       "0.69"
      ]
     },
     "execution_count": 47,
     "metadata": {},
     "output_type": "execute_result"
    }
   ],
   "source": [
    "clf.score(X,y)"
   ]
  },
  {
   "cell_type": "markdown",
   "metadata": {},
   "source": [
    "线性SVM已经不适合目前的状况了，即无法找出一条直线来划分数据集，让直线的两边分别是两种类别。这个时候，如果能够在原本的X和y的基础上，添加一个维度r，变成三维，我们可视化这个数据，来看看添加维度让数据如何变化。"
   ]
  },
  {
   "cell_type": "markdown",
   "metadata": {},
   "source": [
    "## （八）为非线性数据增加维度并绘制3D图像"
   ]
  },
  {
   "cell_type": "code",
   "execution_count": 48,
   "metadata": {},
   "outputs": [
    {
     "data": {
      "text/plain": [
       "(100,)"
      ]
     },
     "execution_count": 48,
     "metadata": {},
     "output_type": "execute_result"
    }
   ],
   "source": [
    "#定义一个由x计算出来的新维度r\n",
    "r = np.exp(-(X**2).sum(1)) #底数是e，指数是负的x平方再求和\n",
    "rlim = np.linspace(min(r),max(r),100) #步长0.2\n",
    "r.shape"
   ]
  },
  {
   "cell_type": "code",
   "execution_count": 49,
   "metadata": {},
   "outputs": [
    {
     "data": {
      "text/plain": [
       "(100,)"
      ]
     },
     "execution_count": 49,
     "metadata": {},
     "output_type": "execute_result"
    }
   ],
   "source": [
    "rlim.shape"
   ]
  },
  {
   "cell_type": "code",
   "execution_count": 50,
   "metadata": {},
   "outputs": [
    {
     "data": {
      "text/plain": [
       "array([0.2473111 , 0.25491373, 0.26251637, 0.27011901, 0.27772165,\n",
       "       0.28532429, 0.29292693, 0.30052957, 0.30813221, 0.31573484,\n",
       "       0.32333748, 0.33094012, 0.33854276, 0.3461454 , 0.35374804,\n",
       "       0.36135068, 0.36895332, 0.37655596, 0.38415859, 0.39176123,\n",
       "       0.39936387, 0.40696651, 0.41456915, 0.42217179, 0.42977443,\n",
       "       0.43737707, 0.4449797 , 0.45258234, 0.46018498, 0.46778762,\n",
       "       0.47539026, 0.4829929 , 0.49059554, 0.49819818, 0.50580082,\n",
       "       0.51340345, 0.52100609, 0.52860873, 0.53621137, 0.54381401,\n",
       "       0.55141665, 0.55901929, 0.56662193, 0.57422456, 0.5818272 ,\n",
       "       0.58942984, 0.59703248, 0.60463512, 0.61223776, 0.6198404 ,\n",
       "       0.62744304, 0.63504568, 0.64264831, 0.65025095, 0.65785359,\n",
       "       0.66545623, 0.67305887, 0.68066151, 0.68826415, 0.69586679,\n",
       "       0.70346942, 0.71107206, 0.7186747 , 0.72627734, 0.73387998,\n",
       "       0.74148262, 0.74908526, 0.7566879 , 0.76429054, 0.77189317,\n",
       "       0.77949581, 0.78709845, 0.79470109, 0.80230373, 0.80990637,\n",
       "       0.81750901, 0.82511165, 0.83271428, 0.84031692, 0.84791956,\n",
       "       0.8555222 , 0.86312484, 0.87072748, 0.87833012, 0.88593276,\n",
       "       0.8935354 , 0.90113803, 0.90874067, 0.91634331, 0.92394595,\n",
       "       0.93154859, 0.93915123, 0.94675387, 0.95435651, 0.96195914,\n",
       "       0.96956178, 0.97716442, 0.98476706, 0.9923697 , 0.99997234])"
      ]
     },
     "execution_count": 50,
     "metadata": {},
     "output_type": "execute_result"
    }
   ],
   "source": [
    "rlim"
   ]
  },
  {
   "cell_type": "code",
   "execution_count": 51,
   "metadata": {},
   "outputs": [
    {
     "data": {
      "image/png": "[encoded data removed]",
      "text/plain": [
       "<Figure size 432x288 with 1 Axes>"
      ]
     },
     "metadata": {
      "needs_background": "light"
     },
     "output_type": "display_data"
    }
   ],
   "source": [
    "from mpl_toolkits import mplot3d #画3D图像\n",
    "\n",
    "#定义一个绘制三维图像的函数\n",
    "#elev表示上下旋转的角度\n",
    "#azim表示平行旋转的角度\n",
    "def plot_3D(elev=30,azim=30,X=X,y=y):\n",
    "    ax = plt.subplot(projection='3d') #建立画3D图的子图，必须导入mplot3d，否则没有3d的参数值\n",
    "    ax.scatter3D(X[:,0],X[:,1],r,c=y,s=50,cmap='rainbow')\n",
    "    ax.view_init(elev=elev,azim=azim)\n",
    "    ax.set_xlabel('x')\n",
    "    ax.set_ylabel('y')\n",
    "    ax.set_zlabel('r')\n",
    "    plt.show()\n",
    "    \n",
    "plot_3D()"
   ]
  },
  {
   "cell_type": "markdown",
   "metadata": {},
   "source": [
    "此时的数据明显是线性可分的了：可以使用一个平面将数据完全分开，并使平面上方的所有数据点为一类，平面下方的所有数据点为另一类。"
   ]
  },
  {
   "cell_type": "markdown",
   "metadata": {},
   "source": [
    "## （九）将上述过程放到Jupyter Notebook中运行"
   ]
  },
  {
   "cell_type": "code",
   "execution_count": 54,
   "metadata": {},
   "outputs": [
    {
     "data": {
      "image/png": "[encoded data removed]",
      "text/plain": [
       "<Figure size 432x288 with 1 Axes>"
      ]
     },
     "metadata": {
      "needs_background": "light"
     },
     "output_type": "display_data"
    },
    {
     "data": {
      "application/vnd.jupyter.widget-view+json": {
       "model_id": "695a519a0dab4ab48b1b6f61b7e359c2",
       "version_major": 2,
       "version_minor": 0
      },
      "text/plain": [
       "interactive(children=(Dropdown(description='elev', index=1, options=(0, 30, 60, 90, 120), value=30), IntSlider…"
      ]
     },
     "metadata": {},
     "output_type": "display_data"
    }
   ],
   "source": [
    "from sklearn.svm import SVC\n",
    "import matplotlib.pyplot as plt\n",
    "import numpy as np\n",
    "from sklearn.datasets import make_circles\n",
    "X,y = make_circles(100, factor=0.1, noise=.1)\n",
    "plt.scatter(X[:,0],X[:,1],c=y,s=50,cmap=\"rainbow\")\n",
    "def plot_svc_decision_function(model,ax=None):\n",
    "    if ax is None:\n",
    "        ax = plt.gca()\n",
    "    xlim = ax.get_xlim()\n",
    "    ylim = ax.get_ylim()\n",
    "    \n",
    "    x = np.linspace(xlim[0],xlim[1],30)\n",
    "    y = np.linspace(ylim[0],ylim[1],30)\n",
    "    Y,X = np.meshgrid(y,x) \n",
    "    xy = np.vstack([X.ravel(), Y.ravel()]).T\n",
    "    P = model.decision_function(xy).reshape(X.shape)\n",
    "    \n",
    "    ax.contour(X, Y, P,colors=\"k\",levels=[-1,0,1],alpha=0.5,linestyles=[\"--\",\"-\",\"--\"])\n",
    "    ax.set_xlim(xlim)\n",
    "    ax.set_ylim(ylim)\n",
    "clf = SVC(kernel = \"linear\").fit(X,y)\n",
    "plt.scatter(X[:,0],X[:,1],c=y,s=50,cmap=\"rainbow\")\n",
    "plot_svc_decision_function(clf)\n",
    "r = np.exp(-(X**2).sum(1))\n",
    "rlim = np.linspace(min(r),max(r),100)\n",
    "from mpl_toolkits import mplot3d\n",
    "def plot_3D(elev=30,azim=30,X=X,y=y):\n",
    "    ax = plt.subplot(projection=\"3d\")\n",
    "    ax.scatter3D(X[:,0],X[:,1],r,c=y,s=50,cmap='rainbow')\n",
    "    ax.view_init(elev=elev,azim=azim)\n",
    "    ax.set_xlabel(\"x\")\n",
    "    ax.set_ylabel(\"y\")\n",
    "    ax.set_zlabel(\"r\")\n",
    "    plt.show()\n",
    "from ipywidgets import interact,fixed #jupyter notebook独有的\n",
    "interact(plot_3D,elev=[0,30,60,90,120],azip=(-180,180),X=fixed(X),y=fixed(y)) #elev=90是俯视\n",
    "plt.show()"
   ]
  }
 ],
 "metadata": {
  "kernelspec": {
   "display_name": "Python 3",
   "language": "python",
   "name": "python3"
  },
  "language_info": {
   "codemirror_mode": {
    "name": "ipython",
    "version": 3
   },
   "file_extension": ".py",
   "mimetype": "text/x-python",
   "name": "python",
   "nbconvert_exporter": "python",
   "pygments_lexer": "ipython3",
   "version": "3.8.3"
  }
 },
 "nbformat": 4,
 "nbformat_minor": 4
}
